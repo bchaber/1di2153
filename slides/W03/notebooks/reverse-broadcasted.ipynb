{
 "cells": [
  {
   "cell_type": "code",
   "execution_count": 2,
   "metadata": {},
   "outputs": [],
   "source": [
    "abstract type Node end\n",
    "abstract type Operator end\n",
    "abstract type LeafNode <: Node end"
   ]
  },
  {
   "cell_type": "code",
   "execution_count": 3,
   "metadata": {},
   "outputs": [],
   "source": [
    "mutable struct Variable{T} <: LeafNode\n",
    "    value::T\n",
    "    grad::T\n",
    "    Variable(val::T) where T          = new{T}(val, zero(val))\n",
    "    Variable(val::T, grad::T) where T = new{T}(val, grad)\n",
    "end"
   ]
  },
  {
   "cell_type": "code",
   "execution_count": 4,
   "metadata": {},
   "outputs": [],
   "source": [
    "struct Method{OT} <: Operator\n",
    "    f::OT\n",
    "end\n",
    "\n",
    "struct Broadcasted{OT} <: Operator\n",
    "    f::OT\n",
    "end"
   ]
  },
  {
   "cell_type": "code",
   "execution_count": 5,
   "metadata": {},
   "outputs": [
    {
     "data": {
      "text/plain": [
       "ComputableNode"
      ]
     },
     "execution_count": 5,
     "metadata": {},
     "output_type": "execute_result"
    }
   ],
   "source": [
    "struct ComputableNode{OT <: Operator, AT <: Tuple, KT <: NamedTuple} <: Node\n",
    "    op::OT\n",
    "    args::AT\n",
    "    kwargs::KT\n",
    "end\n",
    "ComputableNode(op::Function, args, kwargs) = ComputableNode(Method(op), args, kwargs)\n",
    "ComputableNode(op, args)                   = ComputableNode(op, args, NamedTuple())"
   ]
  },
  {
   "cell_type": "code",
   "execution_count": 6,
   "metadata": {},
   "outputs": [
    {
     "data": {
      "text/plain": [
       "CachedNode"
      ]
     },
     "execution_count": 6,
     "metadata": {},
     "output_type": "execute_result"
    }
   ],
   "source": [
    "mutable struct CachedNode{NT <: Node, OUT} <: Node\n",
    "    node::NT\n",
    "    out::OUT\n",
    "end\n",
    "\n",
    "function CachedNode(op, args...; kwargs...)\n",
    "    node = ComputableNode(op, args, kwargs.data)\n",
    "    out  = forward(node)\n",
    "    CachedNode(node, out)\n",
    "end"
   ]
  },
  {
   "cell_type": "code",
   "execution_count": 7,
   "metadata": {},
   "outputs": [
    {
     "data": {
      "text/plain": [
       "operator (generic function with 2 methods)"
      ]
     },
     "execution_count": 7,
     "metadata": {},
     "output_type": "execute_result"
    }
   ],
   "source": [
    "arg(x::ComputableNode, i::Int) = x.args[i]\n",
    "args(x::ComputableNode) = x.args\n",
    "kwargs(x::ComputableNode) = x.kwargs\n",
    "operator(x::ComputableNode) = x.f\n",
    "\n",
    "arg(x::CachedNode, i::Int) = x.node.args[i]\n",
    "args(x::CachedNode) = x.node.args\n",
    "kwargs(x::CachedNode) = x.node.kwargs\n",
    "operator(x::CachedNode) = x.node.f"
   ]
  },
  {
   "cell_type": "code",
   "execution_count": 8,
   "metadata": {},
   "outputs": [],
   "source": [
    "import Base: show\n",
    "show(io::IO, x::Method)         = print(io, \"fn \",  x.f);\n",
    "show(io::IO, x::Operator)       = print(io, \"op \",  x.f);\n",
    "show(io::IO, x::Variable)       = print(io, \"var \", x.value);\n",
    "show(io::IO, x::CachedNode)     = print(io, \"{cached (\", x.node, \") => \", x.out, \"}\");\n",
    "show(io::IO, x::ComputableNode) = print(io, \"[\", x.op, \"](\", x.args, \")\");"
   ]
  },
  {
   "cell_type": "code",
   "execution_count": 9,
   "metadata": {},
   "outputs": [
    {
     "data": {
      "text/plain": [
       "forward (generic function with 7 methods)"
      ]
     },
     "execution_count": 9,
     "metadata": {},
     "output_type": "execute_result"
    }
   ],
   "source": [
    "forward(x) = x\n",
    "forward(leaf::LeafNode) = value(leaf)\n",
    "forward(node::ComputableNode) = forward(node.op, map(forward, node.args)...; map(forward, node.kwargs)...)\n",
    "forward(cached::CachedNode) = (cached.out = forward(cached.node))\n",
    "forward(op::Broadcasted, args...) = Broadcast.broadcasted(op.f, args...)\n",
    "forward(op::Operator, args...; kwargs...) = op.f(args...; kwargs...)\n",
    "forward(x::NT) where {NT <: Node} = error(\"forward method is not implemented for node type: $NT\")"
   ]
  },
  {
   "cell_type": "code",
   "execution_count": 10,
   "metadata": {},
   "outputs": [
    {
     "data": {
      "text/plain": [
       "value (generic function with 4 methods)"
      ]
     },
     "execution_count": 10,
     "metadata": {},
     "output_type": "execute_result"
    }
   ],
   "source": [
    "value(x) = x\n",
    "value(x::Variable) = x.value\n",
    "value(x::CachedNode) = value(x.out)\n",
    "value(x::T) where {T <: Node} = error(\"Expected value in this node $x of type $T\n",
    " check if you defined a non-cached node\n",
    " or overload value function for your node.\")"
   ]
  },
  {
   "cell_type": "code",
   "execution_count": 11,
   "metadata": {},
   "outputs": [
    {
     "data": {
      "text/plain": [
       "backward (generic function with 7 methods)"
      ]
     },
     "execution_count": 11,
     "metadata": {},
     "output_type": "execute_result"
    }
   ],
   "source": [
    "function backward(x::Variable, grad)\n",
    "    if isdefined(x, :grad)\n",
    "        x.grad+= grad\n",
    "    else\n",
    "        x.grad = grad\n",
    "    end\n",
    "    nothing\n",
    "end\n",
    "\n",
    "function backward(node::CachedNode, f, grad)\n",
    "    grad_inputs = gradient(node, grad)\n",
    "    for (each, each_grad) in zip(args(node), grad_inputs)\n",
    "        backward(each, each_grad)\n",
    "    end\n",
    "    nothing\n",
    "end\n",
    "\n",
    "function backward(cached::CachedNode, op::Broadcasted, grad)\n",
    "    grad_inputs = gradient(cached, grad)\n",
    "    for (each, each_grad) in zip(args(cached), grad_inputs)\n",
    "        backward(each, each_grad)\n",
    "    end\n",
    "    nothing\n",
    "end\n",
    "\n",
    "backward(cached::CachedNode) = backward(cached, 1.0)\n",
    "backward(cached::CachedNode, grad) = backward(cached, cached.node.op, grad)\n",
    "backward(cached::CachedNode, op::Method, grad) = backward(cached, op.f, grad)\n",
    "backward(cached::CachedNode, ::typeof(Broadcast.materialize), grad) = backward(arg(cached, 1), grad)"
   ]
  },
  {
   "cell_type": "code",
   "execution_count": 12,
   "metadata": {},
   "outputs": [
    {
     "data": {
      "text/plain": [
       "gradient (generic function with 3 methods)"
      ]
     },
     "execution_count": 12,
     "metadata": {},
     "output_type": "execute_result"
    }
   ],
   "source": [
    "gradient(x::CachedNode, grad) = gradient(x.node.op, grad, x.out, map(value, x.node.args)...; map(value, x.node.kwargs)...)\n",
    "gradient(x::Operator,   grad, out, args...; kwargs...) = gradient(x.f, grad, out, args...; kwargs...)\n",
    "gradient(op, grad, out, args...; kwargs...) = error(\"gradient of operator $op is not defined\\n\n",
    " Possible Fix:\\n\n",
    " define one of the following:\\n\n",
    " 1. gradient(::typeof($op), grad, out, args...; kwargs...)\\n\n",
    " 2. gradient(op::Method{typeof($op)}, grad, out, args...; kwargs...)\\n\n",
    " 3. gradient(op::Broadcasted{typeof($op)}, grad, out, args...; kwargs...)\\n\")"
   ]
  },
  {
   "cell_type": "code",
   "execution_count": 13,
   "metadata": {},
   "outputs": [
    {
     "data": {
      "text/plain": [
       "gradient (generic function with 9 methods)"
      ]
     },
     "execution_count": 13,
     "metadata": {},
     "output_type": "execute_result"
    }
   ],
   "source": [
    "import Base: +, -, *, /\n",
    "+(x::Node) = CachedNode(+, x)\n",
    "-(x::Node) = CachedNode(-, x)\n",
    "gradient(::typeof(+), grad, output, x) = (grad * 1, )\n",
    "gradient(::typeof(-), grad, output, x) = (grad *-1, )\n",
    "+(x::Node, y::Node) = CachedNode(+, x, y)\n",
    "-(x::Node, y::Node) = CachedNode(-, x, y)\n",
    "*(x::Node, y::Node) = CachedNode(*, x, y)\n",
    "/(x::Node, y::Node) = CachedNode(/, x, y)\n",
    "gradient(::typeof(+), grad, output, x, y) = (grad * one(x),   grad * one(y))\n",
    "gradient(::typeof(-), grad, output, x, y) = (grad * one(x),   grad *-one(y))\n",
    "gradient(::typeof(*), grad, output, x, y) = (grad * y,        grad * x)\n",
    "gradient(::typeof(/), grad, output, x, y) = (grad * one(x)/y, grad *-x/y/y)"
   ]
  },
  {
   "cell_type": "code",
   "execution_count": 14,
   "metadata": {},
   "outputs": [
    {
     "data": {
      "text/plain": [
       "gradient (generic function with 15 methods)"
      ]
     },
     "execution_count": 14,
     "metadata": {},
     "output_type": "execute_result"
    }
   ],
   "source": [
    "import Base: abs, sin, cos, tan, exp, sqrt, isless\n",
    "abs(x::Node)  = CachedNode(abs, x)\n",
    "sin(x::Node)  = CachedNode(sin, x)\n",
    "cos(x::Node)  = CachedNode(cos, x)\n",
    "tan(x::Node)  = CachedNode(tan, x)\n",
    "exp(x::Node)  = CachedNode(exp, x)\n",
    "sqrt(x::Node) = CachedNode(sqrt, x)\n",
    "isless(x::Node, y::Node) = isless(value(x), value(y))\n",
    "gradient(::typeof(abs), grad, output, x)  = (grad * sign(x), )\n",
    "gradient(::typeof(sin), grad, output, x)  = (grad * cos(x), )\n",
    "gradient(::typeof(cos), grad, output, x)  = (grad *-sin(x), )\n",
    "gradient(::typeof(tan), grad, output, x)  = (grad *(tan(x)^2 + 1), )\n",
    "gradient(::typeof(exp), grad, output, x)  = (grad * exp(x), )\n",
    "gradient(::typeof(sqrt), grad, output, x) = (grad * 0.5/sqrt(x), )"
   ]
  },
  {
   "cell_type": "code",
   "execution_count": 15,
   "metadata": {},
   "outputs": [
    {
     "data": {
      "text/plain": [
       "promote_rule (generic function with 123 methods)"
      ]
     },
     "execution_count": 15,
     "metadata": {},
     "output_type": "execute_result"
    }
   ],
   "source": [
    "import Base: convert, promote_rule\n",
    "convert(::Type{Variable{T}}, x::Number) where T   = Variable(convert(T, x))\n",
    "convert(::Type{Variable{T}}, x::Variable) where T = Variable(convert(T, x.value), convert(T, x.grad))\n",
    "promote_rule(::Type{Variable{T}}, ::Type{R}) where {T,R} = Variable{promote_type(R,T)}"
   ]
  },
  {
   "cell_type": "code",
   "execution_count": 16,
   "metadata": {},
   "outputs": [],
   "source": [
    "struct ComputGraphStyle <: Broadcast.BroadcastStyle end\n",
    "Base.BroadcastStyle(::Type{<:Node}) = ComputGraphStyle()\n",
    "Broadcast.BroadcastStyle(s::ComputGraphStyle, x::Broadcast.BroadcastStyle) = s\n",
    "Broadcast.broadcasted(::ComputGraphStyle, f, args...) = CachedNode(Broadcasted(f), args...)\n",
    "Broadcast.broadcastable(x::Node) = x\n",
    "Broadcast.materialize(x::Node) = CachedNode(Broadcast.materialize, x)\n",
    "Base.similar(x::Node)                                      = Variable(similar(value(x)))\n",
    "Base.similar(x::Node, dims::Dims)                          = Variable(similar(value(x), dims))\n",
    "Base.similar(x::Node, eltype::Type{S}, dims::Dims) where S = Variable(similar(value(x), eltype, dims))"
   ]
  },
  {
   "cell_type": "code",
   "execution_count": 17,
   "metadata": {},
   "outputs": [
    {
     "data": {
      "text/plain": [
       "gradient (generic function with 27 methods)"
      ]
     },
     "execution_count": 17,
     "metadata": {},
     "output_type": "execute_result"
    }
   ],
   "source": [
    "gradient(::Broadcasted{typeof(+)}, grad, output, x)    = @. (grad * 1, )\n",
    "gradient(::Broadcasted{typeof(-)}, grad, output, x)    = @. (grad *-1, )\n",
    "gradient(::Broadcasted{typeof(+)}, grad, output, x, y) = @. (grad * one(x),   grad * one(y))\n",
    "gradient(::Broadcasted{typeof(-)}, grad, output, x, y) = @. (grad * one(x),   grad *-one(y))\n",
    "gradient(::Broadcasted{typeof(*)}, grad, output, x, y) = @. (grad * y,        grad * x)\n",
    "gradient(::Broadcasted{typeof(/)}, grad, output, x, y) = @. (grad * one(x)/y, grad *-x/y/y)\n",
    "gradient(::Broadcasted{typeof(abs)}, grad, output, x)  = @. (grad * sign(x), )\n",
    "gradient(::Broadcasted{typeof(sin)}, grad, output, x)  = @. (grad *  cos(x),  )\n",
    "gradient(::Broadcasted{typeof(cos)}, grad, output, x)  = @. (grad * -sin(x), )\n",
    "gradient(::Broadcasted{typeof(tan)}, grad, output, x)  = @. (grad * (tan(x)^2 + 1), )\n",
    "gradient(::Broadcasted{typeof(exp)}, grad, output, x)  = @. (grad *  exp(x), )\n",
    "gradient(::Broadcasted{typeof(sqrt)}, grad, output, x) = @. (grad *.5/sqrt(x), )"
   ]
  },
  {
   "cell_type": "code",
   "execution_count": 18,
   "metadata": {},
   "outputs": [
    {
     "name": "stdout",
     "output_type": "stream",
     "text": [
      "x.grad = 1.0806046117362795\n"
     ]
    }
   ],
   "source": [
    "x = Variable(1.0)\n",
    "z = sin(x*x)\n",
    "backward(z)\n",
    "@show x.grad;"
   ]
  },
  {
   "cell_type": "code",
   "execution_count": 19,
   "metadata": {},
   "outputs": [
    {
     "name": "stdout",
     "output_type": "stream",
     "text": [
      "x.grad = 9.912028118634735\n"
     ]
    }
   ],
   "source": [
    "x = Variable(5.0)\n",
    "z = sin(x*x)\n",
    "backward(z)\n",
    "@show x.grad;"
   ]
  },
  {
   "cell_type": "code",
   "execution_count": null,
   "metadata": {},
   "outputs": [],
   "source": [
    "x = Variable(collect(-π:0.01:+π))\n",
    "z = sin.(x.*x)\n",
    "backward(z)"
   ]
  },
  {
   "cell_type": "code",
   "execution_count": null,
   "metadata": {},
   "outputs": [],
   "source": [
    "using Plots\n",
    "plot(value(x), value(z))\n",
    "plot!(value(x), x.grad)"
   ]
  },
  {
   "cell_type": "code",
   "execution_count": null,
   "metadata": {},
   "outputs": [],
   "source": [
    "import Base: iterate, sum\n",
    "iterate(x::Node)     = iterate_forward(iterate(value(x)),     x)\n",
    "iterate(x::Node, st) = iterate_forward(iterate(value(x), st), x, st)\n",
    "\n",
    "function iterate_forward(out, x::Node, st)\n",
    "    node = ComputableNode(iterate, (x, st))\n",
    "    v, st = out\n",
    "    CachedNode(node, v), st\n",
    "end\n",
    "\n",
    "function iterate_forward(out, x::Node)\n",
    "    node = ComputableNode(iterate, (x, ))\n",
    "    v, st = out\n",
    "    CachedNode(node, v), st\n",
    "end\n",
    "\n",
    "function gradient(::typeof(iterate), grad, output, x::AbstractArray)\n",
    "    out_grad = zero(x)\n",
    "    out_grad[1] = grad\n",
    "    (out_grad, )\n",
    "end\n",
    "\n",
    "function gradient(::typeof(iterate), grad, output, x::AbstractArray, st)\n",
    "    out_grad = zero(x)\n",
    "    out_grad[st] = grad\n",
    "    (out_grad, )\n",
    "end\n",
    "\n",
    "sum(x::Variable{<:AbstractArray}; dims=:) = CachedNode(sum, x; dims=dims)\n",
    "gradient(::typeof(sum), grad, output, x::AbstractArray; dims) = grad_sum(grad, x, dims)\n",
    "grad_sum(grad, x, dims::Colon) = (fill!(similar(x), grad), )"
   ]
  },
  {
   "cell_type": "code",
   "execution_count": 31,
   "metadata": {},
   "outputs": [
    {
     "ename": "ErrorException",
     "evalue": "gradient of operator * is not defined\n\n Possible Fix:\n\n define one of the following:\n\n 1. gradient(::typeof(*), grad, out, args...; kwargs...)\n\n 2. gradient(op::Method{typeof(*)}, grad, out, args...; kwargs...)\n\n 3. gradient(op::Broadcasted{typeof(*)}, grad, out, args...; kwargs...)\n",
     "output_type": "error",
     "traceback": [
      "gradient of operator * is not defined\n\n Possible Fix:\n\n define one of the following:\n\n 1. gradient(::typeof(*), grad, out, args...; kwargs...)\n\n 2. gradient(op::Method{typeof(*)}, grad, out, args...; kwargs...)\n\n 3. gradient(op::Broadcasted{typeof(*)}, grad, out, args...; kwargs...)\n",
      "",
      "Stacktrace:",
      " [1] error(::String) at ./error.jl:33",
      " [2] #gradient#6(::Base.Iterators.Pairs{Union{},Union{},Tuple{},NamedTuple{(),Tuple{}}}, ::typeof(gradient), ::Function, ::Array{Float64,1}, ::Base.Broadcast.Broadcasted{Base.Broadcast.DefaultArrayStyle{1},Nothing,typeof(*),Tuple{Array{Float64,1},Base.Broadcast.Broadcasted{Base.Broadcast.DefaultArrayStyle{1},Nothing,typeof(-),Tuple{Array{Float64,1},Base.Broadcast.Broadcasted{Base.Broadcast.DefaultArrayStyle{1},Nothing,typeof(*),Tuple{Array{Float64,1},Array{Float64,1}}}}},Base.Broadcast.Broadcasted{Base.Broadcast.DefaultArrayStyle{1},Nothing,typeof(-),Tuple{Array{Float64,1},Base.Broadcast.Broadcasted{Base.Broadcast.DefaultArrayStyle{1},Nothing,typeof(*),Tuple{Array{Float64,1},Array{Float64,1}}}}}}}, ::Array{Float64,1}, ::Vararg{Any,N} where N) at ./In[12]:3",
      " [3] gradient(::Function, ::Array{Float64,1}, ::Base.Broadcast.Broadcasted{Base.Broadcast.DefaultArrayStyle{1},Nothing,typeof(*),Tuple{Array{Float64,1},Base.Broadcast.Broadcasted{Base.Broadcast.DefaultArrayStyle{1},Nothing,typeof(-),Tuple{Array{Float64,1},Base.Broadcast.Broadcasted{Base.Broadcast.DefaultArrayStyle{1},Nothing,typeof(*),Tuple{Array{Float64,1},Array{Float64,1}}}}},Base.Broadcast.Broadcasted{Base.Broadcast.DefaultArrayStyle{1},Nothing,typeof(-),Tuple{Array{Float64,1},Base.Broadcast.Broadcasted{Base.Broadcast.DefaultArrayStyle{1},Nothing,typeof(*),Tuple{Array{Float64,1},Array{Float64,1}}}}}}}, ::Array{Float64,1}, ::Base.Broadcast.Broadcasted{Base.Broadcast.DefaultArrayStyle{1},Nothing,typeof(-),Tuple{Array{Float64,1},Base.Broadcast.Broadcasted{Base.Broadcast.DefaultArrayStyle{1},Nothing,typeof(*),Tuple{Array{Float64,1},Array{Float64,1}}}}}, ::Base.Broadcast.Broadcasted{Base.Broadcast.DefaultArrayStyle{1},Nothing,typeof(-),Tuple{Array{Float64,1},Base.Broadcast.Broadcasted{Base.Broadcast.DefaultArrayStyle{1},Nothing,typeof(*),Tuple{Array{Float64,1},Array{Float64,1}}}}}) at ./In[12]:3",
      " [4] #gradient#5(::Base.Iterators.Pairs{Union{},Union{},Tuple{},NamedTuple{(),Tuple{}}}, ::typeof(gradient), ::Broadcasted{typeof(*)}, ::Array{Float64,1}, ::Base.Broadcast.Broadcasted{Base.Broadcast.DefaultArrayStyle{1},Nothing,typeof(*),Tuple{Array{Float64,1},Base.Broadcast.Broadcasted{Base.Broadcast.DefaultArrayStyle{1},Nothing,typeof(-),Tuple{Array{Float64,1},Base.Broadcast.Broadcasted{Base.Broadcast.DefaultArrayStyle{1},Nothing,typeof(*),Tuple{Array{Float64,1},Array{Float64,1}}}}},Base.Broadcast.Broadcasted{Base.Broadcast.DefaultArrayStyle{1},Nothing,typeof(-),Tuple{Array{Float64,1},Base.Broadcast.Broadcasted{Base.Broadcast.DefaultArrayStyle{1},Nothing,typeof(*),Tuple{Array{Float64,1},Array{Float64,1}}}}}}}, ::Array{Float64,1}, ::Vararg{Any,N} where N) at ./In[12]:2",
      " [5] gradient(::Broadcasted{typeof(*)}, ::Array{Float64,1}, ::Base.Broadcast.Broadcasted{Base.Broadcast.DefaultArrayStyle{1},Nothing,typeof(*),Tuple{Array{Float64,1},Base.Broadcast.Broadcasted{Base.Broadcast.DefaultArrayStyle{1},Nothing,typeof(-),Tuple{Array{Float64,1},Base.Broadcast.Broadcasted{Base.Broadcast.DefaultArrayStyle{1},Nothing,typeof(*),Tuple{Array{Float64,1},Array{Float64,1}}}}},Base.Broadcast.Broadcasted{Base.Broadcast.DefaultArrayStyle{1},Nothing,typeof(-),Tuple{Array{Float64,1},Base.Broadcast.Broadcasted{Base.Broadcast.DefaultArrayStyle{1},Nothing,typeof(*),Tuple{Array{Float64,1},Array{Float64,1}}}}}}}, ::Array{Float64,1}, ::Base.Broadcast.Broadcasted{Base.Broadcast.DefaultArrayStyle{1},Nothing,typeof(-),Tuple{Array{Float64,1},Base.Broadcast.Broadcasted{Base.Broadcast.DefaultArrayStyle{1},Nothing,typeof(*),Tuple{Array{Float64,1},Array{Float64,1}}}}}, ::Base.Broadcast.Broadcasted{Base.Broadcast.DefaultArrayStyle{1},Nothing,typeof(-),Tuple{Array{Float64,1},Base.Broadcast.Broadcasted{Base.Broadcast.DefaultArrayStyle{1},Nothing,typeof(*),Tuple{Array{Float64,1},Array{Float64,1}}}}}) at ./In[12]:2",
      " [6] gradient(::CachedNode{ComputableNode{Broadcasted{typeof(*)},Tuple{Variable{Array{Float64,1}},CachedNode{ComputableNode{Broadcasted{typeof(-)},Tuple{Variable{Array{Float64,1}},CachedNode{ComputableNode{Broadcasted{typeof(*)},Tuple{Variable{Array{Float64,1}},Variable{Array{Float64,1}}},NamedTuple{(),Tuple{}}},Base.Broadcast.Broadcasted{Base.Broadcast.DefaultArrayStyle{1},Nothing,typeof(*),Tuple{Array{Float64,1},Array{Float64,1}}}}},NamedTuple{(),Tuple{}}},Base.Broadcast.Broadcasted{Base.Broadcast.DefaultArrayStyle{1},Nothing,typeof(-),Tuple{Array{Float64,1},Base.Broadcast.Broadcasted{Base.Broadcast.DefaultArrayStyle{1},Nothing,typeof(*),Tuple{Array{Float64,1},Array{Float64,1}}}}}},CachedNode{ComputableNode{Broadcasted{typeof(-)},Tuple{Variable{Array{Float64,1}},CachedNode{ComputableNode{Broadcasted{typeof(*)},Tuple{Variable{Array{Float64,1}},Variable{Array{Float64,1}}},NamedTuple{(),Tuple{}}},Base.Broadcast.Broadcasted{Base.Broadcast.DefaultArrayStyle{1},Nothing,typeof(*),Tuple{Array{Float64,1},Array{Float64,1}}}}},NamedTuple{(),Tuple{}}},Base.Broadcast.Broadcasted{Base.Broadcast.DefaultArrayStyle{1},Nothing,typeof(-),Tuple{Array{Float64,1},Base.Broadcast.Broadcasted{Base.Broadcast.DefaultArrayStyle{1},Nothing,typeof(*),Tuple{Array{Float64,1},Array{Float64,1}}}}}}},NamedTuple{(),Tuple{}}},Base.Broadcast.Broadcasted{Base.Broadcast.DefaultArrayStyle{1},Nothing,typeof(*),Tuple{Array{Float64,1},Base.Broadcast.Broadcasted{Base.Broadcast.DefaultArrayStyle{1},Nothing,typeof(-),Tuple{Array{Float64,1},Base.Broadcast.Broadcasted{Base.Broadcast.DefaultArrayStyle{1},Nothing,typeof(*),Tuple{Array{Float64,1},Array{Float64,1}}}}},Base.Broadcast.Broadcasted{Base.Broadcast.DefaultArrayStyle{1},Nothing,typeof(-),Tuple{Array{Float64,1},Base.Broadcast.Broadcasted{Base.Broadcast.DefaultArrayStyle{1},Nothing,typeof(*),Tuple{Array{Float64,1},Array{Float64,1}}}}}}}}, ::Array{Float64,1}) at ./In[12]:1",
      " [7] backward(::CachedNode{ComputableNode{Broadcasted{typeof(*)},Tuple{Variable{Array{Float64,1}},CachedNode{ComputableNode{Broadcasted{typeof(-)},Tuple{Variable{Array{Float64,1}},CachedNode{ComputableNode{Broadcasted{typeof(*)},Tuple{Variable{Array{Float64,1}},Variable{Array{Float64,1}}},NamedTuple{(),Tuple{}}},Base.Broadcast.Broadcasted{Base.Broadcast.DefaultArrayStyle{1},Nothing,typeof(*),Tuple{Array{Float64,1},Array{Float64,1}}}}},NamedTuple{(),Tuple{}}},Base.Broadcast.Broadcasted{Base.Broadcast.DefaultArrayStyle{1},Nothing,typeof(-),Tuple{Array{Float64,1},Base.Broadcast.Broadcasted{Base.Broadcast.DefaultArrayStyle{1},Nothing,typeof(*),Tuple{Array{Float64,1},Array{Float64,1}}}}}},CachedNode{ComputableNode{Broadcasted{typeof(-)},Tuple{Variable{Array{Float64,1}},CachedNode{ComputableNode{Broadcasted{typeof(*)},Tuple{Variable{Array{Float64,1}},Variable{Array{Float64,1}}},NamedTuple{(),Tuple{}}},Base.Broadcast.Broadcasted{Base.Broadcast.DefaultArrayStyle{1},Nothing,typeof(*),Tuple{Array{Float64,1},Array{Float64,1}}}}},NamedTuple{(),Tuple{}}},Base.Broadcast.Broadcasted{Base.Broadcast.DefaultArrayStyle{1},Nothing,typeof(-),Tuple{Array{Float64,1},Base.Broadcast.Broadcasted{Base.Broadcast.DefaultArrayStyle{1},Nothing,typeof(*),Tuple{Array{Float64,1},Array{Float64,1}}}}}}},NamedTuple{(),Tuple{}}},Base.Broadcast.Broadcasted{Base.Broadcast.DefaultArrayStyle{1},Nothing,typeof(*),Tuple{Array{Float64,1},Base.Broadcast.Broadcasted{Base.Broadcast.DefaultArrayStyle{1},Nothing,typeof(-),Tuple{Array{Float64,1},Base.Broadcast.Broadcasted{Base.Broadcast.DefaultArrayStyle{1},Nothing,typeof(*),Tuple{Array{Float64,1},Array{Float64,1}}}}},Base.Broadcast.Broadcasted{Base.Broadcast.DefaultArrayStyle{1},Nothing,typeof(-),Tuple{Array{Float64,1},Base.Broadcast.Broadcasted{Base.Broadcast.DefaultArrayStyle{1},Nothing,typeof(*),Tuple{Array{Float64,1},Array{Float64,1}}}}}}}}, ::Broadcasted{typeof(*)}, ::Array{Float64,1}) at ./In[11]:19",
      " [8] backward(::CachedNode{ComputableNode{Broadcasted{typeof(*)},Tuple{Variable{Array{Float64,1}},CachedNode{ComputableNode{Broadcasted{typeof(-)},Tuple{Variable{Array{Float64,1}},CachedNode{ComputableNode{Broadcasted{typeof(*)},Tuple{Variable{Array{Float64,1}},Variable{Array{Float64,1}}},NamedTuple{(),Tuple{}}},Base.Broadcast.Broadcasted{Base.Broadcast.DefaultArrayStyle{1},Nothing,typeof(*),Tuple{Array{Float64,1},Array{Float64,1}}}}},NamedTuple{(),Tuple{}}},Base.Broadcast.Broadcasted{Base.Broadcast.DefaultArrayStyle{1},Nothing,typeof(-),Tuple{Array{Float64,1},Base.Broadcast.Broadcasted{Base.Broadcast.DefaultArrayStyle{1},Nothing,typeof(*),Tuple{Array{Float64,1},Array{Float64,1}}}}}},CachedNode{ComputableNode{Broadcasted{typeof(-)},Tuple{Variable{Array{Float64,1}},CachedNode{ComputableNode{Broadcasted{typeof(*)},Tuple{Variable{Array{Float64,1}},Variable{Array{Float64,1}}},NamedTuple{(),Tuple{}}},Base.Broadcast.Broadcasted{Base.Broadcast.DefaultArrayStyle{1},Nothing,typeof(*),Tuple{Array{Float64,1},Array{Float64,1}}}}},NamedTuple{(),Tuple{}}},Base.Broadcast.Broadcasted{Base.Broadcast.DefaultArrayStyle{1},Nothing,typeof(-),Tuple{Array{Float64,1},Base.Broadcast.Broadcasted{Base.Broadcast.DefaultArrayStyle{1},Nothing,typeof(*),Tuple{Array{Float64,1},Array{Float64,1}}}}}}},NamedTuple{(),Tuple{}}},Base.Broadcast.Broadcasted{Base.Broadcast.DefaultArrayStyle{1},Nothing,typeof(*),Tuple{Array{Float64,1},Base.Broadcast.Broadcasted{Base.Broadcast.DefaultArrayStyle{1},Nothing,typeof(-),Tuple{Array{Float64,1},Base.Broadcast.Broadcasted{Base.Broadcast.DefaultArrayStyle{1},Nothing,typeof(*),Tuple{Array{Float64,1},Array{Float64,1}}}}},Base.Broadcast.Broadcasted{Base.Broadcast.DefaultArrayStyle{1},Nothing,typeof(-),Tuple{Array{Float64,1},Base.Broadcast.Broadcasted{Base.Broadcast.DefaultArrayStyle{1},Nothing,typeof(*),Tuple{Array{Float64,1},Array{Float64,1}}}}}}}}, ::Array{Float64,1}) at ./In[11]:27",
      " [9] backward(::CachedNode{ComputableNode{Broadcasted{typeof(+)},Tuple{CachedNode{ComputableNode{Broadcasted{typeof(-)},Tuple{Variable{Array{Float64,1}},CachedNode{ComputableNode{Broadcasted{typeof(*)},Tuple{Variable{Array{Float64,1}},Variable{Array{Float64,1}}},NamedTuple{(),Tuple{}}},Base.Broadcast.Broadcasted{Base.Broadcast.DefaultArrayStyle{1},Nothing,typeof(*),Tuple{Array{Float64,1},Array{Float64,1}}}}},NamedTuple{(),Tuple{}}},Base.Broadcast.Broadcasted{Base.Broadcast.DefaultArrayStyle{1},Nothing,typeof(-),Tuple{Array{Float64,1},Base.Broadcast.Broadcasted{Base.Broadcast.DefaultArrayStyle{1},Nothing,typeof(*),Tuple{Array{Float64,1},Array{Float64,1}}}}}},CachedNode{ComputableNode{Broadcasted{typeof(*)},Tuple{Variable{Array{Float64,1}},CachedNode{ComputableNode{Broadcasted{typeof(-)},Tuple{Variable{Array{Float64,1}},CachedNode{ComputableNode{Broadcasted{typeof(*)},Tuple{Variable{Array{Float64,1}},Variable{Array{Float64,1}}},NamedTuple{(),Tuple{}}},Base.Broadcast.Broadcasted{Base.Broadcast.DefaultArrayStyle{1},Nothing,typeof(*),Tuple{Array{Float64,1},Array{Float64,1}}}}},NamedTuple{(),Tuple{}}},Base.Broadcast.Broadcasted{Base.Broadcast.DefaultArrayStyle{1},Nothing,typeof(-),Tuple{Array{Float64,1},Base.Broadcast.Broadcasted{Base.Broadcast.DefaultArrayStyle{1},Nothing,typeof(*),Tuple{Array{Float64,1},Array{Float64,1}}}}}},CachedNode{ComputableNode{Broadcasted{typeof(-)},Tuple{Variable{Array{Float64,1}},CachedNode{ComputableNode{Broadcasted{typeof(*)},Tuple{Variable{Array{Float64,1}},Variable{Array{Float64,1}}},NamedTuple{(),Tuple{}}},Base.Broadcast.Broadcasted{Base.Broadcast.DefaultArrayStyle{1},Nothing,typeof(*),Tuple{Array{Float64,1},Array{Float64,1}}}}},NamedTuple{(),Tuple{}}},Base.Broadcast.Broadcasted{Base.Broadcast.DefaultArrayStyle{1},Nothing,typeof(-),Tuple{Array{Float64,1},Base.Broadcast.Broadcasted{Base.Broadcast.DefaultArrayStyle{1},Nothing,typeof(*),Tuple{Array{Float64,1},Array{Float64,1}}}}}}},NamedTuple{(),Tuple{}}},Base.Broadcast.Broadcasted{Base.Broadcast.DefaultArrayStyle{1},Nothing,typeof(*),Tuple{Array{Float64,1},Base.Broadcast.Broadcasted{Base.Broadcast.DefaultArrayStyle{1},Nothing,typeof(-),Tuple{Array{Float64,1},Base.Broadcast.Broadcasted{Base.Broadcast.DefaultArrayStyle{1},Nothing,typeof(*),Tuple{Array{Float64,1},Array{Float64,1}}}}},Base.Broadcast.Broadcasted{Base.Broadcast.DefaultArrayStyle{1},Nothing,typeof(-),Tuple{Array{Float64,1},Base.Broadcast.Broadcasted{Base.Broadcast.DefaultArrayStyle{1},Nothing,typeof(*),Tuple{Array{Float64,1},Array{Float64,1}}}}}}}}},NamedTuple{(),Tuple{}}},Base.Broadcast.Broadcasted{Base.Broadcast.DefaultArrayStyle{1},Nothing,typeof(+),Tuple{Base.Broadcast.Broadcasted{Base.Broadcast.DefaultArrayStyle{1},Nothing,typeof(-),Tuple{Array{Float64,1},Base.Broadcast.Broadcasted{Base.Broadcast.DefaultArrayStyle{1},Nothing,typeof(*),Tuple{Array{Float64,1},Array{Float64,1}}}}},Base.Broadcast.Broadcasted{Base.Broadcast.DefaultArrayStyle{1},Nothing,typeof(*),Tuple{Array{Float64,1},Base.Broadcast.Broadcasted{Base.Broadcast.DefaultArrayStyle{1},Nothing,typeof(-),Tuple{Array{Float64,1},Base.Broadcast.Broadcasted{Base.Broadcast.DefaultArrayStyle{1},Nothing,typeof(*),Tuple{Array{Float64,1},Array{Float64,1}}}}},Base.Broadcast.Broadcasted{Base.Broadcast.DefaultArrayStyle{1},Nothing,typeof(-),Tuple{Array{Float64,1},Base.Broadcast.Broadcasted{Base.Broadcast.DefaultArrayStyle{1},Nothing,typeof(*),Tuple{Array{Float64,1},Array{Float64,1}}}}}}}}}}, ::Broadcasted{typeof(+)}, ::Float64) at ./In[11]:21",
      " [10] backward at ./In[11]:27 [inlined]",
      " [11] backward at ./In[11]:28 [inlined]",
      " [12] backward at ./In[11]:27 [inlined]",
      " [13] backward(::CachedNode{ComputableNode{Method{typeof(Base.Broadcast.materialize)},Tuple{CachedNode{ComputableNode{Broadcasted{typeof(+)},Tuple{CachedNode{ComputableNode{Broadcasted{typeof(-)},Tuple{Variable{Array{Float64,1}},CachedNode{ComputableNode{Broadcasted{typeof(*)},Tuple{Variable{Array{Float64,1}},Variable{Array{Float64,1}}},NamedTuple{(),Tuple{}}},Base.Broadcast.Broadcasted{Base.Broadcast.DefaultArrayStyle{1},Nothing,typeof(*),Tuple{Array{Float64,1},Array{Float64,1}}}}},NamedTuple{(),Tuple{}}},Base.Broadcast.Broadcasted{Base.Broadcast.DefaultArrayStyle{1},Nothing,typeof(-),Tuple{Array{Float64,1},Base.Broadcast.Broadcasted{Base.Broadcast.DefaultArrayStyle{1},Nothing,typeof(*),Tuple{Array{Float64,1},Array{Float64,1}}}}}},CachedNode{ComputableNode{Broadcasted{typeof(*)},Tuple{Variable{Array{Float64,1}},CachedNode{ComputableNode{Broadcasted{typeof(-)},Tuple{Variable{Array{Float64,1}},CachedNode{ComputableNode{Broadcasted{typeof(*)},Tuple{Variable{Array{Float64,1}},Variable{Array{Float64,1}}},NamedTuple{(),Tuple{}}},Base.Broadcast.Broadcasted{Base.Broadcast.DefaultArrayStyle{1},Nothing,typeof(*),Tuple{Array{Float64,1},Array{Float64,1}}}}},NamedTuple{(),Tuple{}}},Base.Broadcast.Broadcasted{Base.Broadcast.DefaultArrayStyle{1},Nothing,typeof(-),Tuple{Array{Float64,1},Base.Broadcast.Broadcasted{Base.Broadcast.DefaultArrayStyle{1},Nothing,typeof(*),Tuple{Array{Float64,1},Array{Float64,1}}}}}},CachedNode{ComputableNode{Broadcasted{typeof(-)},Tuple{Variable{Array{Float64,1}},CachedNode{ComputableNode{Broadcasted{typeof(*)},Tuple{Variable{Array{Float64,1}},Variable{Array{Float64,1}}},NamedTuple{(),Tuple{}}},Base.Broadcast.Broadcasted{Base.Broadcast.DefaultArrayStyle{1},Nothing,typeof(*),Tuple{Array{Float64,1},Array{Float64,1}}}}},NamedTuple{(),Tuple{}}},Base.Broadcast.Broadcasted{Base.Broadcast.DefaultArrayStyle{1},Nothing,typeof(-),Tuple{Array{Float64,1},Base.Broadcast.Broadcasted{Base.Broadcast.DefaultArrayStyle{1},Nothing,typeof(*),Tuple{Array{Float64,1},Array{Float64,1}}}}}}},NamedTuple{(),Tuple{}}},Base.Broadcast.Broadcasted{Base.Broadcast.DefaultArrayStyle{1},Nothing,typeof(*),Tuple{Array{Float64,1},Base.Broadcast.Broadcasted{Base.Broadcast.DefaultArrayStyle{1},Nothing,typeof(-),Tuple{Array{Float64,1},Base.Broadcast.Broadcasted{Base.Broadcast.DefaultArrayStyle{1},Nothing,typeof(*),Tuple{Array{Float64,1},Array{Float64,1}}}}},Base.Broadcast.Broadcasted{Base.Broadcast.DefaultArrayStyle{1},Nothing,typeof(-),Tuple{Array{Float64,1},Base.Broadcast.Broadcasted{Base.Broadcast.DefaultArrayStyle{1},Nothing,typeof(*),Tuple{Array{Float64,1},Array{Float64,1}}}}}}}}},NamedTuple{(),Tuple{}}},Base.Broadcast.Broadcasted{Base.Broadcast.DefaultArrayStyle{1},Nothing,typeof(+),Tuple{Base.Broadcast.Broadcasted{Base.Broadcast.DefaultArrayStyle{1},Nothing,typeof(-),Tuple{Array{Float64,1},Base.Broadcast.Broadcasted{Base.Broadcast.DefaultArrayStyle{1},Nothing,typeof(*),Tuple{Array{Float64,1},Array{Float64,1}}}}},Base.Broadcast.Broadcasted{Base.Broadcast.DefaultArrayStyle{1},Nothing,typeof(*),Tuple{Array{Float64,1},Base.Broadcast.Broadcasted{Base.Broadcast.DefaultArrayStyle{1},Nothing,typeof(-),Tuple{Array{Float64,1},Base.Broadcast.Broadcasted{Base.Broadcast.DefaultArrayStyle{1},Nothing,typeof(*),Tuple{Array{Float64,1},Array{Float64,1}}}}},Base.Broadcast.Broadcasted{Base.Broadcast.DefaultArrayStyle{1},Nothing,typeof(-),Tuple{Array{Float64,1},Base.Broadcast.Broadcasted{Base.Broadcast.DefaultArrayStyle{1},Nothing,typeof(*),Tuple{Array{Float64,1},Array{Float64,1}}}}}}}}}}},NamedTuple{(),Tuple{}}},Array{Float64,1}}) at ./In[11]:26",
      " [14] top-level scope at In[31]:6"
     ]
    }
   ],
   "source": [
    "x = Variable([1., 2.])\n",
    "y = Variable([1.,-1.])\n",
    "z = Variable([100.,100.])\n",
    "u = Variable([1.,1.])\n",
    "w = (u - x*x) + z*(y - x*x)*(y - x*x)\n",
    "backward(w)\n",
    "x.grad"
   ]
  },
  {
   "cell_type": "code",
   "execution_count": null,
   "metadata": {},
   "outputs": [],
   "source": []
  }
 ],
 "metadata": {
  "kernelspec": {
   "display_name": "Julia 1.3.1",
   "language": "julia",
   "name": "julia-1.3"
  },
  "language_info": {
   "file_extension": ".jl",
   "mimetype": "application/julia",
   "name": "julia",
   "version": "1.3.1"
  }
 },
 "nbformat": 4,
 "nbformat_minor": 4
}
