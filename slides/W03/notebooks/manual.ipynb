{
 "cells": [
  {
   "cell_type": "code",
   "execution_count": 2,
   "metadata": {},
   "outputs": [],
   "source": [
    "import LinearAlgebra: diagm"
   ]
  },
  {
   "cell_type": "code",
   "execution_count": 3,
   "metadata": {},
   "outputs": [
    {
     "data": {
      "text/plain": [
       "3×3 Matrix{Float64}:\n",
       " 1.0  0.0  0.0\n",
       " 0.0  1.0  0.0\n",
       " 0.0  0.0  1.0"
      ]
     },
     "execution_count": 3,
     "metadata": {},
     "output_type": "execute_result"
    }
   ],
   "source": [
    "import LinearAlgebra: I\n",
    "eye(n::Integer) = diagm(ones(n))\n",
    "eye(3)"
   ]
  },
  {
   "cell_type": "code",
   "execution_count": 4,
   "metadata": {},
   "outputs": [
    {
     "data": {
      "text/plain": [
       "net (generic function with 1 method)"
      ]
     },
     "execution_count": 4,
     "metadata": {},
     "output_type": "execute_result"
    }
   ],
   "source": [
    "mean_squared_loss(y::Vector, ŷ::Vector) = sum(0.5(y - ŷ).^2)\n",
    "fullyconnected(w::Vector, n::Number, m::Number, v::Vector, activation::Function) = activation.(reshape(w, n, m) * v)\n",
    "σ(x) = one(x) / (one(x) + exp(-x))\n",
    "linear(x) = x\n",
    "\n",
    "Wh  = randn(10,2)\n",
    "Wo  = randn(1,10)\n",
    "dWh = similar(Wh)\n",
    "dWo = similar(Wo)\n",
    "\n",
    "function ∇W(x, x̂, ŷ, y, Wo)\n",
    "    Eŷ  = ŷ - y\n",
    "    ŷȳ  = ŷ  |> length |> eye\n",
    "    ȳWo = x̂  |> transpose\n",
    "    x̄Wh = x  |> transpose\n",
    "    ȳx̂  = Wo |> transpose\n",
    "    x̂x̄  = x̂  .* (1.0 .- x̂) |> diagonal\n",
    "    \n",
    "    Eȳ  = ŷȳ * Eŷ\n",
    "    Ex̂  = ȳx̂ * Eȳ\n",
    "    Ex̄  = x̂x̄ * Ex̂\n",
    "    EWo = Eȳ * ȳWo\n",
    "    EWh = Ex̄ * x̄Wh\n",
    "    return EWo, EWh\n",
    "end\n",
    "\n",
    "function net(x, wh, wo, y)\n",
    "    x̂ = fullyconnected(wh, 10, 2, x, σ)\n",
    "    ŷ = fullyconnected(wo, 1, 10, x̂, linear)\n",
    "    \n",
    "    EWo, EWh = ∇W(x, x̂, ŷ, y, Wo)\n",
    "    dWo .= EWo\n",
    "    dWh .= EWh\n",
    "    \n",
    "    E = mean_squared_loss(y, ŷ)\n",
    "end"
   ]
  },
  {
   "cell_type": "code",
   "execution_count": 6,
   "metadata": {},
   "outputs": [
    {
     "data": {
      "text/plain": [
       "0.8383500916926003"
      ]
     },
     "execution_count": 6,
     "metadata": {},
     "output_type": "execute_result"
    }
   ],
   "source": [
    "x = [1.98;4.434]\n",
    "y = [0.064]\n",
    "E = Float64[]\n",
    "Ei = net(x, Wh[:], Wo[:], y)"
   ]
  },
  {
   "cell_type": "code",
   "execution_count": 21,
   "metadata": {},
   "outputs": [
    {
     "data": {
      "text/plain": [
       "1.642613288516512e-5"
      ]
     },
     "execution_count": 21,
     "metadata": {},
     "output_type": "execute_result"
    }
   ],
   "source": [
    "push!(E, Ei)\n",
    "Wh -= 0.1dWh\n",
    "Wo -= 0.1dWo\n",
    "Ei  = net(x, Wh[:], Wo[:], y)"
   ]
  },
  {
   "cell_type": "code",
   "execution_count": 23,
   "metadata": {},
   "outputs": [
    {
     "data": {
      "image/png": "[encoded data removed]",
      "text/plain": [
       "Figure(PyObject <Figure size 640x480 with 1 Axes>)"
      ]
     },
     "metadata": {},
     "output_type": "display_data"
    },
    {
     "data": {
      "text/plain": [
       "PyObject Text(24.000000000000007, 0.5, 'loss function')"
      ]
     },
     "execution_count": 23,
     "metadata": {},
     "output_type": "execute_result"
    }
   ],
   "source": [
    "using PyPlot\n",
    "semilogy(E, \"-o\")\n",
    "legend((\"Loss function\"))\n",
    "xlabel(\"epoch\")\n",
    "ylabel(\"loss function\")"
   ]
  },
  {
   "cell_type": "code",
   "execution_count": null,
   "metadata": {},
   "outputs": [],
   "source": []
  }
 ],
 "metadata": {
  "kernelspec": {
   "display_name": "Julia 1.7.1",
   "language": "julia",
   "name": "julia-1.7"
  },
  "language_info": {
   "file_extension": ".jl",
   "mimetype": "application/julia",
   "name": "julia",
   "version": "1.7.1"
  }
 },
 "nbformat": 4,
 "nbformat_minor": 4
}
