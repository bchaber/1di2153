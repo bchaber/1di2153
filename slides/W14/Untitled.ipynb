{
 "cells": [
  {
   "cell_type": "code",
   "execution_count": 59,
   "id": "828209f9",
   "metadata": {},
   "outputs": [],
   "source": [
    "using LinearAlgebra\n",
    "# examples from https://www.math.uci.edu/~ttrogdon/105A/html/Lecture23.html"
   ]
  },
  {
   "cell_type": "code",
   "execution_count": 60,
   "id": "ccbdffa7",
   "metadata": {},
   "outputs": [
    {
     "data": {
      "text/plain": [
       "householder_hessenberg (generic function with 1 method)"
      ]
     },
     "execution_count": 60,
     "metadata": {},
     "output_type": "execute_result"
    }
   ],
   "source": [
    "function householder_hessenberg(A :: Matrix{Float64})\n",
    "  H = copy(A)\n",
    "  N = size(A, 1)\n",
    "  for i=1:N-2\n",
    "    α = H[i+1:N, i] # FIXME\n",
    "    σ = norm(α)\n",
    "    β = 1.0  / (σ * (σ + abs(α[1])))\n",
    "    expjϕ = α[1] < 0.0 ? -1.0 : 1.0 \n",
    "    u = copy(α)\n",
    "    u[1] = expjϕ * (σ + abs(α[1]))\n",
    "    T = diagm(ones(N))\n",
    "    T[i+1:N, i+1:N] .= diagm(ones(length(α))) - β * u * u'\n",
    "    H .= T * H * T\n",
    "  end\n",
    "  return H\n",
    "end"
   ]
  },
  {
   "cell_type": "code",
   "execution_count": 3,
   "id": "d93daa22",
   "metadata": {},
   "outputs": [
    {
     "data": {
      "text/plain": [
       "dropalmostzeros (generic function with 1 method)"
      ]
     },
     "execution_count": 3,
     "metadata": {},
     "output_type": "execute_result"
    }
   ],
   "source": [
    "using SparseArrays\n",
    "dropalmostzeros(A, ϵ) = sparse([abs(aij) > ϵ ? aij : 0.0 for aij in A])"
   ]
  },
  {
   "cell_type": "code",
   "execution_count": 4,
   "id": "1fdb7a18",
   "metadata": {},
   "outputs": [
    {
     "data": {
      "text/plain": [
       "5×5 SparseMatrixCSC{Float64, Int64} with 13 stored entries:\n",
       "  2.13598  -2.90952    ⋅          ⋅          ⋅ \n",
       " -2.90952   5.69189   1.08024     ⋅          ⋅ \n",
       "   ⋅        1.08024   0.925568  -0.074032    ⋅ \n",
       "   ⋅         ⋅       -0.074032   0.648886  -0.097627\n",
       "   ⋅         ⋅         ⋅        -0.097627   0.0856877"
      ]
     },
     "execution_count": 4,
     "metadata": {},
     "output_type": "execute_result"
    }
   ],
   "source": [
    "A = rand(5, 5)\n",
    "A*= A'\n",
    "H = householder_hessenberg(A)\n",
    "dropalmostzeros(H, 1e-15)"
   ]
  },
  {
   "cell_type": "code",
   "execution_count": 5,
   "id": "98e7aca2",
   "metadata": {},
   "outputs": [
    {
     "data": {
      "text/plain": [
       "householder_qr (generic function with 1 method)"
      ]
     },
     "execution_count": 5,
     "metadata": {},
     "output_type": "execute_result"
    }
   ],
   "source": [
    "function householder_qr(A :: Matrix{Float64})\n",
    "  R = copy(A)\n",
    "  N = size(A, 1)\n",
    "  Q = diagm(ones(N))\n",
    "  for i=1:size(A, 2)\n",
    "    α = R[i:N, i]\n",
    "    σ = norm(α)\n",
    "    β = 1.0  / (σ * (σ + abs(α[1])))\n",
    "    expjϕ = α[1] < 0.0 ? -1.0 : 1.0 \n",
    "    u = copy(α)\n",
    "    u[1] = expjϕ * (σ + abs(α[1]))\n",
    "    T = diagm(ones(N))\n",
    "    T[i:N, i:N] .= diagm(ones(length(α))) - β * u * u'\n",
    "    R = T * R # te linie zostały zmienione\n",
    "    Q = Q * T # względem metody Householdera zdefiniowanej wcześniej\n",
    "  end\n",
    "  return Q, R\n",
    "end"
   ]
  },
  {
   "cell_type": "code",
   "execution_count": 6,
   "id": "228883e9",
   "metadata": {},
   "outputs": [
    {
     "data": {
      "text/plain": [
       "givensrot (generic function with 1 method)"
      ]
     },
     "execution_count": 6,
     "metadata": {},
     "output_type": "execute_result"
    }
   ],
   "source": [
    "using LinearAlgebra\n",
    "function givensrot(A, i, j)\n",
    "  q = sqrt(A[j,j]^2 + A[i,j]^2);\n",
    "  c = A[j,j] / q;\n",
    "  s = A[i,j] / q;\n",
    "  N = size(A, 1);\n",
    "  G = diagm(ones(N));\n",
    "  G[i,i] = c; G[j,j] = c;\n",
    "  G[j,i] = s; G[i,j] =-s;\n",
    "  return G\n",
    "end"
   ]
  },
  {
   "cell_type": "code",
   "execution_count": 127,
   "id": "5d7137f1",
   "metadata": {},
   "outputs": [
    {
     "data": {
      "text/plain": [
       "4×4 Matrix{Float64}:\n",
       " 1.0  0.0   0.0       0.0\n",
       " 0.0  1.0   0.0       0.0\n",
       " 0.0  0.0   0.707107  0.707107\n",
       " 0.0  0.0  -0.707107  0.707107"
      ]
     },
     "execution_count": 127,
     "metadata": {},
     "output_type": "execute_result"
    }
   ],
   "source": [
    "G1 = let α = -π/4 # clock-wise rotation\n",
    "    c, s = cos(α), sin(α)\n",
    "   [1 0 0  0\n",
    "    0 1 0  0\n",
    "    0 0 c -s\n",
    "    0 0 s  c]\n",
    "end\n"
   ]
  },
  {
   "cell_type": "code",
   "execution_count": 128,
   "id": "074f2038",
   "metadata": {},
   "outputs": [
    {
     "data": {
      "text/plain": [
       "0.8660254037844386"
      ]
     },
     "execution_count": 128,
     "metadata": {},
     "output_type": "execute_result"
    }
   ],
   "source": [
    "sqrt(3)/2"
   ]
  },
  {
   "cell_type": "code",
   "execution_count": 129,
   "id": "8fce9bd2",
   "metadata": {},
   "outputs": [
    {
     "data": {
      "text/plain": [
       "4×4 Matrix{Float64}:\n",
       "  0.5       0.0  0.0  0.866025\n",
       "  0.0       1.0  0.0  0.0\n",
       "  0.0       0.0  1.0  0.0\n",
       " -0.866025  0.0  0.0  0.5"
      ]
     },
     "execution_count": 129,
     "metadata": {},
     "output_type": "execute_result"
    }
   ],
   "source": [
    "\n",
    "G2 = let α = -π/3 # clock-wise rotation\n",
    "    c, s = cos(α), sin(α)\n",
    "   [c 0 0 -s\n",
    "    0 1 0  0\n",
    "    0 0 1  0\n",
    "    s 0 0  c]\n",
    "end"
   ]
  },
  {
   "cell_type": "code",
   "execution_count": 130,
   "id": "fff4d189",
   "metadata": {},
   "outputs": [
    {
     "data": {
      "text/plain": [
       "4×4 Matrix{Float64}:\n",
       "  0.5       0.0   0.0       0.866025\n",
       "  0.0       1.0   0.0       0.0\n",
       " -0.612372  0.0   0.707107  0.353553\n",
       " -0.612372  0.0  -0.707107  0.353553"
      ]
     },
     "execution_count": 130,
     "metadata": {},
     "output_type": "execute_result"
    }
   ],
   "source": [
    "G = G1 * G2"
   ]
  },
  {
   "cell_type": "code",
   "execution_count": 136,
   "id": "430d0bfd",
   "metadata": {},
   "outputs": [
    {
     "data": {
      "text/plain": [
       "4×4 Matrix{Float64}:\n",
       "  0.5       0.0   0.0       0.866025\n",
       "  0.0       1.0   0.0       0.0\n",
       " -0.612372  0.0   0.707107  0.353553\n",
       " -0.612372  0.0  -0.707107  0.353553"
      ]
     },
     "execution_count": 136,
     "metadata": {},
     "output_type": "execute_result"
    }
   ],
   "source": [
    "G = [0.5 0 0 sqrt(3)/2;\n",
    "     0    1 0 0;\n",
    "    -sqrt(3)/sqrt(8) 0  1/sqrt(2) 1/sqrt(8);\n",
    "    -sqrt(3)/sqrt(8) 0 -1/sqrt(2) 1/sqrt(8)]"
   ]
  },
  {
   "cell_type": "code",
   "execution_count": 141,
   "id": "0f14f668",
   "metadata": {},
   "outputs": [
    {
     "data": {
      "text/plain": [
       "3×3 Matrix{Float64}:\n",
       "  0.5        0.0       0.866025\n",
       " -0.612372   0.707107  0.353553\n",
       " -0.612372  -0.707107  0.353553"
      ]
     },
     "execution_count": 141,
     "metadata": {},
     "output_type": "execute_result"
    }
   ],
   "source": [
    "G = [1/2 0 sqrt(3/4); -sqrt(3/8) sqrt(1/2) sqrt(1/8); -sqrt(3/8) -sqrt(1/2) sqrt(1/8)]"
   ]
  },
  {
   "cell_type": "code",
   "execution_count": 142,
   "id": "7546a130",
   "metadata": {},
   "outputs": [
    {
     "data": {
      "text/plain": [
       "3×3 SparseMatrixCSC{Float64, Int64} with 3 stored entries:\n",
       " 1.0   ⋅    ⋅ \n",
       "  ⋅   1.0   ⋅ \n",
       "  ⋅    ⋅   1.0"
      ]
     },
     "execution_count": 142,
     "metadata": {},
     "output_type": "execute_result"
    }
   ],
   "source": [
    "dropalmostzeros(G' * G, 1e-15)"
   ]
  },
  {
   "cell_type": "code",
   "execution_count": 7,
   "id": "4825d797",
   "metadata": {},
   "outputs": [
    {
     "data": {
      "text/plain": [
       "francis (generic function with 1 method)"
      ]
     },
     "execution_count": 7,
     "metadata": {},
     "output_type": "execute_result"
    }
   ],
   "source": [
    "function francis(A :: Matrix{Float64}, maxiter)\n",
    "  H = householder_hessenberg(A)\n",
    "  N = size(H, 1)\n",
    "  G = [[0. 0.; 0. 0.] for j=1:N-1]\n",
    "  λs = zeros(N)\n",
    "  for k = 1:maxiter\n",
    "    @show \"before\"\n",
    "    display(dropalmostzeros(H,1e-15))\n",
    "    for j = 1:N-1\n",
    "      q = sqrt(H[j,j]^2 + H[j+1,j]^2);\n",
    "      c = H[j,  j] / q;\n",
    "      s = H[j+1,j] / q;\n",
    "      G[j] = [c -s; +s c]\n",
    "      H[j:j+1, j:N] = G[j]' * H[j:j+1, j:N] # => 2 x (N-j)\n",
    "    end\n",
    "    @show \"during\"\n",
    "    display(dropalmostzeros(H,1e-15))\n",
    "    for j = 1:N-1\n",
    "      H[1:j+1, j:j+1] = H[1:j+1, j:j+1] * G[j] # (j) x 2\n",
    "    end\n",
    "    @show \"after\"\n",
    "    display(dropalmostzeros(H,1e-15))\n",
    "    λs .= diag(H)\n",
    "  end\n",
    "  @show \"final\"\n",
    "  display(dropalmostzeros(H, 1e-15))\n",
    "  return λs\n",
    "end"
   ]
  },
  {
   "cell_type": "code",
   "execution_count": 8,
   "id": "87292979",
   "metadata": {},
   "outputs": [
    {
     "name": "stdout",
     "output_type": "stream",
     "text": [
      "\"before\" = \"before\"\n"
     ]
    },
    {
     "data": {
      "text/plain": [
       "5×5 SparseMatrixCSC{Float64, Int64} with 13 stored entries:\n",
       "  2.13598  -2.90952    ⋅          ⋅          ⋅ \n",
       " -2.90952   5.69189   1.08024     ⋅          ⋅ \n",
       "   ⋅        1.08024   0.925568  -0.074032    ⋅ \n",
       "   ⋅         ⋅       -0.074032   0.648886  -0.097627\n",
       "   ⋅         ⋅         ⋅        -0.097627   0.0856877"
      ]
     },
     "metadata": {},
     "output_type": "display_data"
    },
    {
     "name": "stdout",
     "output_type": "stream",
     "text": [
      "\"during\" = \"during\"\n"
     ]
    },
    {
     "data": {
      "text/plain": [
       "5×5 SparseMatrixCSC{Float64, Int64} with 12 stored entries:\n",
       " 3.6094  -6.31002  -0.870779    ⋅           ⋅ \n",
       "  ⋅       1.48778   1.1116    -0.0537528    ⋅ \n",
       "  ⋅        ⋅        0.187509  -0.302962    0.038545\n",
       "  ⋅        ⋅         ⋅         0.584285   -0.102752\n",
       "  ⋅        ⋅         ⋅          ⋅          0.0694961"
      ]
     },
     "metadata": {},
     "output_type": "display_data"
    },
    {
     "name": "stdout",
     "output_type": "stream",
     "text": [
      "\"after\" = \"after\"\n"
     ]
    },
    {
     "data": {
      "text/plain": [
       "5×5 SparseMatrixCSC{Float64, Int64} with 13 stored entries:\n",
       "  7.22247  -1.19929     ⋅          ⋅           ⋅ \n",
       " -1.19929   1.41252    0.136146    ⋅           ⋅ \n",
       "   ⋅        0.136146   0.238074  -0.230687     ⋅ \n",
       "   ⋅         ⋅        -0.230687   0.54644    -0.0116119\n",
       "   ⋅         ⋅          ⋅        -0.0116119   0.0685191"
      ]
     },
     "metadata": {},
     "output_type": "display_data"
    },
    {
     "name": "stdout",
     "output_type": "stream",
     "text": [
      "\"final\" = \"final\"\n"
     ]
    },
    {
     "data": {
      "text/plain": [
       "5×5 SparseMatrixCSC{Float64, Int64} with 13 stored entries:\n",
       "  7.22247  -1.19929     ⋅          ⋅           ⋅ \n",
       " -1.19929   1.41252    0.136146    ⋅           ⋅ \n",
       "   ⋅        0.136146   0.238074  -0.230687     ⋅ \n",
       "   ⋅         ⋅        -0.230687   0.54644    -0.0116119\n",
       "   ⋅         ⋅          ⋅        -0.0116119   0.0685191"
      ]
     },
     "metadata": {},
     "output_type": "display_data"
    },
    {
     "data": {
      "text/plain": [
       "5-element Vector{Float64}:\n",
       " 7.2224721472163385\n",
       " 1.4125160329730597\n",
       " 0.2380742156555486\n",
       " 0.5464396411028218\n",
       " 0.06851907745268761"
      ]
     },
     "execution_count": 8,
     "metadata": {},
     "output_type": "execute_result"
    }
   ],
   "source": [
    "francis(A, 1)"
   ]
  },
  {
   "cell_type": "code",
   "execution_count": 9,
   "id": "a4757df4",
   "metadata": {},
   "outputs": [
    {
     "ename": "LoadError",
     "evalue": "UndefVarError: `R` not defined",
     "output_type": "error",
     "traceback": [
      "UndefVarError: `R` not defined",
      "",
      "Stacktrace:",
      " [1] top-level scope",
      "   @ In[9]:1"
     ]
    }
   ],
   "source": [
    "dropalmostzeros(R, 1e-15)"
   ]
  },
  {
   "cell_type": "raw",
   "id": "e999f1f8",
   "metadata": {},
   "source": [
    "A = rand(5, 3)\n",
    "x = rand(3)\n",
    "b = A * x\n",
    "Q, R = householder_qr(A);"
   ]
  },
  {
   "cell_type": "code",
   "execution_count": 110,
   "id": "0e3ffea6",
   "metadata": {},
   "outputs": [],
   "source": [
    "Q = diagm(ones(5));\n",
    "R = [1.00 1.00 1.50; 0 0.5 1.5; 0 0 2.5; 0 0 0; 0 0 0];"
   ]
  },
  {
   "cell_type": "code",
   "execution_count": 111,
   "id": "7f14f16d",
   "metadata": {},
   "outputs": [
    {
     "data": {
      "text/plain": [
       "5×3 SparseMatrixCSC{Float64, Int64} with 6 stored entries:\n",
       " 1.0  1.0  1.5\n",
       "  ⋅   0.5  1.5\n",
       "  ⋅    ⋅   2.5\n",
       "  ⋅    ⋅    ⋅ \n",
       "  ⋅    ⋅    ⋅ "
      ]
     },
     "execution_count": 111,
     "metadata": {},
     "output_type": "execute_result"
    }
   ],
   "source": [
    "dropalmostzeros(R, 1e-15)"
   ]
  },
  {
   "cell_type": "code",
   "execution_count": 112,
   "id": "da9ec1b1",
   "metadata": {},
   "outputs": [
    {
     "data": {
      "text/plain": [
       "5×5 SparseMatrixCSC{Float64, Int64} with 5 stored entries:\n",
       " 1.0   ⋅    ⋅    ⋅    ⋅ \n",
       "  ⋅   1.0   ⋅    ⋅    ⋅ \n",
       "  ⋅    ⋅   1.0   ⋅    ⋅ \n",
       "  ⋅    ⋅    ⋅   1.0   ⋅ \n",
       "  ⋅    ⋅    ⋅    ⋅   1.0"
      ]
     },
     "execution_count": 112,
     "metadata": {},
     "output_type": "execute_result"
    }
   ],
   "source": [
    "dropalmostzeros(Q, 1e-15)"
   ]
  },
  {
   "cell_type": "code",
   "execution_count": 109,
   "id": "9dd90a81",
   "metadata": {},
   "outputs": [
    {
     "data": {
      "text/plain": [
       "5×3 Matrix{Float64}:\n",
       " 1.0  1.0  1.5\n",
       " 0.0  0.5  1.5\n",
       " 0.0  0.0  2.5\n",
       " 0.0  0.0  0.0\n",
       " 0.0  0.0  0.0"
      ]
     },
     "execution_count": 109,
     "metadata": {},
     "output_type": "execute_result"
    }
   ],
   "source": [
    "A = Q * R"
   ]
  },
  {
   "cell_type": "code",
   "execution_count": 98,
   "id": "39190dd5",
   "metadata": {},
   "outputs": [
    {
     "data": {
      "text/plain": [
       "5×1 Matrix{Float64}:\n",
       "  4.0\n",
       "  0.0\n",
       " -2.5\n",
       "  0.0\n",
       "  0.0"
      ]
     },
     "execution_count": 98,
     "metadata": {},
     "output_type": "execute_result"
    }
   ],
   "source": [
    "x = [2.5 3.0 -1.0]'\n",
    "b = (Q * R) * x"
   ]
  },
  {
   "cell_type": "code",
   "execution_count": 99,
   "id": "6043a78f",
   "metadata": {},
   "outputs": [
    {
     "data": {
      "text/plain": [
       "3×1 Matrix{Float64}:\n",
       "  2.5\n",
       "  3.0\n",
       " -1.0"
      ]
     },
     "execution_count": 99,
     "metadata": {},
     "output_type": "execute_result"
    }
   ],
   "source": [
    "R1 = R[1:3, :]\n",
    "Q1 = Q[:, 1:3]\n",
    "R1 \\ (Q1' * b)"
   ]
  },
  {
   "cell_type": "code",
   "execution_count": 100,
   "id": "3c122dba",
   "metadata": {},
   "outputs": [
    {
     "data": {
      "text/plain": [
       "3×1 adjoint(::Matrix{Float64}) with eltype Float64:\n",
       "  2.5\n",
       "  3.0\n",
       " -1.0"
      ]
     },
     "execution_count": 100,
     "metadata": {},
     "output_type": "execute_result"
    }
   ],
   "source": [
    "x"
   ]
  },
  {
   "cell_type": "code",
   "execution_count": 14,
   "id": "0be63d43",
   "metadata": {},
   "outputs": [
    {
     "data": {
      "text/plain": [
       "naïvekrylov (generic function with 1 method)"
      ]
     },
     "execution_count": 14,
     "metadata": {},
     "output_type": "execute_result"
    }
   ],
   "source": [
    "# Naïve Krylov solver (uses {b, Ab, A^2b, A^3b, ...})\n",
    "function naïvekrylov(A, b, maxiter, epsilon)\n",
    "    K = b;\n",
    "    x = similar(b)\n",
    "    history = Float64[]\n",
    "    for k = 1:maxiter\n",
    "        # solve least squares problem\n",
    "        # minimize norm( (A*K) y - b)\n",
    "        AK = A*K\n",
    "        println(k, \") A*K = \", size(AK))\n",
    "        y = AK \\ b;\n",
    "        # find the minimal residual\n",
    "        # note that: x =  K * y\n",
    "        x .= K * y;\n",
    "        push!(history, norm(b - AK * y));\n",
    "        if history[k] < epsilon\n",
    "            break\n",
    "        end\n",
    "        # extend our Krylov subspace\n",
    "        K = hcat(K, AK[:, k]);\n",
    "    end\n",
    "    println(\"Maximum number of iterations reached\")\n",
    "    return x, history\n",
    "end"
   ]
  },
  {
   "cell_type": "code",
   "execution_count": 15,
   "id": "6d340e85",
   "metadata": {},
   "outputs": [
    {
     "name": "stdout",
     "output_type": "stream",
     "text": [
      "1) A*K = (150,)\n",
      "2) A*K = (150, 2)\n",
      "3) A*K = (150, 3)\n",
      "4) A*K = (150, 4)\n",
      "5) A*K = (150, 5)\n",
      "6) A*K = (150, 6)\n",
      "7) A*K = (150, 7)\n",
      "8) A*K = (150, 8)\n",
      "9) A*K = (150, 9)\n",
      "10) A*K = (150, 10)\n",
      "11) A*K = (150, 11)\n",
      "12) A*K = (150, 12)\n",
      "13) A*K = (150, 13)\n",
      "14) A*K = (150, 14)\n",
      "15) A*K = (150, 15)\n",
      "Maximum number of iterations reached\n"
     ]
    },
    {
     "data": {
      "text/plain": [
       "0.09558211850022368"
      ]
     },
     "execution_count": 15,
     "metadata": {},
     "output_type": "execute_result"
    }
   ],
   "source": [
    "A = randn(150, 150) + 150.0diagm(ones(150));\n",
    "b = ones(150);\n",
    "x, res = naïvekrylov(A, b, 15, 1e-7); # naive Krylov method\n",
    "norm(A * x - b)"
   ]
  },
  {
   "cell_type": "raw",
   "id": "1755e3a9",
   "metadata": {},
   "source": [
    "function givens_qr(A)\n",
    "    N = size(A, 1)\n",
    "    Q = diagm(ones(N))\n",
    "    R = copy(A)\n",
    "    \n",
    "    for i=1:N-1\n",
    "        for j=i+1:N\n",
    "            G =-givensrot(R, j, i)\n",
    "            Q = Q * G'\n",
    "            R = G * R\n",
    "        end\n",
    "    end\n",
    "    return Q, R\n",
    "end"
   ]
  },
  {
   "cell_type": "code",
   "execution_count": 16,
   "id": "e42e5338",
   "metadata": {},
   "outputs": [
    {
     "data": {
      "text/plain": [
       "givens_qr (generic function with 1 method)"
      ]
     },
     "execution_count": 16,
     "metadata": {},
     "output_type": "execute_result"
    }
   ],
   "source": [
    "function givens_qr(A)\n",
    "    N = size(A, 1)\n",
    "    Q = diagm(ones(N))\n",
    "    R = copy(A)\n",
    "    \n",
    "    for i=1:N-1\n",
    "        for j=i+1:N\n",
    "            G = givensrot(R, j, i)\n",
    "            Q = Q * G'\n",
    "            R = G * R\n",
    "        end\n",
    "    end\n",
    "    return Q, R\n",
    "end"
   ]
  },
  {
   "cell_type": "code",
   "execution_count": 17,
   "id": "fe0a4000",
   "metadata": {},
   "outputs": [
    {
     "data": {
      "text/plain": [
       "5×5 Matrix{Float64}:\n",
       "  1.10999       0.561264      1.00955       1.48389      0.901675\n",
       "  1.25377e-17   0.272121      0.506605      0.368201     0.402256\n",
       " -1.65149e-17   3.90452e-18   0.506639     -0.140711     0.692327\n",
       "  5.05996e-18  -1.19166e-17   5.32973e-18   0.552106     0.482002\n",
       " -1.65518e-17   5.49601e-18  -9.9868e-18    1.37465e-17  0.24766"
      ]
     },
     "execution_count": 17,
     "metadata": {},
     "output_type": "execute_result"
    }
   ],
   "source": [
    "A = rand(5, 5)\n",
    "Q, R = givens_qr(A)\n",
    "R"
   ]
  },
  {
   "cell_type": "code",
   "execution_count": 18,
   "id": "0fefc606",
   "metadata": {},
   "outputs": [
    {
     "data": {
      "text/plain": [
       "5×5 Matrix{Float64}:\n",
       " -1.10999      -0.561264     -1.00955      -1.48389      -0.901675\n",
       "  4.9374e-17   -0.272121     -0.506605     -0.368201     -0.402256\n",
       " -6.71813e-18  -1.90756e-18   0.506639     -0.140711      0.692327\n",
       " -1.20353e-18  -3.91922e-17   2.40502e-18  -0.552106     -0.482002\n",
       "  4.27211e-17   1.37144e-17   2.11497e-17  -1.85967e-18   0.24766"
      ]
     },
     "execution_count": 18,
     "metadata": {},
     "output_type": "execute_result"
    }
   ],
   "source": [
    "q, r = householder_qr(A)\n",
    "r"
   ]
  },
  {
   "cell_type": "code",
   "execution_count": 19,
   "id": "e033f101",
   "metadata": {},
   "outputs": [
    {
     "data": {
      "text/plain": [
       "3×3 SparseMatrixCSC{Float64, Int64} with 6 stored entries:\n",
       " 1.38747  0.529741  0.78951\n",
       "  ⋅       0.396235  0.408393\n",
       "  ⋅        ⋅        0.367748"
      ]
     },
     "execution_count": 19,
     "metadata": {},
     "output_type": "execute_result"
    }
   ],
   "source": [
    "A = rand(3,3)\n",
    "\n",
    "A1 = copy(A)\n",
    "G1 = givensrot(A1, 2, 1); A2 = G1 * A1\n",
    "G2 = givensrot(A2, 3, 1); A3 = G2 * A2\n",
    "G3 = givensrot(A3, 3, 2); A4 = G3 * A3\n",
    "\n",
    "dropalmostzeros(A4, 1e-15)"
   ]
  },
  {
   "cell_type": "code",
   "execution_count": 20,
   "id": "3fbc0756",
   "metadata": {},
   "outputs": [
    {
     "data": {
      "text/plain": [
       "3×3 SparseMatrixCSC{Float64, Int64} with 3 stored entries:\n",
       " 1.0   ⋅    ⋅ \n",
       "  ⋅   1.0   ⋅ \n",
       "  ⋅    ⋅   1.0"
      ]
     },
     "execution_count": 20,
     "metadata": {},
     "output_type": "execute_result"
    }
   ],
   "source": [
    "Q = (G1' * G2' * G3')\n",
    "dropalmostzeros(Q' * Q, 1e-15)"
   ]
  },
  {
   "cell_type": "code",
   "execution_count": 21,
   "id": "fd7f8ed5",
   "metadata": {},
   "outputs": [
    {
     "data": {
      "text/plain": [
       "3×3 SparseMatrixCSC{Float64, Int64} with 6 stored entries:\n",
       " 1.38747  0.529741  0.78951\n",
       "  ⋅       0.396235  0.408393\n",
       "  ⋅        ⋅        0.367748"
      ]
     },
     "execution_count": 21,
     "metadata": {},
     "output_type": "execute_result"
    }
   ],
   "source": [
    "R = (G3 * (G2 * (G1 * A)))\n",
    "dropalmostzeros(R, 1e-15)"
   ]
  },
  {
   "cell_type": "code",
   "execution_count": 22,
   "id": "51bb95f8",
   "metadata": {},
   "outputs": [
    {
     "data": {
      "text/plain": [
       "3×3 SparseMatrixCSC{Float64, Int64} with 0 stored entries:\n",
       "  ⋅    ⋅    ⋅ \n",
       "  ⋅    ⋅    ⋅ \n",
       "  ⋅    ⋅    ⋅ "
      ]
     },
     "execution_count": 22,
     "metadata": {},
     "output_type": "execute_result"
    }
   ],
   "source": [
    "dropalmostzeros(Q * R - A, 1e-15)"
   ]
  },
  {
   "cell_type": "code",
   "execution_count": 23,
   "id": "e80763ec",
   "metadata": {},
   "outputs": [
    {
     "data": {
      "text/plain": [
       "gmres (generic function with 1 method)"
      ]
     },
     "execution_count": 23,
     "metadata": {},
     "output_type": "execute_result"
    }
   ],
   "source": [
    "# Iteracja Arnoldiego pozwala na wyznaczenie wektora\n",
    "# ortogonalnego do wektorów z bazy Q\n",
    "# wykorzystując proces podobny do metody Gramma-Schmidta\n",
    "# źródło: [3]\n",
    "function arnoldi_iteration(A, Q, k)\n",
    "    q = A * Q[:,k];\n",
    "    h = zeros(k+1);\n",
    "    for j=1:k\n",
    "        h[j] = dot(Q[:, j], q);\n",
    "        q = q - h[j] * Q[:, j]; \n",
    "    end\n",
    "    h[k+1] = norm(q);\n",
    "    q = q / h[k+1];\n",
    "    return q, h\n",
    "end\n",
    "# GMRES\n",
    "function gmres(A, b, maxiter, epsilon)\n",
    "    N  = size(A, 1);\n",
    "    x0 = zeros(N, 1);\n",
    "    r0 = b - A * x0;\n",
    "    β  = norm(r0);\n",
    "    e1 = [1.0; zeros(maxiter, 1)]; # MAXITER × 1\n",
    "    H = zeros(maxiter, maxiter);    # MAXITER × MAXITER\n",
    "    Q = zeros(N, maxiter);               #  N × MAXITER\n",
    "    Q[:, 1] .= r0 / β;\n",
    "    G = diagm(ones(maxiter)); # MAXITER × MAXITER\n",
    "    history = Float64[]\n",
    "    y = zeros(0)\n",
    "    for k=1:maxiter-1\n",
    "        # find next orthogonal vector\n",
    "        qkp, hkp = arnoldi_iteration(A, Q, k);\n",
    "        Q[:, k+1] .= qkp\n",
    "        H[1:k+1,k].= hkp \n",
    "        # update Given's rotation matrix\n",
    "        Gi = givensrot(G * H, k+1, k);\n",
    "        G  = Gi * G;\n",
    "        # solve least squares problem:\n",
    "        # minimize norm([U; 0] y - [F; e])\n",
    "        U = G[1:k, 1:k+1] * H[1:k+1, 1:k];\n",
    "        F = G[1:k, 1:k+1] * β * e1[1:k+1];\n",
    "        e = G[k+1, 1:k+1]'* β * e1[1:k+1];\n",
    "        y = U \\ F;\n",
    "        Kn = H[1:k+1,1:k] # Krylov subspace\n",
    "        Un = U[1:k,  1:k]\n",
    "        push!(history, abs(e))\n",
    "        if abs(e) < epsilon\n",
    "            break\n",
    "        end\n",
    "    end\n",
    "    k = length(y)\n",
    "    x = x0 + Q[:, 1:k] * y;\n",
    "    D = Q[:, 1:k];\n",
    "    return x, history\n",
    "end"
   ]
  },
  {
   "cell_type": "code",
   "execution_count": 56,
   "id": "e0bf60fb",
   "metadata": {},
   "outputs": [],
   "source": [
    "function fdmproblem(n)\n",
    "    m = n\n",
    "    A = zeros(n*m, n*m)\n",
    "    dof = reshape(1:n*m, n, m)\n",
    "    for i=2:n, j=1:m\n",
    "        A[dof[i,j], dof[i-1,j]] -= 1.0\n",
    "        A[dof[i,j], dof[i,j]] += 1.0\n",
    "    end\n",
    "    for i=1:n, j=2:m\n",
    "        A[dof[i,j], dof[i,j-1]] -= 1.0\n",
    "        A[dof[i,j], dof[i,j]] += 1.0\n",
    "    end\n",
    "    for i=1:n-1, j=1:m\n",
    "        A[dof[i,j], dof[i+1,j]] -= 1.0\n",
    "        A[dof[i,j], dof[i,j]] += 1.0\n",
    "    end\n",
    "    for i=1:n, j=1:m-1\n",
    "        A[dof[i,j], dof[i,j+1]] -= 1.0\n",
    "        A[dof[i,j], dof[i,j]] += 1.0\n",
    "    end\n",
    "    for i=(1,n), j=1:m\n",
    "        A[dof[i,j], :] .= 0.0\n",
    "        A[dof[i,j], dof[i,j]] = 1.0\n",
    "    end\n",
    "    for i=1:n, j=(1,m)\n",
    "        A[dof[i,j], :] .= 0.0\n",
    "        A[:, dof[i,j]] .= 0.0\n",
    "        A[dof[i,j], dof[i,j]] = 1.0\n",
    "    end    \n",
    "    x = zeros(n*m)\n",
    "    for i=1:n, j=1:m\n",
    "        x[dof[i,j]] += sin(1.0π * (i-1)/(n-1))\n",
    "        x[dof[i,j]] += sin(1.0π * (j-1)/(m-1))\n",
    "    end\n",
    "    b = A * x\n",
    "    free = vec([dof[i, j] for i=2:n-1, j=2:m-1])\n",
    "    return sparse(A[free, free]), b[free]\n",
    "end\n",
    "A, b = fdmproblem(100);"
   ]
  },
  {
   "cell_type": "code",
   "execution_count": null,
   "id": "433113cf",
   "metadata": {},
   "outputs": [],
   "source": []
  },
  {
   "cell_type": "code",
   "execution_count": 57,
   "id": "d7339466",
   "metadata": {},
   "outputs": [
    {
     "data": {
      "text/plain": [
       "([0.032635433376150984; 0.06520788584861216; … ; 0.06520788584861302; 0.032635433376152045;;], [4.462445782372392, 2.674672108828486, 1.8351525851766741, 1.3634837722586668, 1.0682483795998214, 0.8695577875827714, 0.7287021606557018, 0.6248612567615413, 0.5459338581603016, 0.4844509157464235  …  7.571099447547526e-14, 7.571099447547497e-14, 7.571099447547466e-14, 7.57109944754744e-14, 7.571099447547412e-14, 7.571099447547385e-14, 7.571099447547356e-14, 7.571099447547329e-14, 7.571099447547296e-14, 7.571099447547257e-14])"
      ]
     },
     "execution_count": 57,
     "metadata": {},
     "output_type": "execute_result"
    }
   ],
   "source": [
    "x, fdm = gmres(A, b, 300, 1e-17)"
   ]
  },
  {
   "cell_type": "code",
   "execution_count": 58,
   "id": "b0e0b36c",
   "metadata": {},
   "outputs": [
    {
     "data": {
      "image/png": "[encoded data removed]",
      "text/plain": [
       "Figure(PyObject <Figure size 1000x200 with 1 Axes>)"
      ]
     },
     "metadata": {},
     "output_type": "display_data"
    },
    {
     "data": {
      "text/plain": [
       "PyObject Text(0.5, 1.0, 'Zbieżność\\xa0metody GMRES dla fdmproblem 9604×9604')"
      ]
     },
     "execution_count": 58,
     "metadata": {},
     "output_type": "execute_result"
    }
   ],
   "source": [
    "using PyPlot\n",
    "figure(figsize=(10, 2))\n",
    "semilogy(fdm)\n",
    "ylim((1e-15, 1e+2))\n",
    "xlabel(\"numer iteracji (-)\")\n",
    "ylabel(\"norma residuum (-)\")\n",
    "title(\"Zbieżność metody GMRES dla fdmproblem $(length(b))×$(length(b))\")"
   ]
  },
  {
   "cell_type": "code",
   "execution_count": 51,
   "id": "3f87d666",
   "metadata": {},
   "outputs": [],
   "source": [
    "using LinearAlgebra\n",
    "using SparseArrays\n",
    "\n",
    "stiffness_element(lx, ly) =\n",
    "[lx/ly  1  lx/ly  1\n",
    "   1  ly/lx  1  ly/lx\n",
    " lx/ly  1  lx/ly  1\n",
    "   1  ly/lx  1  ly/lx]\n",
    "\n",
    "mass_element(lx, ly) = (lx * ly) / 6.0 *\n",
    "[ 2. 0 -1  0\n",
    "  0  2  0 -1\n",
    " -1  0  2  0\n",
    "  0 -1  0  2]\n",
    "\n",
    "function assemble!(S, R, T, el2ed, el2edd, dof, lx, ly, nelem, ndof; εr=1, μr=1, ε0=8.854e-12, μ0=4e-7π)\n",
    "  # ASSUMPTION: Waveguide is homogenous\n",
    "  # Assemble stiffness and mass matrices\n",
    "  ε = εr*ε0\n",
    "  for ielem = 1:nelem # Assemble by elements\n",
    "    Se = stiffness_element(lx, ly)\n",
    "    Te = mass_element(lx, ly)\n",
    "    \n",
    "    for jedge = 1:4\n",
    "      dj = el2edd[ielem, jedge]\n",
    "      jj = dof[el2ed[ielem, jedge]]\n",
    "      if jj == 0\n",
    "        continue\n",
    "      end\n",
    "      \n",
    "      for kedge = 1:4\n",
    "        dk = el2edd[ielem, kedge]\n",
    "        kk = dof[el2ed[ielem, kedge]]\n",
    "        if kk == 0\n",
    "          continue\n",
    "        end\n",
    "  \n",
    "        S[jj, kk] = S[jj, kk] + dj * dk * (1/μr) * Se[jedge, kedge]\n",
    "        T[jj, kk] = T[jj, kk] + dj * dk * (μ0*ε) * Te[jedge, kedge]\n",
    "      end\n",
    "    end\n",
    "  end\n",
    "  return nothing\n",
    "end\n",
    "\n",
    "function lhs(S, T, R, Δt)\n",
    "  A = (+0.25Δt^2 * S +  T + 0.5Δt * R)\n",
    "end\n",
    "\n",
    "function rhs(S, T, R, Δt, ep, epp)\n",
    "  b = (-0.25Δt^2 * S -  T + 0.5Δt * R) * epp +\n",
    "      (-0.50Δt^2 * S + 2T) * ep\n",
    "end\n",
    "\n",
    "function quadmesh(a, b, Nx, Ny)\n",
    "    NUM_EDGES = 2(Nx*Ny) + Nx + Ny\n",
    "    NUM_ELEMS = Nx * Ny\n",
    "    \n",
    "    el2edd = repeat([+1 +1 -1 -1], NUM_ELEMS)\n",
    "    el2ed = zeros(Int64, NUM_ELEMS, 4)\n",
    "    for jj = 1:Ny\n",
    "        for ii = 1:Nx\n",
    "            kk = (jj-1)Nx + ii\n",
    "            el2ed[kk, :]  .= [ii, ii+Nx+1, ii+Nx+1+Nx, ii+Nx]\n",
    "            el2ed[kk, :] .+= (jj-1) * (Nx + Nx + 1)\n",
    "        end\n",
    "    end\n",
    "\n",
    "    return el2ed, el2edd, NUM_EDGES\n",
    "end\n",
    "\n",
    "function femproblem(n)\n",
    "    m = n\n",
    "    @assert n * m < 40*40 \"Are you sure? Try smaller problem first (n < 40)!\"\n",
    "    \n",
    "    # parameters\n",
    "    Δt = 0.01e-9\n",
    "    Lx = 2.00\n",
    "    Ly = 2.00\n",
    "    lx = Lx / n\n",
    "    ly = Ly / m\n",
    "    el2ed, el2edd, nedge = quadmesh(Lx, Ly, n, m);\n",
    "    \n",
    "    # degrees of freedom\n",
    "    DOF_NONE = 0\n",
    "    DOF_PEC  = 1\n",
    "\n",
    "    h = [  1+(2n+1)i: n+0+(2n+1)i for i=0:m]\n",
    "    v = [n+1+(2n+1)i:2n+1+(2n+1)i for i=0:m-1]\n",
    "\n",
    "    Γ = zeros(Int64, nedge)\n",
    "    Γ[first(h)] .= DOF_PEC\n",
    "    Γ[last(h)]  .= DOF_PEC\n",
    "    for i=1:m\n",
    "         Γ[first(v[i])] = DOF_PEC\n",
    "         Γ[last(v[i])] = DOF_PEC\n",
    "    end\n",
    "\n",
    "    dof = collect(1:nedge)\n",
    "    free = Γ .!= DOF_PEC\n",
    "\n",
    "    # assemble finite element matrices\n",
    "    S = zeros(nedge, nedge)\n",
    "    T = zeros(nedge, nedge)\n",
    "    R = zeros(nedge, nedge)\n",
    "    assemble!(S, T, R, el2ed, el2edd, dof, lx, ly, n*m, nedge)\n",
    "    \n",
    "    # construct the problem left hand side\n",
    "    A = lhs(S[free, free], T[free, free], R[free, free], Δt);\n",
    "    \n",
    "    # calculate eigensolution and use it as a starting point\n",
    "    k², v = eigen(Array(S[free, free]), Array(T[free, free]))\n",
    "    \n",
    "    e = zeros(nedge)\n",
    "    ep = copy(e)\n",
    "    epp = copy(e)\n",
    "    ep[free] .= epp[free] .= v[:, 1+(n-1)*(m-1)]\n",
    "    \n",
    "    # construct the problem right hand side\n",
    "    b = rhs(S[free, free], T[free, free], R[free, free], Δt, ep[free], epp[free])\n",
    "    \n",
    "    return 1e23sparse(A), 1e23b\n",
    "end\n",
    "A, b = femproblem(30);"
   ]
  },
  {
   "cell_type": "code",
   "execution_count": 52,
   "id": "d02bec09",
   "metadata": {},
   "outputs": [
    {
     "data": {
      "text/plain": [
       "([1.7713042569237192e-5; 3.4850770247173646e-5; … ; 0.004886139265536557; -0.006893674383223846;;], [6.545442220264269, 2.477593335798485, 1.1561889927105067, 0.6222949934370734, 0.36750082403422035, 0.2340676291068107, 0.15633576167453608, 0.10865125602184367, 0.07780831008698127, 0.05739703840269362  …  1.8656227699311348e-10, 1.7723938834783207e-10, 1.674166989275424e-10, 1.6122632231494664e-10, 1.5899602742852889e-10, 1.585837657746694e-10, 1.585208319538666e-10, 1.5850233254368451e-10, 1.5849186114130948e-10, 1.5848209746503054e-10])"
      ]
     },
     "execution_count": 52,
     "metadata": {},
     "output_type": "execute_result"
    }
   ],
   "source": [
    "x, fem = gmres(A, b, 300, 1e-17)"
   ]
  },
  {
   "cell_type": "code",
   "execution_count": 54,
   "id": "3c8db00d",
   "metadata": {},
   "outputs": [
    {
     "data": {
      "image/png": "[encoded data removed]",
      "text/plain": [
       "Figure(PyObject <Figure size 1000x200 with 1 Axes>)"
      ]
     },
     "metadata": {},
     "output_type": "display_data"
    },
    {
     "data": {
      "text/plain": [
       "PyObject Text(0.5, 1.0, 'Zbieżność\\xa0metody GMRES dla femproblem 1740×1740')"
      ]
     },
     "execution_count": 54,
     "metadata": {},
     "output_type": "execute_result"
    }
   ],
   "source": [
    "using PyPlot\n",
    "figure(figsize=(10, 2))\n",
    "semilogy(fem)\n",
    "ylim((1e-15, 1e+2))\n",
    "xlabel(\"numer iteracji (-)\")\n",
    "ylabel(\"norma residuum (-)\")\n",
    "title(\"Zbieżność metody GMRES dla femproblem $(length(b))×$(length(b))\")"
   ]
  },
  {
   "cell_type": "code",
   "execution_count": 143,
   "id": "6cfce30e",
   "metadata": {},
   "outputs": [
    {
     "data": {
      "text/plain": [
       "cgs (generic function with 1 method)"
      ]
     },
     "execution_count": 143,
     "metadata": {},
     "output_type": "execute_result"
    }
   ],
   "source": [
    "function cgs(A :: Matrix{Float64}) n, _ = size(A)\n",
    "v = A[:,1]\n",
    "Q = zeros(n, n)\n",
    "for j = 1:n v = A[:,j]\n",
    "for k = 1:j-1\n",
    "v .-= (Q[:,k] ⋅ A[:,j]) * Q[:,k]\n",
    "end\n",
    "    Q[:,j] .= v ./ norm(v)\n",
    "end\n",
    "R = Q' * A\n",
    "return Q, R end"
   ]
  },
  {
   "cell_type": "code",
   "execution_count": 144,
   "id": "41a2e3d7",
   "metadata": {},
   "outputs": [
    {
     "data": {
      "text/plain": [
       "mgs (generic function with 1 method)"
      ]
     },
     "execution_count": 144,
     "metadata": {},
     "output_type": "execute_result"
    }
   ],
   "source": [
    "function mgs(A :: Matrix{Float64}) n, _ = size(A)\n",
    "v = A[:,1]\n",
    "Q = zeros(n, n)\n",
    "for j = 1:n v = A[:,j]\n",
    "for k = 1:j-1\n",
    "v .-= (Q[:,k] ⋅ v) * Q[:,k]\n",
    "end\n",
    "    Q[:,j] .= v ./ norm(v)\n",
    "end\n",
    "R = Q' * A\n",
    "return Q, R end"
   ]
  },
  {
   "cell_type": "code",
   "execution_count": 150,
   "id": "e97c2e8b",
   "metadata": {},
   "outputs": [
    {
     "data": {
      "text/plain": [
       "3×3 Matrix{Float64}:\n",
       " 7.0  3.0  6.0\n",
       " 2.0  5.0  9.0\n",
       " 7.0  3.0  8.0"
      ]
     },
     "execution_count": 150,
     "metadata": {},
     "output_type": "execute_result"
    }
   ],
   "source": [
    "A = floor.(10rand(3,3))"
   ]
  },
  {
   "cell_type": "code",
   "execution_count": 158,
   "id": "a7741369",
   "metadata": {},
   "outputs": [
    {
     "data": {
      "text/plain": [
       "3×3 Matrix{Float64}:\n",
       "  1.0          -1.94289e-16  -1.11022e-16\n",
       " -1.94289e-16   1.0          -6.10623e-16\n",
       " -1.11022e-16  -6.10623e-16   1.0"
      ]
     },
     "execution_count": 158,
     "metadata": {},
     "output_type": "execute_result"
    }
   ],
   "source": [
    "Q, R = mgs(A)\n",
    "Q' * Q"
   ]
  },
  {
   "cell_type": "code",
   "execution_count": 169,
   "id": "3ef0249a",
   "metadata": {},
   "outputs": [
    {
     "data": {
      "text/plain": [
       "3×3 Matrix{Float64}:\n",
       "  0.707107  0.0  0.707107\n",
       " -0.707107  0.0  0.707107\n",
       "  0.0       1.0  0.0"
      ]
     },
     "execution_count": 169,
     "metadata": {},
     "output_type": "execute_result"
    }
   ],
   "source": [
    "v1 = [1., -1., 0]\n",
    "v2 = [0, 0, 1]\n",
    "v3 = [+1, 1., 0]\n",
    "A = hcat(normalize(v1), normalize(v2), normalize(v3))"
   ]
  },
  {
   "cell_type": "code",
   "execution_count": 184,
   "id": "4723b7c5",
   "metadata": {},
   "outputs": [
    {
     "data": {
      "text/plain": [
       "3×3 Matrix{Float64}:\n",
       "  1.0  -0.666667  0.0\n",
       " -1.0   0.666667  1.0\n",
       "  0.0   0.333333  0.0"
      ]
     },
     "execution_count": 184,
     "metadata": {},
     "output_type": "execute_result"
    }
   ],
   "source": [
    "A = hcat(v1, normalize(v2 - 2v1), normalize(v3 - v1))"
   ]
  },
  {
   "cell_type": "code",
   "execution_count": 186,
   "id": "be2dcfd9",
   "metadata": {},
   "outputs": [
    {
     "data": {
      "text/plain": [
       "3×3 Matrix{Float64}:\n",
       "  2.0      -1.33333   -1.0\n",
       " -1.33333   1.0        0.666667\n",
       " -1.0       0.666667   1.0"
      ]
     },
     "execution_count": 186,
     "metadata": {},
     "output_type": "execute_result"
    }
   ],
   "source": [
    "Q, R = cgs(A)\n",
    "A' * A"
   ]
  },
  {
   "cell_type": "code",
   "execution_count": 198,
   "id": "ce6917b2",
   "metadata": {},
   "outputs": [
    {
     "data": {
      "text/plain": [
       "3-element Vector{Float64}:\n",
       "  2.5\n",
       "  3.0\n",
       " -1.0"
      ]
     },
     "execution_count": 198,
     "metadata": {},
     "output_type": "execute_result"
    }
   ],
   "source": [
    "R = [1. 1. 1.5; 0 0.5 1.5; 0. 0. 2.5]\n",
    "Q = [1. 0 0; 0 1. 0; 0 0 1.]\n",
    "b = [4., 0., -2.5]\n",
    "R \\ (Q * b)"
   ]
  },
  {
   "cell_type": "code",
   "execution_count": 193,
   "id": "964c948e",
   "metadata": {},
   "outputs": [
    {
     "data": {
      "text/plain": [
       "3-element Vector{Float64}:\n",
       " 0.33333333333333315\n",
       " 0.6666666666666669\n",
       " 0.3333333333333331"
      ]
     },
     "execution_count": 193,
     "metadata": {},
     "output_type": "execute_result"
    }
   ],
   "source": [
    "Q * b"
   ]
  },
  {
   "cell_type": "code",
   "execution_count": null,
   "id": "ad02504e",
   "metadata": {},
   "outputs": [],
   "source": []
  }
 ],
 "metadata": {
  "kernelspec": {
   "display_name": "Julia 1.9",
   "language": "julia",
   "name": "julia-1.1"
  },
  "language_info": {
   "file_extension": ".jl",
   "mimetype": "application/julia",
   "name": "julia",
   "version": "1.9.0"
  }
 },
 "nbformat": 4,
 "nbformat_minor": 5
}
