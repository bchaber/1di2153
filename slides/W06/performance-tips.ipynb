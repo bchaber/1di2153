{
 "cells": [
  {
   "cell_type": "markdown",
   "metadata": {},
   "source": [
    "### Measure performance with @time and pay attention to memory allocation"
   ]
  },
  {
   "cell_type": "code",
   "execution_count": 1,
   "metadata": {},
   "outputs": [
    {
     "name": "stdout",
     "output_type": "stream",
     "text": [
      "Pierwsza kompilacja jest niemiarodajna\t\t  0.023568 seconds (6.83 k allocations: 340.258 KiB)\n"
     ]
    }
   ],
   "source": [
    "function sum_global()\n",
    " global x\n",
    " s = 0.0\n",
    " for i in x\n",
    "  s += i\n",
    " end\n",
    " return s\n",
    "end\n",
    "\n",
    "x = rand(1)\n",
    "print(\"Pierwsza kompilacja jest niemiarodajna\\t\\t\")\n",
    "@time sum_global(); # żeby skompilować"
   ]
  },
  {
   "cell_type": "code",
   "execution_count": 2,
   "metadata": {},
   "outputs": [
    {
     "name": "stdout",
     "output_type": "stream",
     "text": [
      "  0.000256 seconds (3.49 k allocations: 70.313 KiB)\n"
     ]
    }
   ],
   "source": [
    "x = rand(1000)\n",
    "@time sum_global();"
   ]
  },
  {
   "cell_type": "code",
   "execution_count": 3,
   "metadata": {},
   "outputs": [
    {
     "name": "stdout",
     "output_type": "stream",
     "text": [
      "Pierwsza kompilacja jest niemiarodajna\t\t  0.027336 seconds (5.27 k allocations: 242.211 KiB)\n"
     ]
    }
   ],
   "source": [
    "function sum_arg(x)\n",
    " s = 0.0\n",
    " for i in x\n",
    "  s += i\n",
    " end\n",
    " return s\n",
    "end\n",
    "\n",
    "x = rand(1)\n",
    "print(\"Pierwsza kompilacja jest niemiarodajna\\t\\t\")\n",
    "@time sum_arg(x);"
   ]
  },
  {
   "cell_type": "code",
   "execution_count": 4,
   "metadata": {},
   "outputs": [
    {
     "name": "stdout",
     "output_type": "stream",
     "text": [
      "  0.000025 seconds (5 allocations: 176 bytes)\n"
     ]
    }
   ],
   "source": [
    "x = rand(1000)\n",
    "@time sum_arg(x);"
   ]
  },
  {
   "cell_type": "code",
   "execution_count": 5,
   "metadata": {},
   "outputs": [
    {
     "name": "stdout",
     "output_type": "stream",
     "text": [
      "  0.000013 seconds\n"
     ]
    }
   ],
   "source": [
    "time_sum(x) = @time sum_arg(x)\n",
    "time_sum(x);"
   ]
  },
  {
   "cell_type": "code",
   "execution_count": 9,
   "metadata": {},
   "outputs": [],
   "source": [
    "import BenchmarkTools: @btime"
   ]
  },
  {
   "cell_type": "markdown",
   "metadata": {},
   "source": [
    "### Avoid containers with abstract type parameters"
   ]
  },
  {
   "cell_type": "code",
   "execution_count": 7,
   "metadata": {},
   "outputs": [],
   "source": [
    "f(v) = v[1];"
   ]
  },
  {
   "cell_type": "code",
   "execution_count": 8,
   "metadata": {},
   "outputs": [
    {
     "data": {
      "text/plain": [
       "3-element Array{Real,1}:\n",
       " 1  \n",
       " 2.0\n",
       " π  "
      ]
     },
     "execution_count": 8,
     "metadata": {},
     "output_type": "execute_result"
    }
   ],
   "source": [
    "a = Real[]\n",
    "push!(a, 1)\n",
    "push!(a, 2.0)\n",
    "push!(a, π)"
   ]
  },
  {
   "cell_type": "code",
   "execution_count": 9,
   "metadata": {
    "scrolled": false
   },
   "outputs": [
    {
     "name": "stdout",
     "output_type": "stream",
     "text": [
      "\t.text\n",
      "; ┌ @ In[7]:1 within `f'\n",
      "\tpushq\t%rbp\n",
      "\tmovq\t%rsp, %rbp\n",
      "\tsubq\t$16, %rsp\n",
      "\tmovq\t%rsi, -8(%rbp)\n",
      "\tmovq\t(%rsi), %rdi\n",
      "; │┌ @ array.jl:744 within `getindex'\n",
      "\tcmpq\t$0, 8(%rdi)\n",
      "\tje\tL38\n",
      "\tmovq\t(%rdi), %rax\n",
      "\tmovq\t(%rax), %rax\n",
      "\ttestq\t%rax, %rax\n",
      "\tje\tL73\n",
      "; │└\n",
      "\tmovq\t%rbp, %rsp\n",
      "\tpopq\t%rbp\n",
      "\tretq\n",
      "; │┌ @ array.jl:744 within `getindex'\n",
      "L38:\n",
      "\tmovq\t%rsp, %rax\n",
      "\tleaq\t-16(%rax), %rsi\n",
      "\tmovq\t%rsi, %rsp\n",
      "\tmovq\t$1, -16(%rax)\n",
      "\tmovabsq\t$jl_bounds_error_ints, %rax\n",
      "\tmovl\t$1, %edx\n",
      "\tcallq\t*%rax\n",
      "L73:\n",
      "\tmovabsq\t$jl_throw, %rax\n",
      "\tmovabsq\t$jl_system_image_data, %rdi\n",
      "\tcallq\t*%rax\n",
      "; └└\n"
     ]
    }
   ],
   "source": [
    "@code_native f(a)"
   ]
  },
  {
   "cell_type": "code",
   "execution_count": 10,
   "metadata": {
    "scrolled": true
   },
   "outputs": [
    {
     "data": {
      "text/plain": [
       "3-element Array{Float64,1}:\n",
       " 1.0              \n",
       " 2.0              \n",
       " 3.141592653589793"
      ]
     },
     "execution_count": 10,
     "metadata": {},
     "output_type": "execute_result"
    }
   ],
   "source": [
    "a = Float64[]\n",
    "push!(a, 1)\n",
    "push!(a, 2.0)\n",
    "push!(a, π)"
   ]
  },
  {
   "cell_type": "code",
   "execution_count": 11,
   "metadata": {
    "scrolled": false
   },
   "outputs": [
    {
     "name": "stdout",
     "output_type": "stream",
     "text": [
      "\t.text\n",
      "; ┌ @ In[7]:1 within `f'\n",
      "; │┌ @ In[7]:1 within `getindex'\n",
      "\tcmpq\t$0, 8(%rdi)\n",
      "\tje\tL15\n",
      "\tmovq\t(%rdi), %rax\n",
      "\tvmovsd\t(%rax), %xmm0           # xmm0 = mem[0],zero\n",
      "; │└\n",
      "\tretq\n",
      "L15:\n",
      "\tpushq\t%rbp\n",
      "\tmovq\t%rsp, %rbp\n",
      "; │ @ In[7]:1 within `f'\n",
      "; │┌ @ array.jl:744 within `getindex'\n",
      "\tmovq\t%rsp, %rax\n",
      "\tleaq\t-16(%rax), %rsi\n",
      "\tmovq\t%rsi, %rsp\n",
      "\tmovq\t$1, -16(%rax)\n",
      "\tmovabsq\t$jl_bounds_error_ints, %rax\n",
      "\tmovl\t$1, %edx\n",
      "\tcallq\t*%rax\n",
      "\tnopw\t%cs:(%rax,%rax)\n",
      "; └└\n"
     ]
    }
   ],
   "source": [
    "@code_native f(a)"
   ]
  },
  {
   "cell_type": "markdown",
   "metadata": {},
   "source": [
    "### Avoid fields with abstract types"
   ]
  },
  {
   "cell_type": "code",
   "execution_count": 12,
   "metadata": {},
   "outputs": [
    {
     "name": "stdout",
     "output_type": "stream",
     "text": [
      "typeof(b) = MyAmbiguousType\n",
      "typeof(c) = MyAmbiguousType\n"
     ]
    }
   ],
   "source": [
    "struct MyAmbiguousType\n",
    " a\n",
    "end\n",
    "\n",
    "b = MyAmbiguousType(\"Hello\")\n",
    "c = MyAmbiguousType(17)\n",
    "\n",
    "@show typeof(b);\n",
    "@show typeof(c);"
   ]
  },
  {
   "cell_type": "code",
   "execution_count": 13,
   "metadata": {},
   "outputs": [
    {
     "name": "stdout",
     "output_type": "stream",
     "text": [
      "typeof(t) = MyStillAmbiguousType\n",
      "typeof(m) = EquivalentByConcreteType{Float64}\n",
      "\n",
      "typeof(t.a) = Float64\n",
      "typeof(t.a) = Float32\n",
      "\n",
      "typeof(m.a) = Float64\n",
      "typeof(m.a) = Float64\n"
     ]
    }
   ],
   "source": [
    "mutable struct MyStillAmbiguousType\n",
    " a :: AbstractFloat\n",
    "end\n",
    "\n",
    "mutable struct EquivalentByConcreteType{T <: AbstractFloat}\n",
    " a :: T\n",
    "end\n",
    "\n",
    "t = MyStillAmbiguousType(3.2)\n",
    "m = EquivalentByConcreteType(3.2)\n",
    "\n",
    "@show typeof(t);\n",
    "@show typeof(m);\n",
    "println()\n",
    "@show typeof(t.a);\n",
    "t.a = 4.5f0\n",
    "@show typeof(t.a);\n",
    "println()\n",
    "@show typeof(m.a);\n",
    "m.a = 4.5f0\n",
    "@show typeof(m.a);"
   ]
  },
  {
   "cell_type": "code",
   "execution_count": 14,
   "metadata": {},
   "outputs": [
    {
     "name": "stdout",
     "output_type": "stream",
     "text": [
      "typeof(r.a) = Float64\n",
      "typeof(r.a) = Float32\n"
     ]
    }
   ],
   "source": [
    "r = EquivalentByConcreteType{AbstractFloat}(3.2)\n",
    "\n",
    "@show typeof(r.a);\n",
    "r.a = 4.5f0\n",
    "@show typeof(r.a);"
   ]
  },
  {
   "cell_type": "code",
   "execution_count": 15,
   "metadata": {
    "scrolled": false
   },
   "outputs": [
    {
     "name": "stdout",
     "output_type": "stream",
     "text": [
      "\t.text\n",
      "; ┌ @ In[15]:1 within `func'\n",
      "; │┌ @ In[15]:1 within `getproperty'\n",
      "\tvmovsd\t(%rdi), %xmm0           # xmm0 = mem[0],zero\n",
      "\tmovabsq\t$140067473019728, %rax  # imm = 0x7F63FFF95350\n",
      "; │└\n",
      "; │┌ @ promotion.jl:311 within `+' @ float.jl:401\n",
      "\tvaddsd\t(%rax), %xmm0, %xmm0\n",
      "; │└\n",
      "\tretq\n",
      "\tnopw\t%cs:(%rax,%rax)\n",
      "; └\n"
     ]
    }
   ],
   "source": [
    "func(m::EquivalentByConcreteType) = m.a + 1\n",
    "@code_native func(m)"
   ]
  },
  {
   "cell_type": "code",
   "execution_count": 16,
   "metadata": {
    "scrolled": false
   },
   "outputs": [
    {
     "name": "stdout",
     "output_type": "stream",
     "text": [
      "\t.text\n",
      "; ┌ @ In[16]:1 within `func'\n",
      "\tpushq\t%rbx\n",
      "\tsubq\t$48, %rsp\n",
      "\tvxorps\t%xmm0, %xmm0, %xmm0\n",
      "\tvmovaps\t%xmm0, (%rsp)\n",
      "\tmovq\t$0, 16(%rsp)\n",
      "\tmovq\t%rsi, 40(%rsp)\n",
      "\tmovq\t%fs:0, %rax\n",
      "\tmovq\t$2, (%rsp)\n",
      "\tmovq\t-15712(%rax), %rcx\n",
      "\tmovq\t%rcx, 8(%rsp)\n",
      "\tmovq\t%rsp, %rcx\n",
      "\tmovq\t%rcx, -15712(%rax)\n",
      "\tleaq\t-15712(%rax), %rbx\n",
      "\tmovq\t(%rsi), %rax\n",
      "; │┌ @ Base.jl:20 within `getproperty'\n",
      "\tmovq\t(%rax), %rdi\n",
      "; │└\n",
      "\tmovq\t-8(%rdi), %rax\n",
      "\tshrq\t$4, %rax\n",
      "\tmovabsq\t$8754233578515, %rcx    # imm = 0x7F640FB9413\n",
      "\tmovq\t%rdi, 16(%rsp)\n",
      "\tcmpq\t%rcx, %rax\n",
      "\tje\tL162\n",
      "\tmovq\t%rdi, 24(%rsp)\n",
      "\tmovabsq\t$140067642601568, %rax  # imm = 0x7F640A14F060\n",
      "\tmovq\t%rax, 32(%rsp)\n",
      "\tmovabsq\t$jl_apply_generic, %rax\n",
      "\tmovabsq\t$jl_system_image_data, %rdi\n",
      "\tleaq\t24(%rsp), %rsi\n",
      "\tmovl\t$2, %edx\n",
      "\tcallq\t*%rax\n",
      "\tjmp\tL179\n",
      "L162:\n",
      "\tmovabsq\t$\"+\", %rax\n",
      "\tmovl\t$1, %esi\n",
      "\tcallq\t*%rax\n",
      "L179:\n",
      "\tmovq\t8(%rsp), %rcx\n",
      "\tmovq\t%rcx, (%rbx)\n",
      "; │ @ In[16]:1 within `func'\n",
      "\taddq\t$48, %rsp\n",
      "\tpopq\t%rbx\n",
      "\tretq\n",
      "; └\n"
     ]
    }
   ],
   "source": [
    "func(m::MyStillAmbiguousType) = m.a + 1\n",
    "@code_native func(t)"
   ]
  },
  {
   "cell_type": "markdown",
   "metadata": {},
   "source": [
    "### Avoid fields with abstract containers"
   ]
  },
  {
   "cell_type": "code",
   "execution_count": 17,
   "metadata": {},
   "outputs": [
    {
     "name": "stdout",
     "output_type": "stream",
     "text": [
      "ur = 1:10\n",
      "ar = [1, 2, 3, 4, 5, 6, 7, 8, 9, 10]\n"
     ]
    }
   ],
   "source": [
    "struct MyConcreteContainer{A <: AbstractVector}\n",
    " a :: A\n",
    "end\n",
    "\n",
    "struct MyAmbiguousContainer{T}\n",
    " a :: AbstractVector{T}\n",
    "end\n",
    "ur = 1:10  # zwraca zakres\n",
    "ar =[1:10;]# zwraca kolejne wartości z zakresu\n",
    "\n",
    "@show ur;\n",
    "@show ar;"
   ]
  },
  {
   "cell_type": "code",
   "execution_count": 18,
   "metadata": {},
   "outputs": [
    {
     "name": "stdout",
     "output_type": "stream",
     "text": [
      "typeof(MyConcreteContainer(ur)) = MyConcreteContainer{UnitRange{Int64}}\n",
      "typeof(MyConcreteContainer(ar)) = MyConcreteContainer{Array{Int64,1}}\n",
      "typeof(MyAmbiguousContainer(ur)) = MyAmbiguousContainer{Int64}\n",
      "typeof(MyAmbiguousContainer(ar)) = MyAmbiguousContainer{Int64}\n"
     ]
    }
   ],
   "source": [
    "@show typeof(MyConcreteContainer(ur));\n",
    "@show typeof(MyConcreteContainer(ar));\n",
    "@show typeof(MyAmbiguousContainer(ur));\n",
    "@show typeof(MyAmbiguousContainer(ar));"
   ]
  },
  {
   "cell_type": "code",
   "execution_count": 19,
   "metadata": {},
   "outputs": [],
   "source": [
    "function sumfoo(c :: MyConcreteContainer)\n",
    " s = 0\n",
    " for x in c.a\n",
    "  s += foo(x)\n",
    " end\n",
    " s\n",
    "end\n",
    "foo(x::Integer) = x;\n",
    "foo(x::AbstractFloat) = round(x);"
   ]
  },
  {
   "cell_type": "code",
   "execution_count": 20,
   "metadata": {},
   "outputs": [
    {
     "name": "stdout",
     "output_type": "stream",
     "text": [
      "bar(MyConcreteContainer(1:3)) = 2\n",
      "bar(MyConcreteContainer(1.0:3)) = 3.0\n",
      "bar(MyConcreteContainer([1:3;])) = 4\n"
     ]
    }
   ],
   "source": [
    "function bar(c :: MyConcreteContainer{ <:AbstractArray{ <:Integer }})\n",
    " return c.a[1] + 1\n",
    "end\n",
    "\n",
    "function bar(c :: MyConcreteContainer{ <:AbstractArray{ <:AbstractFloat }})\n",
    " return c.a[1] + 2\n",
    "end\n",
    "\n",
    "function bar(c :: MyConcreteContainer{ Vector{T} }) where T <: Integer\n",
    " return c.a[1] + 3\n",
    "end\n",
    "\n",
    "@show bar(MyConcreteContainer(1:3));\n",
    "@show bar(MyConcreteContainer(1.0:3));\n",
    "@show bar(MyConcreteContainer([1:3;]));"
   ]
  },
  {
   "cell_type": "markdown",
   "metadata": {},
   "source": [
    "### Break functions into multiple definitions"
   ]
  },
  {
   "cell_type": "code",
   "execution_count": 21,
   "metadata": {},
   "outputs": [
    {
     "data": {
      "text/plain": [
       "_norm (generic function with 1 method)"
      ]
     },
     "execution_count": 21,
     "metadata": {},
     "output_type": "execute_result"
    }
   ],
   "source": [
    "using LinearAlgebra\n",
    "\n",
    "function _norm(A)\n",
    "    if isa(A, Vector)\n",
    "        return sqrt(real(dot(A,A)))\n",
    "    elseif isa(A, Matrix)\n",
    "        return maximum(svdvals(A))\n",
    "    else\n",
    "        error(\"_norm: invalid argument\")\n",
    "    end\n",
    "end"
   ]
  },
  {
   "cell_type": "code",
   "execution_count": 22,
   "metadata": {},
   "outputs": [
    {
     "data": {
      "text/plain": [
       "_norm (generic function with 3 methods)"
      ]
     },
     "execution_count": 22,
     "metadata": {},
     "output_type": "execute_result"
    }
   ],
   "source": [
    "_norm(x :: Vector) = sqrt(real(dot(x, x)))\n",
    "_norm(A :: Matrix) = maximum(svdvals(A))"
   ]
  },
  {
   "cell_type": "markdown",
   "metadata": {},
   "source": [
    "### Write \"type-stable\" functions"
   ]
  },
  {
   "cell_type": "code",
   "execution_count": 23,
   "metadata": {},
   "outputs": [
    {
     "name": "stdout",
     "output_type": "stream",
     "text": [
      "Variables\n",
      "  #self#\u001b[36m::Core.Compiler.Const(pos, false)\u001b[39m\n",
      "  x\u001b[36m::Float64\u001b[39m\n",
      "\n",
      "Body\u001b[91m\u001b[1m::Union{Float64, Int64}\u001b[22m\u001b[39m\n",
      "\u001b[90m1 ─\u001b[39m %1 = (x < 0)\u001b[36m::Bool\u001b[39m\n",
      "\u001b[90m└──\u001b[39m      goto #3 if not %1\n",
      "\u001b[90m2 ─\u001b[39m      return 0\n",
      "\u001b[90m3 ─\u001b[39m      return x\n"
     ]
    }
   ],
   "source": [
    "pos(x) = x < 0 ? 0 : x\n",
    "@code_warntype pos(5.0)"
   ]
  },
  {
   "cell_type": "code",
   "execution_count": 24,
   "metadata": {},
   "outputs": [
    {
     "name": "stdout",
     "output_type": "stream",
     "text": [
      "Variables\n",
      "  #self#\u001b[36m::Core.Compiler.Const(pos, false)\u001b[39m\n",
      "  x\u001b[36m::Float64\u001b[39m\n",
      "\n",
      "Body\u001b[36m::Float64\u001b[39m\n",
      "\u001b[90m1 ─\u001b[39m %1 = (x < 0)\u001b[36m::Bool\u001b[39m\n",
      "\u001b[90m└──\u001b[39m      goto #3 if not %1\n",
      "\u001b[90m2 ─\u001b[39m %3 = Main.zero(x)\u001b[36m::Core.Compiler.Const(0.0, false)\u001b[39m\n",
      "\u001b[90m└──\u001b[39m      return %3\n",
      "\u001b[90m3 ─\u001b[39m      return x\n"
     ]
    }
   ],
   "source": [
    "pos(x) = x < 0 ? zero(x) : x\n",
    "@code_warntype pos(5.0)"
   ]
  },
  {
   "cell_type": "markdown",
   "metadata": {},
   "source": [
    "### Avoid changing the type of a variable inside a function"
   ]
  },
  {
   "cell_type": "code",
   "execution_count": 25,
   "metadata": {},
   "outputs": [
    {
     "name": "stdout",
     "output_type": "stream",
     "text": [
      "Variables\n",
      "  #self#\u001b[36m::Core.Compiler.Const(baz, false)\u001b[39m\n",
      "  x\u001b[91m\u001b[1m::Union{Float64, Int64}\u001b[22m\u001b[39m\n",
      "  @_3\u001b[33m\u001b[1m::Union{Nothing, Tuple{Int64,Int64}}\u001b[22m\u001b[39m\n",
      "  i\u001b[36m::Int64\u001b[39m\n",
      "\n",
      "Body\u001b[36m::Float64\u001b[39m\n",
      "\u001b[90m1 ─\u001b[39m       (x = 1)\n",
      "\u001b[90m│  \u001b[39m %2  = (1:10)\u001b[36m::Core.Compiler.Const(1:10, false)\u001b[39m\n",
      "\u001b[90m│  \u001b[39m       (@_3 = Base.iterate(%2))\n",
      "\u001b[90m│  \u001b[39m %4  = (@_3::Core.Compiler.Const((1, 1), false) === nothing)\u001b[36m::Core.Compiler.Const(false, false)\u001b[39m\n",
      "\u001b[90m│  \u001b[39m %5  = Base.not_int(%4)\u001b[36m::Core.Compiler.Const(true, false)\u001b[39m\n",
      "\u001b[90m└──\u001b[39m       goto #4 if not %5\n",
      "\u001b[90m2 ┄\u001b[39m %7  = @_3::Tuple{Int64,Int64}\u001b[36m::Tuple{Int64,Int64}\u001b[39m\n",
      "\u001b[90m│  \u001b[39m       (i = Core.getfield(%7, 1))\n",
      "\u001b[90m│  \u001b[39m %9  = Core.getfield(%7, 2)\u001b[36m::Int64\u001b[39m\n",
      "\u001b[90m│  \u001b[39m %10 = x\u001b[91m\u001b[1m::Union{Float64, Int64}\u001b[22m\u001b[39m\n",
      "\u001b[90m│  \u001b[39m %11 = Main.rand()\u001b[36m::Float64\u001b[39m\n",
      "\u001b[90m│  \u001b[39m       (x = %10 / %11)\n",
      "\u001b[90m│  \u001b[39m       (@_3 = Base.iterate(%2, %9))\n",
      "\u001b[90m│  \u001b[39m %14 = (@_3 === nothing)\u001b[36m::Bool\u001b[39m\n",
      "\u001b[90m│  \u001b[39m %15 = Base.not_int(%14)\u001b[36m::Bool\u001b[39m\n",
      "\u001b[90m└──\u001b[39m       goto #4 if not %15\n",
      "\u001b[90m3 ─\u001b[39m       goto #2\n",
      "\u001b[90m4 ┄\u001b[39m       return x::Float64\n"
     ]
    }
   ],
   "source": [
    "function baz()\n",
    " x = 1\n",
    " # x = 1.0\n",
    " # x :: Float64 = 1\n",
    " # x = oneunit(Float64)\n",
    " for i = 1:10\n",
    "  x /= rand()\n",
    " end\n",
    " return x\n",
    "end\n",
    "@code_warntype baz()"
   ]
  },
  {
   "cell_type": "markdown",
   "metadata": {},
   "source": [
    "### Separate kernel functions (aka, function barriers)"
   ]
  },
  {
   "cell_type": "code",
   "execution_count": 26,
   "metadata": {},
   "outputs": [
    {
     "name": "stdout",
     "output_type": "stream",
     "text": [
      "Variables\n",
      "  #self#\u001b[36m::Core.Compiler.Const(strange_twos, false)\u001b[39m\n",
      "  n\u001b[36m::Int64\u001b[39m\n",
      "  a\u001b[91m\u001b[1m::Array{_A,1} where _A\u001b[22m\u001b[39m\n",
      "  @_4\u001b[33m\u001b[1m::Union{Nothing, Tuple{Int64,Int64}}\u001b[22m\u001b[39m\n",
      "  i\u001b[36m::Int64\u001b[39m\n",
      "  @_6\u001b[91m\u001b[1m::Union{Type{Float64}, Type{Int64}}\u001b[22m\u001b[39m\n",
      "\n",
      "Body\u001b[91m\u001b[1m::Array{_A,1} where _A\u001b[22m\u001b[39m\n",
      "\u001b[90m1 ─\u001b[39m       Core.NewvarNode(:(a))\n",
      "\u001b[90m│  \u001b[39m       Core.NewvarNode(:(@_4))\n",
      "\u001b[90m│  \u001b[39m %3  = Main.rand()\u001b[36m::Float64\u001b[39m\n",
      "\u001b[90m│  \u001b[39m %4  = (%3 > 0.5)\u001b[36m::Bool\u001b[39m\n",
      "\u001b[90m└──\u001b[39m       goto #3 if not %4\n",
      "\u001b[90m2 ─\u001b[39m       (@_6 = Main.Int64)\n",
      "\u001b[90m└──\u001b[39m       goto #4\n",
      "\u001b[90m3 ─\u001b[39m       (@_6 = Main.Float64)\n",
      "\u001b[90m4 ┄\u001b[39m %9  = @_6\u001b[91m\u001b[1m::Union{Type{Float64}, Type{Int64}}\u001b[22m\u001b[39m\n",
      "\u001b[90m│  \u001b[39m %10 = Core.apply_type(Main.Vector, %9)\u001b[91m\u001b[1m::Type{Array{_A,1}} where _A\u001b[22m\u001b[39m\n",
      "\u001b[90m│  \u001b[39m       (a = (%10)(Main.undef, n))\n",
      "\u001b[90m│  \u001b[39m %12 = (1:n)\u001b[36m::Core.Compiler.PartialStruct(UnitRange{Int64}, Any[Core.Compiler.Const(1, false), Int64])\u001b[39m\n",
      "\u001b[90m│  \u001b[39m       (@_4 = Base.iterate(%12))\n",
      "\u001b[90m│  \u001b[39m %14 = (@_4 === nothing)\u001b[36m::Bool\u001b[39m\n",
      "\u001b[90m│  \u001b[39m %15 = Base.not_int(%14)\u001b[36m::Bool\u001b[39m\n",
      "\u001b[90m└──\u001b[39m       goto #7 if not %15\n",
      "\u001b[90m5 ┄\u001b[39m %17 = @_4::Tuple{Int64,Int64}\u001b[36m::Tuple{Int64,Int64}\u001b[39m\n",
      "\u001b[90m│  \u001b[39m       (i = Core.getfield(%17, 1))\n",
      "\u001b[90m│  \u001b[39m %19 = Core.getfield(%17, 2)\u001b[36m::Int64\u001b[39m\n",
      "\u001b[90m│  \u001b[39m       Base.setindex!(a, 2, i)\n",
      "\u001b[90m│  \u001b[39m       (@_4 = Base.iterate(%12, %19))\n",
      "\u001b[90m│  \u001b[39m %22 = (@_4 === nothing)\u001b[36m::Bool\u001b[39m\n",
      "\u001b[90m│  \u001b[39m %23 = Base.not_int(%22)\u001b[36m::Bool\u001b[39m\n",
      "\u001b[90m└──\u001b[39m       goto #7 if not %23\n",
      "\u001b[90m6 ─\u001b[39m       goto #5\n",
      "\u001b[90m7 ┄\u001b[39m       return a\n",
      "strange_twos(1) = [2.0]\n",
      "strange_twos(1) = [2]\n",
      "strange_twos(1) = [2]\n",
      "strange_twos(1) = [2.0]\n"
     ]
    }
   ],
   "source": [
    "function strange_twos(n)\n",
    " a = Vector{rand() > 0.5 ? Int64 : Float64}(undef, n)\n",
    " for i = 1:n\n",
    "  a[i] = 2\n",
    " end\n",
    " return a\n",
    "end\n",
    "@code_warntype strange_twos(1)\n",
    "@show strange_twos(1);\n",
    "@show strange_twos(1);\n",
    "@show strange_twos(1);\n",
    "@show strange_twos(1);"
   ]
  },
  {
   "cell_type": "code",
   "execution_count": 27,
   "metadata": {},
   "outputs": [
    {
     "name": "stdout",
     "output_type": "stream",
     "text": [
      "Variables\n",
      "  #self#\u001b[36m::Core.Compiler.Const(strange_twos, false)\u001b[39m\n",
      "  n\u001b[36m::Int64\u001b[39m\n",
      "  a\u001b[91m\u001b[1m::Array{_A,1} where _A\u001b[22m\u001b[39m\n",
      "  @_4\u001b[91m\u001b[1m::Union{Type{Float64}, Type{Int64}}\u001b[22m\u001b[39m\n",
      "\n",
      "Body\u001b[91m\u001b[1m::Array{_A,1} where _A\u001b[22m\u001b[39m\n",
      "\u001b[90m1 ─\u001b[39m      Core.NewvarNode(:(a))\n",
      "\u001b[90m│  \u001b[39m %2 = Main.rand(Main.Bool)\u001b[36m::Bool\u001b[39m\n",
      "\u001b[90m└──\u001b[39m      goto #3 if not %2\n",
      "\u001b[90m2 ─\u001b[39m      (@_4 = Main.Int64)\n",
      "\u001b[90m└──\u001b[39m      goto #4\n",
      "\u001b[90m3 ─\u001b[39m      (@_4 = Main.Float64)\n",
      "\u001b[90m4 ┄\u001b[39m %7 = @_4\u001b[91m\u001b[1m::Union{Type{Float64}, Type{Int64}}\u001b[22m\u001b[39m\n",
      "\u001b[90m│  \u001b[39m %8 = Core.apply_type(Main.Vector, %7)\u001b[91m\u001b[1m::Type{Array{_A,1}} where _A\u001b[22m\u001b[39m\n",
      "\u001b[90m│  \u001b[39m      (a = (%8)(Main.undef, n))\n",
      "\u001b[90m│  \u001b[39m      Main.fill_twos!(a)\n",
      "\u001b[90m└──\u001b[39m      return a\n"
     ]
    }
   ],
   "source": [
    "function fill_twos!(a)\n",
    " for i = eachindex(a)\n",
    "  a[i] = 2\n",
    " end\n",
    "end\n",
    "\n",
    "function strange_twos(n)\n",
    " a = Vector{rand(Bool) ? Int64 : Float64}(undef, n)\n",
    " fill_twos!(a)\n",
    " return a\n",
    "end\n",
    "@code_warntype strange_twos(1)"
   ]
  },
  {
   "cell_type": "markdown",
   "metadata": {},
   "source": [
    "### Access arrays in memory order, along columns"
   ]
  },
  {
   "cell_type": "code",
   "execution_count": 28,
   "metadata": {},
   "outputs": [],
   "source": [
    "function copy_cols!(out::Array{T,2}, x::Vector{T}) where T\n",
    "    inds = axes(x, 1);\n",
    "    for i = inds\n",
    "        out[:, i] = x\n",
    "    end\n",
    "    return out\n",
    "end\n",
    "\n",
    "function copy_rows!(out::Array{T,2}, x::Vector{T}) where T\n",
    "    inds = axes(x, 1);\n",
    "    for i = inds\n",
    "        out[i, :] = x\n",
    "    end\n",
    "    return out\n",
    "end\n",
    "\n",
    "function copy_col_row!(out::Array{T,2}, x::Vector{T}) where T\n",
    "    inds = axes(x, 1);\n",
    "    for col = inds, row = inds\n",
    "        out[row, col] = x[row]\n",
    "    end\n",
    "    return out\n",
    "end\n",
    "\n",
    "function copy_row_col!(out::Array{T,2}, x::Vector{T}) where T\n",
    "    inds = axes(x, 1);\n",
    "    for row = inds, col = inds\n",
    "        out[row, col] = x[col]\n",
    "    end\n",
    "    return out\n",
    "end\n",
    "n = 10_000;\n",
    "x = randn(n);\n",
    "out = similar(Array{Float64}, n, n);"
   ]
  },
  {
   "cell_type": "code",
   "execution_count": 29,
   "metadata": {},
   "outputs": [
    {
     "name": "stdout",
     "output_type": "stream",
     "text": [
      "  114.268 ms (0 allocations: 0 bytes)\n"
     ]
    }
   ],
   "source": [
    "@btime copy_cols!(out, x);"
   ]
  },
  {
   "cell_type": "code",
   "execution_count": 30,
   "metadata": {},
   "outputs": [
    {
     "name": "stdout",
     "output_type": "stream",
     "text": [
      "  2.882 s (0 allocations: 0 bytes)\n"
     ]
    }
   ],
   "source": [
    "@btime copy_rows!(out, x);"
   ]
  },
  {
   "cell_type": "code",
   "execution_count": 31,
   "metadata": {},
   "outputs": [
    {
     "name": "stdout",
     "output_type": "stream",
     "text": [
      "  85.068 ms (0 allocations: 0 bytes)\n"
     ]
    }
   ],
   "source": [
    "@btime copy_col_row!(out, x);"
   ]
  },
  {
   "cell_type": "code",
   "execution_count": 32,
   "metadata": {},
   "outputs": [
    {
     "name": "stdout",
     "output_type": "stream",
     "text": [
      "  2.880 s (0 allocations: 0 bytes)\n"
     ]
    }
   ],
   "source": [
    "@btime copy_row_col!(out, x);"
   ]
  },
  {
   "cell_type": "markdown",
   "metadata": {},
   "source": [
    "### Pre-allocating outputs"
   ]
  },
  {
   "cell_type": "code",
   "execution_count": 33,
   "metadata": {},
   "outputs": [
    {
     "data": {
      "text/plain": [
       "loopinc (generic function with 1 method)"
      ]
     },
     "execution_count": 33,
     "metadata": {},
     "output_type": "execute_result"
    }
   ],
   "source": [
    "# Trivial\n",
    "function xinc(x)\n",
    " return [x, x+1, x+2]\n",
    "end\n",
    "\n",
    "function loopinc()\n",
    " y = 0\n",
    " for i = 1:10^7\n",
    "  ret = xinc(i)\n",
    "  y += ret[2]\n",
    " end\n",
    " return y\n",
    "end"
   ]
  },
  {
   "cell_type": "code",
   "execution_count": 34,
   "metadata": {},
   "outputs": [
    {
     "data": {
      "text/plain": [
       "loopinc_prealloc (generic function with 1 method)"
      ]
     },
     "execution_count": 34,
     "metadata": {},
     "output_type": "execute_result"
    }
   ],
   "source": [
    "# Using pre-allocation\n",
    "function xinc!(ret, x)\n",
    " ret[1] = x\n",
    " ret[2] = x+1\n",
    " ret[3] = x+2\n",
    " nothing\n",
    "end\n",
    "\n",
    "function loopinc_prealloc()\n",
    " ret = Vector{Int}(undef, 3)\n",
    " y = 0\n",
    " for i = 1:10^7\n",
    "  xinc!(ret, i)\n",
    "  y += ret[2]\n",
    " end\n",
    " return y\n",
    "end"
   ]
  },
  {
   "cell_type": "code",
   "execution_count": 35,
   "metadata": {},
   "outputs": [
    {
     "name": "stdout",
     "output_type": "stream",
     "text": [
      "  1.021 s (10000000 allocations: 1.04 GiB)\n",
      "  10.694 ms (1 allocation: 112 bytes)\n"
     ]
    }
   ],
   "source": [
    "@btime loopinc();\n",
    "@btime loopinc_prealloc();"
   ]
  },
  {
   "cell_type": "markdown",
   "metadata": {},
   "source": [
    "### More dots: Fuse vectorized operations"
   ]
  },
  {
   "cell_type": "code",
   "execution_count": 36,
   "metadata": {},
   "outputs": [],
   "source": [
    "f(x) =    3x.^2 + 4x + 7x.^3;\n",
    "g(x) = @. 3x^2  + 4x + 7x^3;\n",
    "\n",
    "x = rand(10^6);"
   ]
  },
  {
   "cell_type": "code",
   "execution_count": 37,
   "metadata": {},
   "outputs": [
    {
     "name": "stdout",
     "output_type": "stream",
     "text": [
      "  8.855 ms (12 allocations: 45.78 MiB)\n",
      "  1.139 ms (2 allocations: 7.63 MiB)\n",
      "  1.119 ms (5 allocations: 7.63 MiB)\n"
     ]
    }
   ],
   "source": [
    "@btime f(x);\n",
    "@btime g(x);\n",
    "@btime f.(x);"
   ]
  },
  {
   "cell_type": "markdown",
   "metadata": {},
   "source": [
    "### Consider using views for slices"
   ]
  },
  {
   "cell_type": "code",
   "execution_count": 38,
   "metadata": {},
   "outputs": [],
   "source": [
    "       fcopy(x) = sum(x[2:end-1]);\n",
    "@views fview(x) = sum(x[2:end-1]);"
   ]
  },
  {
   "cell_type": "code",
   "execution_count": 39,
   "metadata": {},
   "outputs": [
    {
     "name": "stdout",
     "output_type": "stream",
     "text": [
      "  1.283 ms (3 allocations: 7.63 MiB)\n",
      "  460.700 μs (2 allocations: 64 bytes)\n"
     ]
    }
   ],
   "source": [
    "x = rand(10^6);\n",
    "@btime fcopy(x);\n",
    "@btime fview(x);"
   ]
  },
  {
   "cell_type": "markdown",
   "metadata": {},
   "source": [
    "### Copying data is not always bad"
   ]
  },
  {
   "cell_type": "code",
   "execution_count": 10,
   "metadata": {},
   "outputs": [
    {
     "name": "stdout",
     "output_type": "stream",
     "text": [
      "Indeksy: [312390, 17432, 853856, 62834, 420377]...\n",
      "  323.159 ms (12 allocations: 784 bytes)\n",
      "  245.241 ms (12 allocations: 784 bytes)\n"
     ]
    },
    {
     "data": {
      "text/plain": [
       "-5008.961654302468"
      ]
     },
     "execution_count": 10,
     "metadata": {},
     "output_type": "execute_result"
    }
   ],
   "source": [
    "using Random\n",
    "N, n = 1_000_000, 500_000;\n",
    "inds = shuffle(1:N)[1:n];\n",
    "println(\"Indeksy: \", inds[1:5], \"...\")\n",
    "\n",
    "x = randn(N);\n",
    "A = randn(50, N);\n",
    "\n",
    "x̂ = zeros(n);\n",
    "Â = zeros(50, n);\n",
    "\n",
    "@btime @views sum(A[:, inds] * x[inds])\n",
    "@btime @views begin\n",
    "           copyto!(x̂, x[inds])\n",
    "           copyto!(Â, A[:, inds])\n",
    "           sum(Â * x̂)\n",
    "       end"
   ]
  },
  {
   "cell_type": "markdown",
   "metadata": {},
   "source": [
    "### Use performance annotations"
   ]
  },
  {
   "cell_type": "code",
   "execution_count": 11,
   "metadata": {},
   "outputs": [
    {
     "name": "stdout",
     "output_type": "stream",
     "text": [
      "GFlop/sec        = 0.0\n",
      "GFlop/sec (SIMD) = 0.0\n"
     ]
    }
   ],
   "source": [
    "@noinline function inner(x, y)\n",
    "    s = zero(eltype(x))\n",
    "    for i=eachindex(x)\n",
    "        @inbounds s += x[i]*y[i]\n",
    "    end\n",
    "    return s\n",
    "end\n",
    "\n",
    "@noinline function innersimd(x, y)\n",
    "    s = zero(eltype(x))\n",
    "    @simd for i = eachindex(x)\n",
    "        @inbounds s += x[i] * y[i]\n",
    "    end\n",
    "    return s\n",
    "end\n",
    "\n",
    "function timeit(n, reps)\n",
    "    x = rand(Float32, n)\n",
    "    y = rand(Float32, n)\n",
    "    s = zero(Float64)\n",
    "    time = @elapsed for j in 1:reps\n",
    "        s += inner(x, y)\n",
    "    end\n",
    "    println(\"GFlop/sec        = \", 2n*reps / time*1E-9)\n",
    "    time = @elapsed for j in 1:reps\n",
    "        s += innersimd(x, y)\n",
    "    end\n",
    "    println(\"GFlop/sec (SIMD) = \", 2n*reps / time*1E-9)\n",
    "end\n",
    "\n",
    "timeit(0, 0); # aby Julia skompilowała funkcje"
   ]
  },
  {
   "cell_type": "code",
   "execution_count": 12,
   "metadata": {},
   "outputs": [
    {
     "name": "stdout",
     "output_type": "stream",
     "text": [
      "GFlop/sec        = 1.1638056444573757\n",
      "GFlop/sec (SIMD) = 15.163002274450342\n"
     ]
    }
   ],
   "source": [
    "timeit(1000, 1000)"
   ]
  },
  {
   "cell_type": "code",
   "execution_count": 13,
   "metadata": {},
   "outputs": [
    {
     "name": "stdout",
     "output_type": "stream",
     "text": [
      "Niemiarodajny wynik: \t\t  0.632163 seconds\n",
      "ν = 198.74110382490196\n",
      "\n",
      "  0.676987 seconds\n",
      "ν = 198.74110382490196\n"
     ]
    }
   ],
   "source": [
    "function init!(u::Vector)\n",
    "    n = length(u)\n",
    "    dx = 1.0 / (n-1)\n",
    "    @fastmath @inbounds @simd for i in 1:n #by asserting that `u` is a `Vector` we can assume it has 1-based indexing\n",
    "        u[i] = sin(2pi*dx*i)\n",
    "    end\n",
    "end\n",
    "\n",
    "function deriv!(u::Vector, du)\n",
    "    n = length(u)\n",
    "    dx = 1.0 / (n-1)\n",
    "    @fastmath @inbounds du[1] = (u[2] - u[1]) / dx\n",
    "    @fastmath @inbounds @simd for i in 2:n-1\n",
    "        du[i] = (u[i+1] - u[i-1]) / (2*dx)\n",
    "    end\n",
    "    @fastmath @inbounds du[n] = (u[n] - u[n-1]) / dx\n",
    "end\n",
    "\n",
    "function mynorm(u::Vector)\n",
    "    n = length(u)\n",
    "    T = eltype(u)\n",
    "    s = zero(T)\n",
    "    @fastmath @inbounds @simd for i in 1:n\n",
    "        s += u[i]^2\n",
    "    end\n",
    "    @fastmath @inbounds return sqrt(s)\n",
    "end\n",
    "\n",
    "function main()\n",
    "    n = 2000\n",
    "    u = Vector{Float64}(undef, n)\n",
    "    init!(u)\n",
    "    du = similar(u)\n",
    "\n",
    "    deriv!(u, du)\n",
    "    nu = mynorm(du)\n",
    "\n",
    "    @time for i in 1:10^6\n",
    "        deriv!(u, du)\n",
    "        nu = mynorm(du)\n",
    "    end\n",
    "\n",
    "    println(\"ν = \", nu)\n",
    "end\n",
    "\n",
    "print(\"Niemiarodajny wynik: \\t\\t\")\n",
    "main();\n",
    "println()\n",
    "main();"
   ]
  },
  {
   "cell_type": "code",
   "execution_count": 14,
   "metadata": {},
   "outputs": [
    {
     "name": "stdout",
     "output_type": "stream",
     "text": [
      "Niemiarodajny wynik: \t\t  1.669284 seconds\n",
      "ν = 198.74110382490198\n",
      "\n",
      "  1.685399 seconds\n",
      "ν = 198.74110382490198\n"
     ]
    }
   ],
   "source": [
    "function init!(u::Vector)\n",
    "    n = length(u)\n",
    "    dx = 1.0 / (n-1)\n",
    "    @inbounds @simd for i in 1:n #by asserting that `u` is a `Vector` we can assume it has 1-based indexing\n",
    "        u[i] = sin(2pi*dx*i)\n",
    "    end\n",
    "end\n",
    "\n",
    "function deriv!(u::Vector, du)\n",
    "    n = length(u)\n",
    "    dx = 1.0 / (n-1)\n",
    "    @inbounds du[1] = (u[2] - u[1]) / dx\n",
    "    @inbounds @simd for i in 2:n-1\n",
    "        du[i] = (u[i+1] - u[i-1]) / (2*dx)\n",
    "    end\n",
    "    @inbounds du[n] = (u[n] - u[n-1]) / dx\n",
    "end\n",
    "\n",
    "function mynorm(u::Vector)\n",
    "    n = length(u)\n",
    "    T = eltype(u)\n",
    "    s = zero(T)\n",
    "    @inbounds @simd for i in 1:n\n",
    "        s += u[i]^2\n",
    "    end\n",
    "    @inbounds return sqrt(s)\n",
    "end\n",
    "\n",
    "function main()\n",
    "    n = 2000\n",
    "    u = Vector{Float64}(undef, n)\n",
    "    init!(u)\n",
    "    du = similar(u)\n",
    "\n",
    "    deriv!(u, du)\n",
    "    nu = mynorm(du)\n",
    "\n",
    "    @time for i in 1:10^6\n",
    "        deriv!(u, du)\n",
    "        nu = mynorm(du)\n",
    "    end\n",
    "\n",
    "    println(\"ν = \", nu)\n",
    "end\n",
    "\n",
    "print(\"Niemiarodajny wynik: \\t\\t\")\n",
    "main();\n",
    "println()\n",
    "main();"
   ]
  },
  {
   "cell_type": "markdown",
   "metadata": {},
   "source": [
    "### Closures and performance of captured variables"
   ]
  },
  {
   "cell_type": "code",
   "execution_count": 15,
   "metadata": {
    "scrolled": true
   },
   "outputs": [
    {
     "name": "stdout",
     "output_type": "stream",
     "text": [
      "\n",
      ";  @ In[15]:2 within `abmult'\n",
      "define nonnull %jl_value_t addrspace(10)* @julia_abmult_17714(i64) {\n",
      "top:\n",
      "  %1 = alloca %jl_value_t addrspace(10)*, i32 2\n",
      "  %gcframe = alloca %jl_value_t addrspace(10)*, i32 4\n",
      "  %2 = bitcast %jl_value_t addrspace(10)** %gcframe to i8*\n",
      "  call void @llvm.memset.p0i8.i32(i8* %2, i8 0, i32 32, i32 0, i1 false)\n",
      "  %thread_ptr = call i8* asm \"movq %fs:0, $0\", \"=r\"()\n",
      "  %ptls_i8 = getelementptr i8, i8* %thread_ptr, i64 -15712\n",
      "  %ptls = bitcast i8* %ptls_i8 to %jl_value_t***\n",
      "; ┌ @ boot.jl:338 within `Box'\n",
      "   %3 = getelementptr %jl_value_t addrspace(10)*, %jl_value_t addrspace(10)** %gcframe, i32 0\n",
      "   %4 = bitcast %jl_value_t addrspace(10)** %3 to i64*\n",
      "   store i64 4, i64* %4\n",
      "   %5 = getelementptr %jl_value_t**, %jl_value_t*** %ptls, i32 0\n",
      "   %6 = getelementptr %jl_value_t addrspace(10)*, %jl_value_t addrspace(10)** %gcframe, i32 1\n",
      "   %7 = bitcast %jl_value_t addrspace(10)** %6 to %jl_value_t***\n",
      "   %8 = load %jl_value_t**, %jl_value_t*** %5\n",
      "   store %jl_value_t** %8, %jl_value_t*** %7\n",
      "   %9 = bitcast %jl_value_t*** %5 to %jl_value_t addrspace(10)***\n",
      "   store %jl_value_t addrspace(10)** %gcframe, %jl_value_t addrspace(10)*** %9\n",
      "   %10 = bitcast %jl_value_t*** %ptls to i8*\n",
      "   %11 = call noalias nonnull %jl_value_t addrspace(10)* @jl_gc_pool_alloc(i8* %10, i32 1400, i32 16) #1\n",
      "   %12 = bitcast %jl_value_t addrspace(10)* %11 to %jl_value_t addrspace(10)* addrspace(10)*\n",
      "   %13 = getelementptr %jl_value_t addrspace(10)*, %jl_value_t addrspace(10)* addrspace(10)* %12, i64 -1\n",
      "   store %jl_value_t addrspace(10)* addrspacecast (%jl_value_t* inttoptr (i64 140619314468448 to %jl_value_t*) to %jl_value_t addrspace(10)*), %jl_value_t addrspace(10)* addrspace(10)* %13\n",
      "   %14 = addrspacecast %jl_value_t addrspace(10)* %11 to %jl_value_t addrspace(11)*\n",
      "   %15 = bitcast %jl_value_t addrspace(11)* %14 to %jl_value_t addrspace(10)* addrspace(11)*\n",
      "   store %jl_value_t addrspace(10)* null, %jl_value_t addrspace(10)* addrspace(11)* %15, align 8\n",
      "   %16 = getelementptr %jl_value_t addrspace(10)*, %jl_value_t addrspace(10)** %gcframe, i32 3\n",
      "   store %jl_value_t addrspace(10)* %11, %jl_value_t addrspace(10)** %16\n",
      "   %17 = call %jl_value_t addrspace(10)* @jl_box_int64(i64 signext %0)\n",
      "   %18 = bitcast %jl_value_t addrspace(10)* %11 to %jl_value_t addrspace(10)* addrspace(10)*\n",
      "   store %jl_value_t addrspace(10)* %17, %jl_value_t addrspace(10)* addrspace(10)* %18, align 8\n",
      "   %19 = bitcast %jl_value_t addrspace(10)* %11 to i64 addrspace(10)*\n",
      "   %20 = getelementptr i64, i64 addrspace(10)* %19, i64 -1\n",
      "   %21 = load i64, i64 addrspace(10)* %20\n",
      "   %22 = and i64 %21, 3\n",
      "   %23 = icmp eq i64 %22, 3\n",
      "   br i1 %23, label %24, label %31\n",
      "\n",
      "; <label>:24:                                     ; preds = %top\n",
      "   %25 = bitcast %jl_value_t addrspace(10)* %17 to i64 addrspace(10)*\n",
      "   %26 = getelementptr i64, i64 addrspace(10)* %25, i64 -1\n",
      "   %27 = load i64, i64 addrspace(10)* %26\n",
      "   %28 = and i64 %27, 1\n",
      "   %29 = icmp eq i64 %28, 0\n",
      "   br i1 %29, label %30, label %31\n",
      "\n",
      "; <label>:30:                                     ; preds = %24\n",
      "   call void @jl_gc_queue_root(%jl_value_t addrspace(10)* %11)\n",
      "   br label %31\n",
      "\n",
      "; <label>:31:                                     ; preds = %30, %24, %top\n",
      "; └\n",
      "  %32 = icmp eq %jl_value_t addrspace(10)* %17, null\n",
      "  br i1 %32, label %err5, label %pass\n",
      "\n",
      "L11:                                              ; preds = %pass2\n",
      ";  @ In[15]:3 within `abmult'\n",
      "  %33 = load %jl_value_t addrspace(10)*, %jl_value_t addrspace(10)* addrspace(11)* %15, align 8\n",
      "  %34 = icmp eq %jl_value_t addrspace(10)* %33, null\n",
      "  br i1 %34, label %err, label %pass4\n",
      "\n",
      "L18:                                              ; preds = %pass4, %65, %71, %pass2\n",
      ";  @ In[15]:5 within `abmult'\n",
      "  %35 = call noalias nonnull %jl_value_t addrspace(10)* @jl_gc_pool_alloc(i8* %10, i32 1400, i32 16) #1\n",
      "  %36 = bitcast %jl_value_t addrspace(10)* %35 to %jl_value_t addrspace(10)* addrspace(10)*\n",
      "  %37 = getelementptr %jl_value_t addrspace(10)*, %jl_value_t addrspace(10)* addrspace(10)* %36, i64 -1\n",
      "  store %jl_value_t addrspace(10)* addrspacecast (%jl_value_t* inttoptr (i64 140618741305296 to %jl_value_t*) to %jl_value_t addrspace(10)*), %jl_value_t addrspace(10)* addrspace(10)* %37\n",
      "  %38 = bitcast %jl_value_t addrspace(10)* %35 to %jl_value_t addrspace(10)* addrspace(10)*\n",
      "  store %jl_value_t addrspace(10)* %11, %jl_value_t addrspace(10)* addrspace(10)* %38, align 8\n",
      "  %39 = getelementptr %jl_value_t addrspace(10)*, %jl_value_t addrspace(10)** %gcframe, i32 1\n",
      "  %40 = load %jl_value_t addrspace(10)*, %jl_value_t addrspace(10)** %39\n",
      "  %41 = getelementptr %jl_value_t**, %jl_value_t*** %ptls, i32 0\n",
      "  %42 = bitcast %jl_value_t*** %41 to %jl_value_t addrspace(10)**\n",
      "  store %jl_value_t addrspace(10)* %40, %jl_value_t addrspace(10)** %42\n",
      ";  @ In[15]:6 within `abmult'\n",
      "  ret %jl_value_t addrspace(10)* %35\n",
      "\n",
      "pass:                                             ; preds = %31\n",
      "  %43 = getelementptr %jl_value_t addrspace(10)*, %jl_value_t addrspace(10)** %gcframe, i32 2\n",
      "  store %jl_value_t addrspace(10)* %17, %jl_value_t addrspace(10)** %43\n",
      ";  @ In[15]:2 within `abmult'\n",
      "  %44 = getelementptr %jl_value_t addrspace(10)*, %jl_value_t addrspace(10)** %1, i32 0\n",
      "  store %jl_value_t addrspace(10)* %17, %jl_value_t addrspace(10)** %44\n",
      "  %45 = getelementptr %jl_value_t addrspace(10)*, %jl_value_t addrspace(10)** %1, i32 1\n",
      "  store %jl_value_t addrspace(10)* addrspacecast (%jl_value_t* inttoptr (i64 140619220869152 to %jl_value_t*) to %jl_value_t addrspace(10)*), %jl_value_t addrspace(10)** %45\n",
      "  %46 = call nonnull %jl_value_t addrspace(10)* @jl_apply_generic(%jl_value_t addrspace(10)* addrspacecast (%jl_value_t* inttoptr (i64 140619344173248 to %jl_value_t*) to %jl_value_t addrspace(10)*), %jl_value_t addrspace(10)** %1, i32 2)\n",
      "  %47 = bitcast %jl_value_t addrspace(10)* %46 to i64 addrspace(10)*\n",
      "  %48 = getelementptr i64, i64 addrspace(10)* %47, i64 -1\n",
      "  %49 = load i64, i64 addrspace(10)* %48\n",
      "  %50 = and i64 %49, -16\n",
      "  %51 = inttoptr i64 %50 to %jl_value_t*\n",
      "  %52 = addrspacecast %jl_value_t* %51 to %jl_value_t addrspace(10)*\n",
      "  %53 = icmp eq %jl_value_t addrspace(10)* %52, addrspacecast (%jl_value_t* inttoptr (i64 140619313604048 to %jl_value_t*) to %jl_value_t addrspace(10)*)\n",
      "  br i1 %53, label %pass2, label %fail1\n",
      "\n",
      "fail1:                                            ; preds = %pass\n",
      "  %54 = addrspacecast %jl_value_t addrspace(10)* %46 to %jl_value_t addrspace(12)*\n",
      "  %55 = getelementptr %jl_value_t addrspace(10)*, %jl_value_t addrspace(10)** %gcframe, i32 2\n",
      "  store %jl_value_t addrspace(10)* %46, %jl_value_t addrspace(10)** %55\n",
      "  call void @jl_type_error(i8* inttoptr (i64 40966096 to i8*), %jl_value_t addrspace(10)* addrspacecast (%jl_value_t* inttoptr (i64 140619313604048 to %jl_value_t*) to %jl_value_t addrspace(10)*), %jl_value_t addrspace(12)* %54)\n",
      "  unreachable\n",
      "\n",
      "pass2:                                            ; preds = %pass\n",
      "  %56 = icmp eq %jl_value_t addrspace(10)* %46, addrspacecast (%jl_value_t* inttoptr (i64 140619314266992 to %jl_value_t*) to %jl_value_t addrspace(10)*)\n",
      "  br i1 %56, label %L18, label %L11\n",
      "\n",
      "pass4:                                            ; preds = %L11\n",
      "  %57 = getelementptr %jl_value_t addrspace(10)*, %jl_value_t addrspace(10)** %gcframe, i32 2\n",
      "  store %jl_value_t addrspace(10)* %33, %jl_value_t addrspace(10)** %57\n",
      ";  @ In[15]:3 within `abmult'\n",
      "  %58 = getelementptr %jl_value_t addrspace(10)*, %jl_value_t addrspace(10)** %1, i32 0\n",
      "  store %jl_value_t addrspace(10)* %33, %jl_value_t addrspace(10)** %58\n",
      "  %59 = call nonnull %jl_value_t addrspace(10)* @jl_apply_generic(%jl_value_t addrspace(10)* addrspacecast (%jl_value_t* inttoptr (i64 140619328517152 to %jl_value_t*) to %jl_value_t addrspace(10)*), %jl_value_t addrspace(10)** %1, i32 1)\n",
      "  store %jl_value_t addrspace(10)* %59, %jl_value_t addrspace(10)* addrspace(10)* %18, align 8\n",
      "  %60 = bitcast %jl_value_t addrspace(10)* %11 to i64 addrspace(10)*\n",
      "  %61 = getelementptr i64, i64 addrspace(10)* %60, i64 -1\n",
      "  %62 = load i64, i64 addrspace(10)* %61\n",
      "  %63 = and i64 %62, 3\n",
      "  %64 = icmp eq i64 %63, 3\n",
      "  br i1 %64, label %65, label %L18\n",
      "\n",
      "; <label>:65:                                     ; preds = %pass4\n",
      "  %66 = bitcast %jl_value_t addrspace(10)* %59 to i64 addrspace(10)*\n",
      "  %67 = getelementptr i64, i64 addrspace(10)* %66, i64 -1\n",
      "  %68 = load i64, i64 addrspace(10)* %67\n",
      "  %69 = and i64 %68, 1\n",
      "  %70 = icmp eq i64 %69, 0\n",
      "  br i1 %70, label %71, label %L18\n",
      "\n",
      "; <label>:71:                                     ; preds = %65\n",
      "  call void @jl_gc_queue_root(%jl_value_t addrspace(10)* %11)\n",
      "  br label %L18\n",
      "\n",
      "err:                                              ; preds = %L11\n",
      "  call void @jl_undefined_var_error(%jl_value_t addrspace(12)* addrspacecast (%jl_value_t* inttoptr (i64 140619221405352 to %jl_value_t*) to %jl_value_t addrspace(12)*))\n",
      "  unreachable\n",
      "\n",
      "err5:                                             ; preds = %31\n",
      ";  @ In[15]:2 within `abmult'\n",
      "  call void @jl_undefined_var_error(%jl_value_t addrspace(12)* addrspacecast (%jl_value_t* inttoptr (i64 140619221405352 to %jl_value_t*) to %jl_value_t addrspace(12)*))\n",
      "  unreachable\n",
      "}\n"
     ]
    }
   ],
   "source": [
    "function abmult(r :: Int)\n",
    "    if r < 0\n",
    "        r = -r\n",
    "    end\n",
    "    f = x -> x * r\n",
    "    return f\n",
    "end\n",
    "@code_llvm abmult(-5)"
   ]
  },
  {
   "cell_type": "code",
   "execution_count": 16,
   "metadata": {},
   "outputs": [
    {
     "name": "stdout",
     "output_type": "stream",
     "text": [
      "\n",
      ";  @ In[16]:2 within `abmult2'\n",
      "define nonnull %jl_value_t addrspace(10)* @julia_abmult2_17715(i64) {\n",
      "top:\n",
      "  %gcframe = alloca %jl_value_t addrspace(10)*, i32 3\n",
      "  %1 = bitcast %jl_value_t addrspace(10)** %gcframe to i8*\n",
      "  call void @llvm.memset.p0i8.i32(i8* %1, i8 0, i32 24, i32 0, i1 false)\n",
      "  %thread_ptr = call i8* asm \"movq %fs:0, $0\", \"=r\"()\n",
      "  %ptls_i8 = getelementptr i8, i8* %thread_ptr, i64 -15712\n",
      "  %ptls = bitcast i8* %ptls_i8 to %jl_value_t***\n",
      "; ┌ @ boot.jl:339 within `Box'\n",
      "   %2 = getelementptr %jl_value_t addrspace(10)*, %jl_value_t addrspace(10)** %gcframe, i32 0\n",
      "   %3 = bitcast %jl_value_t addrspace(10)** %2 to i64*\n",
      "   store i64 2, i64* %3\n",
      "   %4 = getelementptr %jl_value_t**, %jl_value_t*** %ptls, i32 0\n",
      "   %5 = getelementptr %jl_value_t addrspace(10)*, %jl_value_t addrspace(10)** %gcframe, i32 1\n",
      "   %6 = bitcast %jl_value_t addrspace(10)** %5 to %jl_value_t***\n",
      "   %7 = load %jl_value_t**, %jl_value_t*** %4\n",
      "   store %jl_value_t** %7, %jl_value_t*** %6\n",
      "   %8 = bitcast %jl_value_t*** %4 to %jl_value_t addrspace(10)***\n",
      "   store %jl_value_t addrspace(10)** %gcframe, %jl_value_t addrspace(10)*** %8\n",
      "   %9 = bitcast %jl_value_t*** %ptls to i8*\n",
      "   %10 = call noalias nonnull %jl_value_t addrspace(10)* @jl_gc_pool_alloc(i8* %9, i32 1400, i32 16) #1\n",
      "   %11 = bitcast %jl_value_t addrspace(10)* %10 to %jl_value_t addrspace(10)* addrspace(10)*\n",
      "   %12 = getelementptr %jl_value_t addrspace(10)*, %jl_value_t addrspace(10)* addrspace(10)* %11, i64 -1\n",
      "   store %jl_value_t addrspace(10)* addrspacecast (%jl_value_t* inttoptr (i64 140619314468448 to %jl_value_t*) to %jl_value_t addrspace(10)*), %jl_value_t addrspace(10)* addrspace(10)* %12\n",
      "   %13 = addrspacecast %jl_value_t addrspace(10)* %10 to %jl_value_t addrspace(11)*\n",
      "   %14 = bitcast %jl_value_t addrspace(11)* %13 to %jl_value_t addrspace(10)* addrspace(11)*\n",
      "   store %jl_value_t addrspace(10)* null, %jl_value_t addrspace(10)* addrspace(11)* %14, align 8\n",
      "   %15 = getelementptr %jl_value_t addrspace(10)*, %jl_value_t addrspace(10)** %gcframe, i32 2\n",
      "   store %jl_value_t addrspace(10)* %10, %jl_value_t addrspace(10)** %15\n",
      "; └\n",
      "  %16 = call %jl_value_t addrspace(10)* @jl_box_int64(i64 signext %0)\n",
      "  %17 = bitcast %jl_value_t addrspace(10)* %10 to %jl_value_t addrspace(10)* addrspace(10)*\n",
      "  store %jl_value_t addrspace(10)* %16, %jl_value_t addrspace(10)* addrspace(10)* %17, align 8\n",
      "  %18 = bitcast %jl_value_t addrspace(10)* %10 to i64 addrspace(10)*\n",
      "  %19 = getelementptr i64, i64 addrspace(10)* %18, i64 -1\n",
      "  %20 = load i64, i64 addrspace(10)* %19\n",
      "  %21 = and i64 %20, 3\n",
      "  %22 = icmp eq i64 %21, 3\n",
      "  br i1 %22, label %23, label %30\n",
      "\n",
      "; <label>:23:                                     ; preds = %top\n",
      "  %24 = bitcast %jl_value_t addrspace(10)* %16 to i64 addrspace(10)*\n",
      "  %25 = getelementptr i64, i64 addrspace(10)* %24, i64 -1\n",
      "  %26 = load i64, i64 addrspace(10)* %25\n",
      "  %27 = and i64 %26, 1\n",
      "  %28 = icmp eq i64 %27, 0\n",
      "  br i1 %28, label %29, label %30\n",
      "\n",
      "; <label>:29:                                     ; preds = %23\n",
      "  call void @jl_gc_queue_root(%jl_value_t addrspace(10)* %10)\n",
      "  br label %30\n",
      "\n",
      "; <label>:30:                                     ; preds = %29, %23, %top\n",
      ";  @ In[16]:3 within `abmult2'\n",
      "  %31 = icmp eq %jl_value_t addrspace(10)* %16, null\n",
      "  br i1 %31, label %err7, label %pass\n",
      "\n",
      "L22:                                              ; preds = %pass6, %59, %65, %pass2\n",
      ";  @ In[16]:6 within `abmult2'\n",
      "  %32 = call noalias nonnull %jl_value_t addrspace(10)* @jl_gc_pool_alloc(i8* %9, i32 1400, i32 16) #1\n",
      "  %33 = bitcast %jl_value_t addrspace(10)* %32 to %jl_value_t addrspace(10)* addrspace(10)*\n",
      "  %34 = getelementptr %jl_value_t addrspace(10)*, %jl_value_t addrspace(10)* addrspace(10)* %33, i64 -1\n",
      "  store %jl_value_t addrspace(10)* addrspacecast (%jl_value_t* inttoptr (i64 140618741429392 to %jl_value_t*) to %jl_value_t addrspace(10)*), %jl_value_t addrspace(10)* addrspace(10)* %34\n",
      "  %35 = bitcast %jl_value_t addrspace(10)* %32 to %jl_value_t addrspace(10)* addrspace(10)*\n",
      "  store %jl_value_t addrspace(10)* %10, %jl_value_t addrspace(10)* addrspace(10)* %35, align 8\n",
      "  %36 = getelementptr %jl_value_t addrspace(10)*, %jl_value_t addrspace(10)** %gcframe, i32 1\n",
      "  %37 = load %jl_value_t addrspace(10)*, %jl_value_t addrspace(10)** %36\n",
      "  %38 = getelementptr %jl_value_t**, %jl_value_t*** %ptls, i32 0\n",
      "  %39 = bitcast %jl_value_t*** %38 to %jl_value_t addrspace(10)**\n",
      "  store %jl_value_t addrspace(10)* %37, %jl_value_t addrspace(10)** %39\n",
      ";  @ In[16]:7 within `abmult2'\n",
      "  ret %jl_value_t addrspace(10)* %32\n",
      "\n",
      "pass:                                             ; preds = %30\n",
      ";  @ In[16]:3 within `abmult2'\n",
      "  %40 = bitcast %jl_value_t addrspace(10)* %16 to i64 addrspace(10)*\n",
      "  %41 = getelementptr i64, i64 addrspace(10)* %40, i64 -1\n",
      "  %42 = load i64, i64 addrspace(10)* %41\n",
      "  %43 = and i64 %42, -16\n",
      "  %44 = inttoptr i64 %43 to %jl_value_t*\n",
      "  %45 = addrspacecast %jl_value_t* %44 to %jl_value_t addrspace(10)*\n",
      "  %46 = icmp eq %jl_value_t addrspace(10)* %45, addrspacecast (%jl_value_t* inttoptr (i64 140619313299328 to %jl_value_t*) to %jl_value_t addrspace(10)*)\n",
      "  br i1 %46, label %pass2, label %fail1\n",
      "\n",
      "fail1:                                            ; preds = %pass\n",
      "  %47 = addrspacecast %jl_value_t addrspace(10)* %16 to %jl_value_t addrspace(12)*\n",
      "  %48 = getelementptr %jl_value_t addrspace(10)*, %jl_value_t addrspace(10)** %gcframe, i32 2\n",
      "  store %jl_value_t addrspace(10)* %16, %jl_value_t addrspace(10)** %48\n",
      "  call void @jl_type_error(i8* inttoptr (i64 38350816 to i8*), %jl_value_t addrspace(10)* addrspacecast (%jl_value_t* inttoptr (i64 140619313299328 to %jl_value_t*) to %jl_value_t addrspace(10)*), %jl_value_t addrspace(12)* %47)\n",
      "  unreachable\n",
      "\n",
      "pass2:                                            ; preds = %pass\n",
      "; ┌ @ int.jl:49 within `<'\n",
      "   %49 = bitcast %jl_value_t addrspace(10)* %16 to i64 addrspace(10)*\n",
      "   %50 = load i64, i64 addrspace(10)* %49, align 8\n",
      "   %51 = icmp sgt i64 %50, -1\n",
      "; └\n",
      "  br i1 %51, label %L22, label %pass6\n",
      "\n",
      "pass6:                                            ; preds = %pass2\n",
      ";  @ In[16]:4 within `abmult2'\n",
      "; ┌ @ int.jl:51 within `-'\n",
      "   %52 = sub i64 0, %50\n",
      "; └\n",
      "  %53 = call %jl_value_t addrspace(10)* @jl_box_int64(i64 signext %52)\n",
      "  store %jl_value_t addrspace(10)* %53, %jl_value_t addrspace(10)* addrspace(10)* %17, align 8\n",
      "  %54 = bitcast %jl_value_t addrspace(10)* %10 to i64 addrspace(10)*\n",
      "  %55 = getelementptr i64, i64 addrspace(10)* %54, i64 -1\n",
      "  %56 = load i64, i64 addrspace(10)* %55\n",
      "  %57 = and i64 %56, 3\n",
      "  %58 = icmp eq i64 %57, 3\n",
      "  br i1 %58, label %59, label %L22\n",
      "\n",
      "; <label>:59:                                     ; preds = %pass6\n",
      "  %60 = bitcast %jl_value_t addrspace(10)* %53 to i64 addrspace(10)*\n",
      "  %61 = getelementptr i64, i64 addrspace(10)* %60, i64 -1\n",
      "  %62 = load i64, i64 addrspace(10)* %61\n",
      "  %63 = and i64 %62, 1\n",
      "  %64 = icmp eq i64 %63, 0\n",
      "  br i1 %64, label %65, label %L22\n",
      "\n",
      "; <label>:65:                                     ; preds = %59\n",
      "  call void @jl_gc_queue_root(%jl_value_t addrspace(10)* %10)\n",
      "  br label %L22\n",
      "\n",
      "err7:                                             ; preds = %30\n",
      ";  @ In[16]:3 within `abmult2'\n",
      "  call void @jl_undefined_var_error(%jl_value_t addrspace(12)* addrspacecast (%jl_value_t* inttoptr (i64 140619221405352 to %jl_value_t*) to %jl_value_t addrspace(12)*))\n",
      "  unreachable\n",
      "}\n"
     ]
    }
   ],
   "source": [
    "function abmult2(r0 :: Int)\n",
    "    r :: Int = r0\n",
    "    if r < 0\n",
    "        r = -r\n",
    "    end\n",
    "    f = x -> x * r\n",
    "    return f\n",
    "end\n",
    "@code_llvm abmult2(-5)"
   ]
  },
  {
   "cell_type": "markdown",
   "metadata": {},
   "source": [
    "### Comparison with Numba"
   ]
  },
  {
   "cell_type": "code",
   "execution_count": 17,
   "metadata": {},
   "outputs": [
    {
     "name": "stdout",
     "output_type": "stream",
     "text": [
      "  315.267 ns (1 allocation: 896 bytes)\n"
     ]
    }
   ],
   "source": [
    "import BenchmarkTools: @btime\n",
    "function go(a)\n",
    "    trace = 0\n",
    "    for i in 1:size(a, 1)\n",
    "        trace += tanh(a[i, i])\n",
    "    end\n",
    "    return a .+ trace\n",
    "end\n",
    "\n",
    "x = reshape(1:100, 10, 10)\n",
    "@btime go(x);"
   ]
  }
 ],
 "metadata": {
  "kernelspec": {
   "display_name": "Julia 1.3.1",
   "language": "julia",
   "name": "julia-1.3"
  },
  "language_info": {
   "file_extension": ".jl",
   "mimetype": "application/julia",
   "name": "julia",
   "version": "1.3.1"
  }
 },
 "nbformat": 4,
 "nbformat_minor": 4
}
