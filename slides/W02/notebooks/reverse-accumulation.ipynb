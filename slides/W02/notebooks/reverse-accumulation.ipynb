{
 "cells": [
  {
   "cell_type": "markdown",
   "id": "93afd9f6",
   "metadata": {},
   "source": [
    "### Structures\n",
    "Definition of basic structures for computational graph"
   ]
  },
  {
   "cell_type": "code",
   "execution_count": 1,
   "id": "9f929c35",
   "metadata": {},
   "outputs": [],
   "source": [
    "abstract type GraphNode end\n",
    "abstract type Operator <: GraphNode end\n",
    "\n",
    "struct Constant{T} <: GraphNode\n",
    "    output :: T\n",
    "end\n",
    "\n",
    "mutable struct Variable <: GraphNode\n",
    "    output :: Any\n",
    "    gradient :: Any\n",
    "    name :: String\n",
    "    Variable(output; name=\"?\") = new(output, nothing, name)\n",
    "end\n",
    "\n",
    "mutable struct ScalarOperator{F} <: Operator\n",
    "    inputs :: Any\n",
    "    output :: Any\n",
    "    gradient :: Any\n",
    "    name :: String\n",
    "    ScalarOperator(fun, inputs...; name=\"?\") = new{typeof(fun)}(inputs, nothing, nothing, name)\n",
    "end\n",
    "\n",
    "mutable struct BroadcastedOperator{F} <: Operator\n",
    "    inputs :: Any\n",
    "    output :: Any\n",
    "    gradient :: Any\n",
    "    name :: String\n",
    "    BroadcastedOperator(fun, inputs...; name=\"?\") = new{typeof(fun)}(inputs, nothing, nothing, name)\n",
    "end"
   ]
  },
  {
   "cell_type": "markdown",
   "id": "23325057",
   "metadata": {},
   "source": [
    "### Pretty-printing\n",
    "It helps tracking what happens"
   ]
  },
  {
   "cell_type": "code",
   "execution_count": 2,
   "id": "df5b6bef",
   "metadata": {},
   "outputs": [
    {
     "data": {
      "text/plain": [
       "show (generic function with 276 methods)"
      ]
     },
     "execution_count": 2,
     "metadata": {},
     "output_type": "execute_result"
    }
   ],
   "source": [
    "import Base: show, summary\n",
    "show(io::IO, x::ScalarOperator{F}) where {F} = print(io, \"op \", x.name, \"(\", F, \")\");\n",
    "show(io::IO, x::BroadcastedOperator{F}) where {F} = print(io, \"op.\", x.name, \"(\", F, \")\");\n",
    "show(io::IO, x::Constant) = print(io, \"const \", x.output)\n",
    "show(io::IO, x::Variable) = begin\n",
    "    print(io, \"var \", x.name);\n",
    "    print(io, \"\\n ┣━ ^ \"); summary(io, x.output)\n",
    "    print(io, \"\\n ┗━ ∇ \");  summary(io, x.gradient)\n",
    "end"
   ]
  },
  {
   "cell_type": "markdown",
   "id": "39c64026",
   "metadata": {},
   "source": [
    "### Graph building\n",
    "At first we have a set of loosely-coupled graph nodes. The following procedures build a proper graph!"
   ]
  },
  {
   "cell_type": "code",
   "execution_count": 3,
   "id": "7c75c244",
   "metadata": {},
   "outputs": [
    {
     "data": {
      "text/plain": [
       "topological_sort (generic function with 1 method)"
      ]
     },
     "execution_count": 3,
     "metadata": {},
     "output_type": "execute_result"
    }
   ],
   "source": [
    "function visit(node::GraphNode, visited, order)\n",
    "    if node ∈ visited\n",
    "    else\n",
    "        push!(visited, node)\n",
    "        push!(order, node)\n",
    "    end\n",
    "    return nothing\n",
    "end\n",
    "    \n",
    "function visit(node::Operator, visited, order)\n",
    "    if node ∈ visited\n",
    "    else\n",
    "        push!(visited, node)\n",
    "        for input in node.inputs\n",
    "            visit(input, visited, order)\n",
    "        end\n",
    "        push!(order, node)\n",
    "    end\n",
    "    return nothing\n",
    "end\n",
    "\n",
    "function topological_sort(head::GraphNode)\n",
    "    visited = Set()\n",
    "    order = Vector()\n",
    "    visit(head, visited, order)\n",
    "    return order\n",
    "end"
   ]
  },
  {
   "cell_type": "markdown",
   "id": "4b04aae1",
   "metadata": {},
   "source": [
    "### Forward pass"
   ]
  },
  {
   "cell_type": "code",
   "execution_count": 4,
   "id": "afa95b21",
   "metadata": {},
   "outputs": [
    {
     "data": {
      "text/plain": [
       "forward! (generic function with 1 method)"
      ]
     },
     "execution_count": 4,
     "metadata": {},
     "output_type": "execute_result"
    }
   ],
   "source": [
    "reset!(node::Constant) = nothing\n",
    "reset!(node::Variable) = node.gradient = nothing\n",
    "reset!(node::Operator) = node.gradient = nothing\n",
    "\n",
    "compute!(node::Constant) = nothing\n",
    "compute!(node::Variable) = nothing\n",
    "compute!(node::Operator) =\n",
    "    node.output = forward(node, [input.output for input in node.inputs]...)\n",
    "\n",
    "function forward!(order::Vector)\n",
    "    for node in order\n",
    "        compute!(node)\n",
    "        reset!(node)\n",
    "    end\n",
    "    return last(order).output\n",
    "end"
   ]
  },
  {
   "cell_type": "markdown",
   "id": "e3eed685",
   "metadata": {},
   "source": [
    "### Backward pass"
   ]
  },
  {
   "cell_type": "code",
   "execution_count": 5,
   "id": "89f2761f",
   "metadata": {},
   "outputs": [
    {
     "data": {
      "text/plain": [
       "backward! (generic function with 4 methods)"
      ]
     },
     "execution_count": 5,
     "metadata": {},
     "output_type": "execute_result"
    }
   ],
   "source": [
    "update!(node::Constant, gradient) = nothing\n",
    "update!(node::GraphNode, gradient) = if isnothing(node.gradient)\n",
    "    node.gradient = gradient else node.gradient .+= gradient\n",
    "end\n",
    "\n",
    "function backward!(order::Vector; seed=1.0)\n",
    "    result = last(order)\n",
    "    result.gradient = seed\n",
    "    @assert length(result.output) == 1 \"Gradient is defined only for scalar functions\"\n",
    "    for node in reverse(order)\n",
    "        backward!(node)\n",
    "    end\n",
    "    return nothing\n",
    "end\n",
    "\n",
    "function backward!(node::Constant) end\n",
    "function backward!(node::Variable) end\n",
    "function backward!(node::Operator)\n",
    "    inputs = node.inputs\n",
    "    gradients = backward(node, [input.output for input in inputs]..., node.gradient)\n",
    "    for (input, gradient) in zip(inputs, gradients)\n",
    "        update!(input, gradient)\n",
    "    end\n",
    "    return nothing\n",
    "end"
   ]
  },
  {
   "cell_type": "markdown",
   "id": "9f8a717d",
   "metadata": {},
   "source": [
    "### Implemented operations\n",
    "Below is the list of supported operations on graph nodes"
   ]
  },
  {
   "cell_type": "markdown",
   "id": "d8139570",
   "metadata": {},
   "source": [
    "#### Scalar operators"
   ]
  },
  {
   "cell_type": "code",
   "execution_count": 6,
   "id": "c7c90ca0",
   "metadata": {},
   "outputs": [
    {
     "data": {
      "text/plain": [
       "backward (generic function with 1 method)"
      ]
     },
     "execution_count": 6,
     "metadata": {},
     "output_type": "execute_result"
    }
   ],
   "source": [
    "import Base: ^\n",
    "^(x::GraphNode, n::GraphNode) = ScalarOperator(^, x, n)\n",
    "forward(::ScalarOperator{typeof(^)}, x, n) = return x^n\n",
    "backward(::ScalarOperator{typeof(^)}, x, n, g) = tuple(g * n * x ^ (n-1), g * log(abs(x)) * x ^ n)"
   ]
  },
  {
   "cell_type": "code",
   "execution_count": 7,
   "id": "be55a46d",
   "metadata": {},
   "outputs": [
    {
     "data": {
      "text/plain": [
       "backward (generic function with 2 methods)"
      ]
     },
     "execution_count": 7,
     "metadata": {},
     "output_type": "execute_result"
    }
   ],
   "source": [
    "import Base: sin\n",
    "sin(x::GraphNode) = ScalarOperator(sin, x)\n",
    "forward(::ScalarOperator{typeof(sin)}, x) = return sin(x)\n",
    "backward(::ScalarOperator{typeof(sin)}, x, g) = tuple(g * cos(x))"
   ]
  },
  {
   "cell_type": "markdown",
   "id": "642e3f44",
   "metadata": {},
   "source": [
    "#### Broadcasted operators\n",
    "The operations act on vectors of values so, the gradients are computed as vector-jacobian-products."
   ]
  },
  {
   "cell_type": "code",
   "execution_count": 8,
   "id": "cf574638",
   "metadata": {},
   "outputs": [
    {
     "data": {
      "text/plain": [
       "backward (generic function with 4 methods)"
      ]
     },
     "execution_count": 8,
     "metadata": {},
     "output_type": "execute_result"
    }
   ],
   "source": [
    "import Base: *\n",
    "import LinearAlgebra: mul!\n",
    "# x * y (aka matrix multiplication)\n",
    "*(A::GraphNode, x::GraphNode) = BroadcastedOperator(mul!, A, x)\n",
    "forward(::BroadcastedOperator{typeof(mul!)}, A, x) = return A * x\n",
    "backward(::BroadcastedOperator{typeof(mul!)}, A, x, g) = tuple(g * x', A' * g)\n",
    "\n",
    "# x .* y (element-wise multiplication)\n",
    "Base.Broadcast.broadcasted(*, x::GraphNode, y::GraphNode) = BroadcastedOperator(*, x, y)\n",
    "forward(::BroadcastedOperator{typeof(*)}, x, y) = return x .* y\n",
    "backward(node::BroadcastedOperator{typeof(*)}, x, y, g) = let\n",
    "    𝟏 = ones(length(node.output))\n",
    "    Jx = diagm(y .* 𝟏)\n",
    "    Jy = diagm(x .* 𝟏)\n",
    "    tuple(Jx' * g, Jy' * g)\n",
    "end"
   ]
  },
  {
   "cell_type": "code",
   "execution_count": 9,
   "id": "28c7549d",
   "metadata": {},
   "outputs": [
    {
     "data": {
      "text/plain": [
       "backward (generic function with 5 methods)"
      ]
     },
     "execution_count": 9,
     "metadata": {},
     "output_type": "execute_result"
    }
   ],
   "source": [
    "Base.Broadcast.broadcasted(-, x::GraphNode, y::GraphNode) = BroadcastedOperator(-, x, y)\n",
    "forward(::BroadcastedOperator{typeof(-)}, x, y) = return x .- y\n",
    "backward(::BroadcastedOperator{typeof(-)}, x, y, g) = tuple(g,-g)"
   ]
  },
  {
   "cell_type": "code",
   "execution_count": 10,
   "id": "47861201",
   "metadata": {},
   "outputs": [
    {
     "data": {
      "text/plain": [
       "backward (generic function with 6 methods)"
      ]
     },
     "execution_count": 10,
     "metadata": {},
     "output_type": "execute_result"
    }
   ],
   "source": [
    "Base.Broadcast.broadcasted(+, x::GraphNode, y::GraphNode) = BroadcastedOperator(+, x, y)\n",
    "forward(::BroadcastedOperator{typeof(+)}, x, y) = return x .+ y\n",
    "backward(::BroadcastedOperator{typeof(+)}, x, y, g) = tuple(g, g)"
   ]
  },
  {
   "cell_type": "code",
   "execution_count": 11,
   "id": "244cc7f1",
   "metadata": {},
   "outputs": [
    {
     "data": {
      "text/plain": [
       "backward (generic function with 7 methods)"
      ]
     },
     "execution_count": 11,
     "metadata": {},
     "output_type": "execute_result"
    }
   ],
   "source": [
    "import Base: sum\n",
    "sum(x::GraphNode) = BroadcastedOperator(sum, x)\n",
    "forward(::BroadcastedOperator{typeof(sum)}, x) = return sum(x)\n",
    "backward(::BroadcastedOperator{typeof(sum)}, x, g) = let\n",
    "    𝟏 = ones(length(x))\n",
    "    J = 𝟏'\n",
    "    tuple(J' * g)\n",
    "end"
   ]
  },
  {
   "cell_type": "code",
   "execution_count": 12,
   "id": "474f6b6b",
   "metadata": {},
   "outputs": [
    {
     "data": {
      "text/plain": [
       "backward (generic function with 8 methods)"
      ]
     },
     "execution_count": 12,
     "metadata": {},
     "output_type": "execute_result"
    }
   ],
   "source": [
    "Base.Broadcast.broadcasted(/, x::GraphNode, y::GraphNode) = BroadcastedOperator(/, x, y)\n",
    "forward(::BroadcastedOperator{typeof(/)}, x, y) = return x ./ y\n",
    "backward(node::BroadcastedOperator{typeof(/)}, x, y::Real, g) = let\n",
    "    𝟏 = ones(length(node.output))\n",
    "    Jx = diagm(𝟏 ./ y)\n",
    "    Jy = (-x ./ y .^2)\n",
    "    tuple(Jx' * g, Jy' * g)\n",
    "end"
   ]
  },
  {
   "cell_type": "code",
   "execution_count": 13,
   "id": "0c881d67",
   "metadata": {},
   "outputs": [
    {
     "data": {
      "text/plain": [
       "backward (generic function with 9 methods)"
      ]
     },
     "execution_count": 13,
     "metadata": {},
     "output_type": "execute_result"
    }
   ],
   "source": [
    "import Base: max\n",
    "Base.Broadcast.broadcasted(max, x::GraphNode, y::GraphNode) = BroadcastedOperator(max, x, y)\n",
    "forward(::BroadcastedOperator{typeof(max)}, x, y) = return max.(x, y)\n",
    "backward(::BroadcastedOperator{typeof(max)}, x, y, g) = let\n",
    "    Jx = diagm(isless.(y, x))\n",
    "    Jy = diagm(isless.(x, y))\n",
    "    tuple(Jx' * g, Jy' * g)\n",
    "end"
   ]
  },
  {
   "cell_type": "code",
   "execution_count": 14,
   "id": "prostate-likelihood",
   "metadata": {},
   "outputs": [
    {
     "data": {
      "text/plain": [
       "backward (generic function with 13 methods)"
      ]
     },
     "execution_count": 14,
     "metadata": {},
     "output_type": "execute_result"
    }
   ],
   "source": [
    "include(\"other_rules.jl\")"
   ]
  },
  {
   "cell_type": "markdown",
   "id": "12169704",
   "metadata": {},
   "source": [
    "## Testing area!\n",
    "Below we will perform few tests."
   ]
  },
  {
   "cell_type": "code",
   "execution_count": 15,
   "id": "ad1dbc80",
   "metadata": {},
   "outputs": [
    {
     "data": {
      "text/plain": [
       "4-element Vector{Any}:\n",
       " var x\n",
       " ┣━ ^ Float64\n",
       " ┗━ ∇ Nothing\n",
       " const 2.0\n",
       " op ?(typeof(^))\n",
       " op ?(typeof(sin))"
      ]
     },
     "execution_count": 15,
     "metadata": {},
     "output_type": "execute_result"
    }
   ],
   "source": [
    "x = Variable(5.0, name=\"x\")\n",
    "two = Constant(2.0)\n",
    "squared = x^two\n",
    "sine = sin(squared)\n",
    "\n",
    "order = topological_sort(sine)"
   ]
  },
  {
   "cell_type": "code",
   "execution_count": 16,
   "id": "7b9be30d",
   "metadata": {},
   "outputs": [
    {
     "data": {
      "text/plain": [
       "-0.13235175009777303"
      ]
     },
     "execution_count": 16,
     "metadata": {},
     "output_type": "execute_result"
    }
   ],
   "source": [
    "y = forward!(order)"
   ]
  },
  {
   "cell_type": "code",
   "execution_count": 17,
   "id": "harmful-specialist",
   "metadata": {},
   "outputs": [],
   "source": [
    "backward!(order)"
   ]
  },
  {
   "cell_type": "code",
   "execution_count": 18,
   "id": "resident-gothic",
   "metadata": {},
   "outputs": [
    {
     "data": {
      "text/plain": [
       "9.912028118634735"
      ]
     },
     "execution_count": 18,
     "metadata": {},
     "output_type": "execute_result"
    }
   ],
   "source": [
    "x.gradient"
   ]
  },
  {
   "cell_type": "markdown",
   "id": "e7b0803d",
   "metadata": {},
   "source": [
    "### The simplest multilayer-perceptron"
   ]
  },
  {
   "cell_type": "code",
   "execution_count": 19,
   "id": "5b0d7acd",
   "metadata": {},
   "outputs": [
    {
     "name": "stdout",
     "output_type": "stream",
     "text": [
      "1. const 0.5\n",
      "2. var y\n",
      " ┣━ ^ 1-element Vector{Float64}\n",
      " ┗━ ∇ 1×1 Matrix{Float64}\n",
      "3. var wo\n",
      " ┣━ ^ 1×10 Matrix{Float64}\n",
      " ┗━ ∇ 1×10 Matrix{Float64}\n",
      "4. var wh\n",
      " ┣━ ^ 10×2 Matrix{Float64}\n",
      " ┗━ ∇ 10×2 Matrix{Float64}\n",
      "5. var x\n",
      " ┣━ ^ 2-element Vector{Float64}\n",
      " ┗━ ∇ 2×1 Matrix{Float64}\n",
      "6. op.?(typeof(mul!))\n",
      "7. op.x̂(typeof(σ))\n",
      "8. op.ŷ(typeof(mul!))\n",
      "9. op.?(typeof(-))\n",
      "10. const 2\n",
      "11. op.?(typeof(^))\n",
      "12. op.loss(typeof(*))\n"
     ]
    }
   ],
   "source": [
    "using LinearAlgebra\n",
    "Wh  = Variable(randn(10,2), name=\"wh\")\n",
    "Wo  = Variable(randn(1,10), name=\"wo\")\n",
    "x = Variable([1.98, 4.434], name=\"x\")\n",
    "y = Variable([0.064], name=\"y\")\n",
    "losses = Float64[]\n",
    "\n",
    "function dense(w, b, x, activation) return activation(w * x .+ b) end\n",
    "function dense(w, x, activation) return activation(w * x) end\n",
    "function dense(w, x) return w * x end\n",
    "\n",
    "function mean_squared_loss(y, ŷ)\n",
    "    return Constant(0.5) .* (y .- ŷ) .^ Constant(2)\n",
    "end\n",
    "\n",
    "function net(x, wh, wo, y)\n",
    "    x̂ = dense(wh, x, σ)\n",
    "    x̂.name = \"x̂\"\n",
    "    ŷ = dense(wo, x̂)\n",
    "    ŷ.name = \"ŷ\"\n",
    "    E = mean_squared_loss(y, ŷ)\n",
    "    E.name = \"loss\"\n",
    "\n",
    "    return topological_sort(E)\n",
    "end\n",
    "graph = net(x, Wh, Wo, y)\n",
    "forward!(graph)\n",
    "backward!(graph)\n",
    "\n",
    "for (i,n) in enumerate(graph)\n",
    "    print(i, \". \"); println(n)\n",
    "end"
   ]
  },
  {
   "cell_type": "markdown",
   "id": "7c457220",
   "metadata": {},
   "source": [
    "### Manual derivatives for comparison"
   ]
  },
  {
   "cell_type": "code",
   "execution_count": 20,
   "id": "9e76b77e",
   "metadata": {},
   "outputs": [],
   "source": [
    "eye(n) = diagm(ones(n))\n",
    "Eŷ  = graph[8].output - y.output #ŷ\n",
    "ŷȳ  = graph[8].output |> length |> eye #ŷ\n",
    "ȳWo = graph[7].output |> transpose #x̂\n",
    "x̄Wh = graph[5].output |> transpose #x\n",
    "ȳx̂  = graph[3].output |> transpose #Wo\n",
    "x̂x̄  = graph[7].output .* (1.0 .- graph[7].output) |> diagm #x̂\n",
    "Eȳ  = ŷȳ * Eŷ\n",
    "Ex̂  = ȳx̂ * Eȳ\n",
    "Ex̄  = x̂x̄ * Ex̂\n",
    "EWo = Eȳ * ȳWo\n",
    "EWh = Ex̄ * x̄Wh\n",
    "nothing"
   ]
  },
  {
   "cell_type": "code",
   "execution_count": 21,
   "id": "0e9f9460",
   "metadata": {},
   "outputs": [
    {
     "data": {
      "text/plain": [
       "10×2 Matrix{Float64}:\n",
       " -0.244705     -0.547991\n",
       " -0.109261     -0.244678\n",
       "  0.752066      1.68417\n",
       "  0.000550744   0.00123333\n",
       "  1.24728       2.79315\n",
       "  0.00389548    0.00872351\n",
       "  2.93967       6.58308\n",
       "  0.100424      0.224889\n",
       "  0.437819      0.980449\n",
       " -0.151132     -0.338444"
      ]
     },
     "execution_count": 21,
     "metadata": {},
     "output_type": "execute_result"
    }
   ],
   "source": [
    "EWh"
   ]
  },
  {
   "cell_type": "code",
   "execution_count": 22,
   "id": "54e7cd83",
   "metadata": {},
   "outputs": [
    {
     "name": "stdout",
     "output_type": "stream",
     "text": [
      "Current loss: [15.888067955906543]\n"
     ]
    },
    {
     "data": {
      "text/plain": [
       "1-element Vector{Float64}:\n",
       " 15.888067955906543"
      ]
     },
     "execution_count": 22,
     "metadata": {},
     "output_type": "execute_result"
    }
   ],
   "source": [
    "currentloss = forward!(graph)\n",
    "backward!(graph)\n",
    "Wh.output -= 0.01Wh.gradient\n",
    "Wo.output -= 0.01Wo.gradient\n",
    "println(\"Current loss: \", currentloss)\n",
    "push!(losses, first(currentloss))\n"
   ]
  },
  {
   "cell_type": "code",
   "execution_count": 23,
   "id": "romance-gravity",
   "metadata": {},
   "outputs": [
    {
     "data": {
      "text/plain": [
       "2×1 Matrix{Float64}:\n",
       " 0.1916863939736537\n",
       " 1.182506448047368"
      ]
     },
     "execution_count": 23,
     "metadata": {},
     "output_type": "execute_result"
    }
   ],
   "source": [
    "x.gradient"
   ]
  },
  {
   "cell_type": "code",
   "execution_count": 24,
   "id": "fa7a9849",
   "metadata": {},
   "outputs": [
    {
     "data": {
      "image/png": "[encoded data removed]",
      "text/plain": [
       "Figure(PyObject <Figure size 640x480 with 1 Axes>)"
      ]
     },
     "metadata": {},
     "output_type": "display_data"
    },
    {
     "name": "stderr",
     "output_type": "stream",
     "text": [
      "┌ Warning: PyPlot is using tkagg backend, which is known to cause crashes on MacOS (#410); use the MPLBACKEND environment variable to request a different backend.\n",
      "└ @ PyPlot /Users/bach/.julia/packages/PyPlot/XaELc/src/init.jl:198\n",
      "┌ Warning: `vendor()` is deprecated, use `BLAS.get_config()` and inspect the output instead\n",
      "│   caller = npyinitialize() at numpy.jl:67\n",
      "└ @ PyCall /Users/bach/.julia/packages/PyCall/L0fLP/src/numpy.jl:67\n"
     ]
    }
   ],
   "source": [
    "using PyPlot\n",
    "semilogy(losses, \".\")\n",
    "xlabel(\"epoch\")\n",
    "ylabel(\"loss\")\n",
    "grid()"
   ]
  },
  {
   "cell_type": "code",
   "execution_count": 25,
   "id": "92464b29",
   "metadata": {},
   "outputs": [
    {
     "data": {
      "text/plain": [
       "backward (generic function with 14 methods)"
      ]
     },
     "execution_count": 25,
     "metadata": {},
     "output_type": "execute_result"
    }
   ],
   "source": [
    "softmax(x::GraphNode) = BroadcastedOperator(softmax, x)\n",
    "forward(::BroadcastedOperator{typeof(softmax)}, x) = return exp.(x) ./ sum(exp.(x))\n",
    "backward(node::BroadcastedOperator{typeof(softmax)}, x, g) = let\n",
    "    y = node.output\n",
    "    J = diagm(y) .- y * y'\n",
    "    tuple(J' * g)\n",
    "end"
   ]
  },
  {
   "cell_type": "code",
   "execution_count": 26,
   "id": "exact-appendix",
   "metadata": {},
   "outputs": [
    {
     "data": {
      "text/plain": [
       "rosenbrock (generic function with 1 method)"
      ]
     },
     "execution_count": 26,
     "metadata": {},
     "output_type": "execute_result"
    }
   ],
   "source": [
    "rosenbrock(x, y) = (Constant(1.0) .- x .* x) .+ Constant(100.0) .* (y .- x .* x) .* (y .- x .* x)"
   ]
  },
  {
   "cell_type": "code",
   "execution_count": 30,
   "id": "773f2be6",
   "metadata": {},
   "outputs": [
    {
     "name": "stdout",
     "output_type": "stream",
     "text": [
      "1. const -1.0\n",
      "2. var y\n",
      " ┣━ ^ 3-element Vector{Float64}\n",
      " ┗━ ∇ Nothing\n",
      "3. op.?(typeof(*))\n",
      "4. var wo\n",
      " ┣━ ^ 3×8 Matrix{Float64}\n",
      " ┗━ ∇ Nothing\n",
      "5. var wh\n",
      " ┣━ ^ 8×4 Matrix{Float64}\n",
      " ┗━ ∇ Nothing\n",
      "6. var x\n",
      " ┣━ ^ 4-element Vector{Float64}\n",
      " ┗━ ∇ Nothing\n",
      "7. op.?(typeof(mul!))\n",
      "8. var bh\n",
      " ┣━ ^ 8-element Vector{Float64}\n",
      " ┗━ ∇ Nothing\n",
      "9. op.?(typeof(+))\n",
      "10. op.x̂(typeof(σ))\n",
      "11. op.?(typeof(mul!))\n",
      "12. var bo\n",
      " ┣━ ^ 3-element Vector{Float64}\n",
      " ┗━ ∇ Nothing\n",
      "13. op.?(typeof(+))\n",
      "14. op.?(typeof(exp))\n",
      "15. op.?(typeof(sum))\n",
      "16. op.ŷ(typeof(/))\n",
      "17. op.?(typeof(log))\n",
      "18. op.?(typeof(*))\n",
      "19. op.loss(typeof(sum))\n"
     ]
    }
   ],
   "source": [
    "import Random: shuffle, shuffle!, seed!\n",
    "seed!(0)\n",
    "\n",
    "cross_entropy_loss(y, ŷ) = sum(Constant(-1.0) .* y .* log.(ŷ))\n",
    "linear(x) = x\n",
    "ReLU(x) = max.(Constant(0.0), x)\n",
    "swish(x) = x ./ (Constant(1.0) .+ exp.(Constant(-1) * x))\n",
    "input_neurons  = 4\n",
    "hidden_neurons = 8\n",
    "output_neurons = 3\n",
    "\n",
    "wh = Variable(randn(hidden_neurons, input_neurons), name=\"wh\")\n",
    "wo = Variable(randn(output_neurons, hidden_neurons), name=\"wo\")\n",
    "bh = Variable(zeros(hidden_neurons), name=\"bh\")\n",
    "bo = Variable(zeros(output_neurons), name=\"bo\")\n",
    "x = Variable(zeros(input_neurons), name=\"x\")\n",
    "y = Variable(zeros(output_neurons), name=\"y\")\n",
    "η = 0.001\n",
    "epochs = 900\n",
    "\n",
    "function net(x, wh, bh, wo, bo)\n",
    "    x̂ = dense(wh, bh, x, σ)\n",
    "    x̂.name = \"x̂\"\n",
    "    ŷ = dense(wo, bo, x̂, z -> let y = exp.(z); y ./ sum(y) end)\n",
    "    ŷ.name = \"ŷ\"\n",
    "    return ŷ\n",
    "end\n",
    "\n",
    "function loss(x, y, wh, bh, wo, bo)\n",
    "    ŷ = net(x, wh, bh, wo, bo)\n",
    "    E = cross_entropy_loss(y, ŷ); E.name = \"loss\"\n",
    "    return E\n",
    "end\n",
    "\n",
    "include(\"iris.jl\")\n",
    "test_size  = 10\n",
    "train_size = 140\n",
    "data_size  = train_size + test_size\n",
    "train_set  = shuffle(1:data_size)[1:train_size]\n",
    "test_set   = setdiff(1:data_size, train_set)\n",
    "graph = topological_sort(loss(x, y, wh, bh, wo, bo))\n",
    "for (i,n) in enumerate(graph)\n",
    "    print(i, \". \"); println(n)\n",
    "end"
   ]
  },
  {
   "cell_type": "code",
   "execution_count": 31,
   "id": "fc98978d",
   "metadata": {},
   "outputs": [
    {
     "name": "stdout",
     "output_type": "stream",
     "text": [
      "test(test_set) = 2.168292144192796\n",
      "test(test_set) = 2.163350532440505\n",
      "test(test_set) = 2.1598709432765704\n",
      "test(test_set) = 2.15597978655256\n",
      "test(test_set) = 2.152700542420117\n",
      "test(test_set) = 2.14861164342377\n",
      "test(test_set) = 2.1444387295569842\n",
      "test(test_set) = 2.13946448085573\n",
      "test(test_set) = 2.1361094787441326\n",
      "test(test_set) = 2.133416112683451\n",
      "test(test_set) = 2.130804478506205\n",
      "test(test_set) = 2.128451044960854\n",
      "test(test_set) = 2.124134561835662\n",
      "test(test_set) = 2.120616296236201\n",
      "test(test_set) = 2.1162143027581237\n",
      "test(test_set) = 2.112526881151459\n",
      "test(test_set) = 2.111262448754048\n",
      "test(test_set) = 2.1077608027904184\n",
      "test(test_set) = 2.1028810669297457\n",
      "test(test_set) = 2.0992015590716884\n",
      "test(test_set) = 2.0951612652223846\n",
      "test(test_set) = 2.091690253726602\n",
      "test(test_set) = 2.087670208470106\n",
      "test(test_set) = 2.083349919749689\n",
      "test(test_set) = 2.078935302079747\n",
      "test(test_set) = 2.07545009096808\n",
      "test(test_set) = 2.073041333273345\n",
      "test(test_set) = 2.069035712599392\n",
      "test(test_set) = 2.066167041508901\n",
      "test(test_set) = 2.0644001335206954\n",
      "test(test_set) = 2.0611980368655525\n",
      "test(test_set) = 2.056643309517895\n",
      "test(test_set) = 2.0521579770137763\n",
      "test(test_set) = 2.048282815353416\n",
      "test(test_set) = 2.046028726344045\n",
      "test(test_set) = 2.041456743815922\n",
      "test(test_set) = 2.0385156866024188\n",
      "test(test_set) = 2.034616804585701\n",
      "test(test_set) = 2.029788028141487\n",
      "test(test_set) = 2.0253467001214545\n",
      "test(test_set) = 2.022459584631752\n",
      "test(test_set) = 2.017761965597331\n",
      "test(test_set) = 2.014093785646386\n",
      "test(test_set) = 2.011619807474007\n",
      "test(test_set) = 2.0084762840995363\n",
      "test(test_set) = 2.0054017047176425\n",
      "test(test_set) = 2.001782189561441\n",
      "test(test_set) = 1.9976464926697055\n",
      "test(test_set) = 1.9944672657454654\n",
      "test(test_set) = 1.9901333283220701\n",
      "test(test_set) = 1.986071737732167\n",
      "test(test_set) = 1.9821755562828003\n",
      "test(test_set) = 1.9793328771644305\n",
      "test(test_set) = 1.9772150507509298\n",
      "test(test_set) = 1.975192180652741\n",
      "test(test_set) = 1.9713980522345491\n",
      "test(test_set) = 1.9682994902235538\n",
      "test(test_set) = 1.9662184139840146\n",
      "test(test_set) = 1.9631025958661419\n",
      "test(test_set) = 1.9612718015993835\n",
      "test(test_set) = 1.9584286450539576\n",
      "test(test_set) = 1.9537138837808137\n",
      "test(test_set) = 1.9503044099242317\n",
      "test(test_set) = 1.9466242058773147\n",
      "test(test_set) = 1.9440772694657387\n",
      "test(test_set) = 1.9400436904577987\n",
      "test(test_set) = 1.9351528123105055\n",
      "test(test_set) = 1.930177307005269\n",
      "test(test_set) = 1.9268258748861904\n",
      "test(test_set) = 1.9225400610129628\n",
      "test(test_set) = 1.9198279312466233\n",
      "test(test_set) = 1.9180284823515745\n",
      "test(test_set) = 1.9147059167468217\n",
      "test(test_set) = 1.9108130117472673\n",
      "test(test_set) = 1.906763211431548\n",
      "test(test_set) = 1.904084180682601\n",
      "test(test_set) = 1.900456218128141\n",
      "test(test_set) = 1.8962828579974556\n",
      "test(test_set) = 1.893731289762488\n",
      "test(test_set) = 1.8902905924610578\n",
      "test(test_set) = 1.8874217573541938\n",
      "test(test_set) = 1.8839492096598829\n",
      "test(test_set) = 1.881051548151073\n",
      "test(test_set) = 1.8778944185523927\n",
      "test(test_set) = 1.8743618584823856\n",
      "test(test_set) = 1.8699872030642872\n",
      "test(test_set) = 1.8664350519603012\n",
      "test(test_set) = 1.8620581916301133\n",
      "test(test_set) = 1.8592008559167401\n",
      "test(test_set) = 1.8556301465743545\n",
      "test(test_set) = 1.8527106370651816\n",
      "test(test_set) = 1.8505266836936785\n",
      "test(test_set) = 1.8461757132843126\n",
      "test(test_set) = 1.8433367494367687\n",
      "test(test_set) = 1.8401249409796336\n",
      "test(test_set) = 1.8370297199337933\n",
      "test(test_set) = 1.8346687841202531\n",
      "test(test_set) = 1.8327407557726527\n",
      "test(test_set) = 1.8294314212073417\n",
      "test(test_set) = 1.8263079873322277\n",
      "test(test_set) = 1.8227248916767262\n",
      "test(test_set) = 1.8186333359727254\n",
      "test(test_set) = 1.8158842531037416\n",
      "test(test_set) = 1.8138194383918467\n",
      "test(test_set) = 1.8107087311444527\n",
      "test(test_set) = 1.8068265582399186\n",
      "test(test_set) = 1.8043505196438048\n",
      "test(test_set) = 1.8003376853985074\n",
      "test(test_set) = 1.7976744327863219\n",
      "test(test_set) = 1.7945637628235183\n",
      "test(test_set) = 1.7912683048824891\n",
      "test(test_set) = 1.789760352523804\n",
      "test(test_set) = 1.7874509736315471\n",
      "test(test_set) = 1.7843903577980953\n",
      "test(test_set) = 1.782139961119676\n",
      "test(test_set) = 1.7808300834801698\n",
      "test(test_set) = 1.7796839967573088\n",
      "test(test_set) = 1.7773272295739548\n",
      "test(test_set) = 1.7746959192934502\n",
      "test(test_set) = 1.7717439338890588\n",
      "test(test_set) = 1.769513862793905\n",
      "test(test_set) = 1.7680802877120239\n",
      "test(test_set) = 1.765227501286348\n",
      "test(test_set) = 1.763072397515104\n",
      "test(test_set) = 1.761082967349428\n",
      "test(test_set) = 1.7579664323749775\n",
      "test(test_set) = 1.755626073822396\n",
      "test(test_set) = 1.7519843157104398\n",
      "test(test_set) = 1.7495836658570147\n",
      "test(test_set) = 1.7464056943487467\n",
      "test(test_set) = 1.7441023445231643\n",
      "test(test_set) = 1.7411536265830219\n",
      "test(test_set) = 1.7393428861814175\n",
      "test(test_set) = 1.737616532218049\n",
      "test(test_set) = 1.7348364039959976\n",
      "test(test_set) = 1.7321804539767558\n",
      "test(test_set) = 1.728813445704142\n",
      "test(test_set) = 1.7260310371684917\n",
      "test(test_set) = 1.7243574942612816\n",
      "test(test_set) = 1.7214387657155672\n",
      "test(test_set) = 1.7188013363091528\n",
      "test(test_set) = 1.71574420496833\n",
      "test(test_set) = 1.7124027096848071\n",
      "test(test_set) = 1.7103613421656925\n",
      "test(test_set) = 1.7091273631496158\n",
      "test(test_set) = 1.706133379700411\n",
      "test(test_set) = 1.7037986252123083\n",
      "test(test_set) = 1.7012154890232445\n",
      "test(test_set) = 1.6994740854177657\n",
      "test(test_set) = 1.6977859188346287\n",
      "test(test_set) = 1.69438427837507\n",
      "test(test_set) = 1.6933700387326638\n",
      "test(test_set) = 1.691010666625846\n",
      "test(test_set) = 1.688605334215071\n",
      "test(test_set) = 1.685913627113166\n",
      "test(test_set) = 1.6833486916107265\n",
      "test(test_set) = 1.6807602969524325\n",
      "test(test_set) = 1.6787573578173283\n",
      "test(test_set) = 1.6769991425519293\n",
      "test(test_set) = 1.6746838564736202\n",
      "test(test_set) = 1.6729963274196504\n",
      "test(test_set) = 1.6717453240793994\n",
      "test(test_set) = 1.6701662631891232\n",
      "test(test_set) = 1.667839126085412\n",
      "test(test_set) = 1.6673059771507526\n",
      "test(test_set) = 1.6669071308162153\n",
      "test(test_set) = 1.6647542333626895\n",
      "test(test_set) = 1.663161008118832\n",
      "test(test_set) = 1.6609100177013467\n",
      "test(test_set) = 1.6595976754708297\n",
      "test(test_set) = 1.6575211876974838\n",
      "test(test_set) = 1.6548457063169433\n",
      "test(test_set) = 1.6530830546791049\n",
      "test(test_set) = 1.6517469072235922\n",
      "test(test_set) = 1.6496544621017706\n",
      "test(test_set) = 1.6470730881668616\n",
      "test(test_set) = 1.645056905439868\n",
      "test(test_set) = 1.6433176117334085\n",
      "test(test_set) = 1.641223092688487\n",
      "test(test_set) = 1.639081602740898\n",
      "test(test_set) = 1.6371345477585895\n",
      "test(test_set) = 1.6361875149030105\n",
      "test(test_set) = 1.6334849308912989\n",
      "test(test_set) = 1.6310416620532127\n",
      "test(test_set) = 1.6297101218103567\n",
      "test(test_set) = 1.6277130927172347\n",
      "test(test_set) = 1.6256725011894304\n",
      "test(test_set) = 1.6244188320400248\n",
      "test(test_set) = 1.621969665551959\n",
      "test(test_set) = 1.6199473860440246\n",
      "test(test_set) = 1.617945855996029\n",
      "test(test_set) = 1.6162940087865327\n",
      "test(test_set) = 1.6143521343499476\n",
      "test(test_set) = 1.6135986439039747\n",
      "test(test_set) = 1.6118946102704477\n",
      "test(test_set) = 1.6103071469941557\n",
      "test(test_set) = 1.609753137068101\n",
      "test(test_set) = 1.6071839179746537\n",
      "test(test_set) = 1.6056854549692372\n",
      "test(test_set) = 1.6038522667597177\n",
      "test(test_set) = 1.602617969475446\n",
      "test(test_set) = 1.601470487591835\n",
      "test(test_set) = 1.5995174229892217\n",
      "test(test_set) = 1.5986266908524276\n",
      "test(test_set) = 1.5962787657239415\n",
      "test(test_set) = 1.5952377691397017\n",
      "test(test_set) = 1.5936439744798583\n",
      "test(test_set) = 1.5922083974146874\n",
      "test(test_set) = 1.5903000509717842\n",
      "test(test_set) = 1.588198424124078\n",
      "test(test_set) = 1.5869861478496337\n",
      "test(test_set) = 1.585850192558633\n",
      "test(test_set) = 1.5843936489507375\n",
      "test(test_set) = 1.583144880408812\n",
      "test(test_set) = 1.5813942446124707\n",
      "test(test_set) = 1.5794269612413268\n",
      "test(test_set) = 1.5777346054938957\n",
      "test(test_set) = 1.5764662806435141\n",
      "test(test_set) = 1.5751151678121094\n",
      "test(test_set) = 1.5730596140662603\n",
      "test(test_set) = 1.571188705654176\n",
      "test(test_set) = 1.5692086215171015\n",
      "test(test_set) = 1.5675477482029125\n",
      "test(test_set) = 1.5657353745295173\n",
      "test(test_set) = 1.5642130779050656\n",
      "test(test_set) = 1.5621987962749384\n",
      "test(test_set) = 1.5607089489970645\n",
      "test(test_set) = 1.5590200122413527\n",
      "test(test_set) = 1.5580984194424876\n",
      "test(test_set) = 1.5573095998488917\n",
      "test(test_set) = 1.5563321715522598\n",
      "test(test_set) = 1.5548332454920977\n",
      "test(test_set) = 1.5534595613970548\n",
      "test(test_set) = 1.5521030710776575\n",
      "test(test_set) = 1.5510924840595393\n",
      "test(test_set) = 1.5495471101350828\n",
      "test(test_set) = 1.54819901922939\n",
      "test(test_set) = 1.547187126227922\n",
      "test(test_set) = 1.545982519249792\n",
      "test(test_set) = 1.544851530162628\n",
      "test(test_set) = 1.5435241650865925\n",
      "test(test_set) = 1.5424493872836873\n",
      "test(test_set) = 1.540969540789092\n",
      "test(test_set) = 1.539696005028568\n",
      "test(test_set) = 1.5385828115341433\n",
      "test(test_set) = 1.5374523808367548\n",
      "test(test_set) = 1.5364760424671062\n",
      "test(test_set) = 1.5356056895711714\n",
      "test(test_set) = 1.5346641245420534\n",
      "test(test_set) = 1.5338384479026743\n",
      "test(test_set) = 1.5324037053755653\n",
      "test(test_set) = 1.530899009439739\n",
      "test(test_set) = 1.5293285815406048\n",
      "test(test_set) = 1.5286616033226401\n",
      "test(test_set) = 1.5277147182666115\n",
      "test(test_set) = 1.5266895663469646\n",
      "test(test_set) = 1.5250203385377767\n",
      "test(test_set) = 1.5241729168838893\n",
      "test(test_set) = 1.5227489827612088\n",
      "test(test_set) = 1.5217880236574075\n",
      "test(test_set) = 1.5210978480471116\n",
      "test(test_set) = 1.520121064346141\n",
      "test(test_set) = 1.5190370904558963\n",
      "test(test_set) = 1.5183345686957481\n",
      "test(test_set) = 1.5172979497607877\n",
      "test(test_set) = 1.5164749900877301\n",
      "test(test_set) = 1.515616137934214\n",
      "test(test_set) = 1.5147258084064539\n",
      "test(test_set) = 1.5140191869710318\n",
      "test(test_set) = 1.5134609632472984\n",
      "test(test_set) = 1.512151321004127\n",
      "test(test_set) = 1.5110758158631916\n",
      "test(test_set) = 1.5100245964721501\n",
      "test(test_set) = 1.5085624762129417\n",
      "test(test_set) = 1.5074674347941976\n",
      "test(test_set) = 1.5065075566058093\n",
      "test(test_set) = 1.5055377460948598\n",
      "test(test_set) = 1.5043621771900035\n",
      "test(test_set) = 1.5033571239794747\n",
      "test(test_set) = 1.5022241376938938\n",
      "test(test_set) = 1.5010607368543243\n",
      "test(test_set) = 1.5002264796360119\n",
      "test(test_set) = 1.499286920678644\n",
      "test(test_set) = 1.4987019466031373\n",
      "test(test_set) = 1.4980740440063123\n",
      "test(test_set) = 1.4968800708359093\n"
     ]
    },
    {
     "name": "stdout",
     "output_type": "stream",
     "text": [
      "test(test_set) = 1.4958730485937883\n",
      "test(test_set) = 1.4948517936081964\n",
      "test(test_set) = 1.4939583058913282\n",
      "test(test_set) = 1.4929899332331331\n",
      "test(test_set) = 1.4919565675895696\n",
      "test(test_set) = 1.4910563739026128\n",
      "test(test_set) = 1.490372519468679\n",
      "test(test_set) = 1.4893414259199662\n",
      "test(test_set) = 1.4882871855793969\n",
      "test(test_set) = 1.4875031579839946\n",
      "test(test_set) = 1.4864628441253527\n",
      "test(test_set) = 1.4859348064730025\n",
      "test(test_set) = 1.4850111887831305\n",
      "test(test_set) = 1.4841158757517485\n",
      "test(test_set) = 1.4833769612984495\n",
      "test(test_set) = 1.4826222815509555\n",
      "test(test_set) = 1.4818080678214702\n",
      "test(test_set) = 1.4811579790897471\n",
      "test(test_set) = 1.4806736644554532\n",
      "test(test_set) = 1.48007135921398\n",
      "test(test_set) = 1.4792833929947813\n",
      "test(test_set) = 1.478193385880914\n",
      "test(test_set) = 1.477388102310692\n",
      "test(test_set) = 1.4764570385438827\n",
      "test(test_set) = 1.4757249873198952\n",
      "test(test_set) = 1.4747394572519852\n",
      "test(test_set) = 1.473939383660051\n",
      "test(test_set) = 1.4730482674271002\n",
      "test(test_set) = 1.4723738034386753\n",
      "test(test_set) = 1.4716043845794675\n",
      "test(test_set) = 1.4707545158676583\n",
      "test(test_set) = 1.4699196357668627\n",
      "test(test_set) = 1.4690829818934816\n",
      "test(test_set) = 1.468051400183472\n",
      "test(test_set) = 1.4673430816591935\n",
      "test(test_set) = 1.4666628956729264\n",
      "test(test_set) = 1.4656672974277467\n",
      "test(test_set) = 1.4651145238770993\n",
      "test(test_set) = 1.4641437288398012\n",
      "test(test_set) = 1.4633734497968949\n",
      "test(test_set) = 1.4626323372341763\n",
      "test(test_set) = 1.461912025936111\n",
      "test(test_set) = 1.4610559094559186\n",
      "test(test_set) = 1.4604947288245194\n",
      "test(test_set) = 1.4598486039896605\n",
      "test(test_set) = 1.4590605644819892\n",
      "test(test_set) = 1.4583996409882511\n",
      "test(test_set) = 1.457566433323136\n",
      "test(test_set) = 1.4570066208158257\n",
      "test(test_set) = 1.4562520147365727\n",
      "test(test_set) = 1.4556299821296994\n",
      "test(test_set) = 1.4549182659403803\n",
      "test(test_set) = 1.4540699185519217\n",
      "test(test_set) = 1.4535454204157414\n",
      "test(test_set) = 1.4529161158644563\n",
      "test(test_set) = 1.4523093137652614\n",
      "test(test_set) = 1.4515721795446013\n",
      "test(test_set) = 1.450654333812834\n",
      "test(test_set) = 1.4498769717372029\n",
      "test(test_set) = 1.4490852214676102\n",
      "test(test_set) = 1.448285026596687\n",
      "test(test_set) = 1.4476873769140497\n",
      "test(test_set) = 1.4468903055501823\n",
      "test(test_set) = 1.4461792732335823\n",
      "test(test_set) = 1.4456219887484232\n",
      "test(test_set) = 1.4448441162705572\n",
      "test(test_set) = 1.4442333466724695\n",
      "test(test_set) = 1.4435648242350534\n",
      "test(test_set) = 1.4430375785059684\n",
      "test(test_set) = 1.4423559146274596\n",
      "test(test_set) = 1.441785002080212\n",
      "test(test_set) = 1.441084060420415\n",
      "test(test_set) = 1.4404568435955079\n",
      "test(test_set) = 1.439998847843238\n",
      "test(test_set) = 1.4394017743765661\n",
      "test(test_set) = 1.438827380425534\n",
      "test(test_set) = 1.438091406752974\n",
      "test(test_set) = 1.4375856951809707\n",
      "test(test_set) = 1.4370065814941637\n",
      "test(test_set) = 1.4363497318769431\n",
      "test(test_set) = 1.4358028680039459\n",
      "test(test_set) = 1.4350080824712426\n",
      "test(test_set) = 1.434319158473182\n",
      "test(test_set) = 1.433641067224926\n",
      "test(test_set) = 1.4329225514954795\n",
      "test(test_set) = 1.4323158061553607\n",
      "test(test_set) = 1.4315596512993793\n",
      "test(test_set) = 1.430942107796896\n",
      "test(test_set) = 1.4302865586162818\n",
      "test(test_set) = 1.4296146738283166\n",
      "test(test_set) = 1.4290667575011906\n",
      "test(test_set) = 1.428361882016136\n",
      "test(test_set) = 1.4277710472529308\n",
      "test(test_set) = 1.4271748057975882\n",
      "test(test_set) = 1.4265664103039033\n",
      "test(test_set) = 1.4260354815691412\n",
      "test(test_set) = 1.4254380141249954\n",
      "test(test_set) = 1.4249356368333124\n",
      "test(test_set) = 1.4242972100114404\n",
      "test(test_set) = 1.423679340475008\n",
      "test(test_set) = 1.4231082986910424\n",
      "test(test_set) = 1.422504606116661\n",
      "test(test_set) = 1.4219828187823325\n",
      "test(test_set) = 1.421404503072881\n",
      "test(test_set) = 1.420826592032169\n",
      "test(test_set) = 1.4202292202897626\n",
      "test(test_set) = 1.419798640207331\n",
      "test(test_set) = 1.41932412762397\n",
      "test(test_set) = 1.418849467826667\n",
      "test(test_set) = 1.4182100071664727\n",
      "test(test_set) = 1.4175722369973216\n",
      "test(test_set) = 1.41709306677179\n",
      "test(test_set) = 1.4165827563817799\n",
      "test(test_set) = 1.4161170371973557\n",
      "test(test_set) = 1.415484368094447\n",
      "test(test_set) = 1.4149717423998769\n",
      "test(test_set) = 1.4144544860665318\n",
      "test(test_set) = 1.4139781924608024\n",
      "test(test_set) = 1.413553753843201\n",
      "test(test_set) = 1.4131080935198148\n",
      "test(test_set) = 1.4124496312636379\n",
      "test(test_set) = 1.4120885284039122\n",
      "test(test_set) = 1.4115193281373954\n",
      "test(test_set) = 1.4110496250541913\n",
      "test(test_set) = 1.410514961719653\n",
      "test(test_set) = 1.4098580227754416\n",
      "test(test_set) = 1.409228516264911\n",
      "test(test_set) = 1.4087116512200146\n",
      "test(test_set) = 1.4082273686999962\n",
      "test(test_set) = 1.407696163698849\n",
      "test(test_set) = 1.4073253885716084\n",
      "test(test_set) = 1.4068302848522394\n",
      "test(test_set) = 1.4062491099215577\n",
      "test(test_set) = 1.405657777986267\n",
      "test(test_set) = 1.4050602623243935\n",
      "test(test_set) = 1.4046368029788676\n",
      "test(test_set) = 1.4041111408951683\n",
      "test(test_set) = 1.4035876028659804\n",
      "test(test_set) = 1.4032035456785197\n",
      "test(test_set) = 1.4026786701627323\n",
      "test(test_set) = 1.4022149944651197\n",
      "test(test_set) = 1.4017094455470425\n",
      "test(test_set) = 1.4013052761782154\n",
      "test(test_set) = 1.4009555231758057\n",
      "test(test_set) = 1.400544801795327\n",
      "test(test_set) = 1.4002082796260136\n",
      "test(test_set) = 1.399795629346616\n",
      "test(test_set) = 1.3991575966380794\n",
      "test(test_set) = 1.3985684241569472\n",
      "test(test_set) = 1.3983071864228187\n",
      "test(test_set) = 1.3979197119224616\n",
      "test(test_set) = 1.3973994883518035\n",
      "test(test_set) = 1.3970811290511638\n",
      "test(test_set) = 1.396499713061343\n",
      "test(test_set) = 1.3961280112409287\n",
      "test(test_set) = 1.395925690852473\n",
      "test(test_set) = 1.3954559426061046\n",
      "test(test_set) = 1.394964748115294\n",
      "test(test_set) = 1.394408164875553\n",
      "test(test_set) = 1.3940477996598604\n",
      "test(test_set) = 1.3935561935169782\n",
      "test(test_set) = 1.3931255679335683\n",
      "test(test_set) = 1.3927404292284364\n",
      "test(test_set) = 1.3920558091687574\n",
      "test(test_set) = 1.3914759844602629\n",
      "test(test_set) = 1.391022059509837\n",
      "test(test_set) = 1.3905506024533325\n",
      "test(test_set) = 1.3900117199158732\n",
      "test(test_set) = 1.3895722891805022\n",
      "test(test_set) = 1.388896335650426\n",
      "test(test_set) = 1.3881370967681548\n",
      "test(test_set) = 1.387644732933269\n",
      "test(test_set) = 1.3873054184566402\n",
      "test(test_set) = 1.386660178285557\n",
      "test(test_set) = 1.38631519715527\n",
      "test(test_set) = 1.3856849437567633\n",
      "test(test_set) = 1.3851110173502068\n",
      "test(test_set) = 1.3846751962867998\n",
      "test(test_set) = 1.384365358803825\n",
      "test(test_set) = 1.383905241847512\n",
      "test(test_set) = 1.3832957024950265\n",
      "test(test_set) = 1.382745133894356\n",
      "test(test_set) = 1.3826794041389738\n",
      "test(test_set) = 1.3823554988607725\n",
      "test(test_set) = 1.3819829578936704\n",
      "test(test_set) = 1.3815027864307527\n",
      "test(test_set) = 1.3808325447687415\n",
      "test(test_set) = 1.380242510886489\n",
      "test(test_set) = 1.3796492734164505\n",
      "test(test_set) = 1.3793180284156976\n",
      "test(test_set) = 1.3788417592847222\n",
      "test(test_set) = 1.3782675554532937\n",
      "test(test_set) = 1.3778608659490907\n",
      "test(test_set) = 1.3772591391632942\n",
      "test(test_set) = 1.376669825038709\n",
      "test(test_set) = 1.376120449963517\n",
      "test(test_set) = 1.3757685775306057\n",
      "test(test_set) = 1.375368987009694\n",
      "test(test_set) = 1.3749796098291052\n",
      "test(test_set) = 1.3745447558627868\n",
      "test(test_set) = 1.3741325560355468\n",
      "test(test_set) = 1.3739162502965905\n",
      "test(test_set) = 1.373761731992793\n",
      "test(test_set) = 1.3732703763401766\n",
      "test(test_set) = 1.3727321093104459\n",
      "test(test_set) = 1.3724088919101807\n",
      "test(test_set) = 1.3716474246193155\n",
      "test(test_set) = 1.371308782394883\n",
      "test(test_set) = 1.371031070213197\n",
      "test(test_set) = 1.3708090413296543\n",
      "test(test_set) = 1.3703669095796298\n",
      "test(test_set) = 1.3700524097866993\n",
      "test(test_set) = 1.3699014181379368\n",
      "test(test_set) = 1.3694747122345488\n",
      "test(test_set) = 1.369118502881832\n",
      "test(test_set) = 1.3682256706793976\n",
      "test(test_set) = 1.3680078989807962\n",
      "test(test_set) = 1.3676801522662103\n",
      "test(test_set) = 1.3673764591957909\n",
      "test(test_set) = 1.3667952038730495\n",
      "test(test_set) = 1.366227183586483\n",
      "test(test_set) = 1.365903929435165\n",
      "test(test_set) = 1.365886021452273\n",
      "test(test_set) = 1.3654953281725617\n",
      "test(test_set) = 1.3651164041932398\n",
      "test(test_set) = 1.3645137941983316\n",
      "test(test_set) = 1.3640040626776746\n",
      "test(test_set) = 1.3632941756028254\n",
      "test(test_set) = 1.362891596767422\n",
      "test(test_set) = 1.3622265962865048\n",
      "test(test_set) = 1.36175572407504\n",
      "test(test_set) = 1.361224539183229\n",
      "test(test_set) = 1.36096216422298\n",
      "test(test_set) = 1.3603123503715941\n",
      "test(test_set) = 1.3598075768188012\n",
      "test(test_set) = 1.358963484325121\n",
      "test(test_set) = 1.3587328814535167\n",
      "test(test_set) = 1.3580653366537523\n",
      "test(test_set) = 1.3574251109546078\n",
      "test(test_set) = 1.3571699610352008\n",
      "test(test_set) = 1.3567799867036572\n",
      "test(test_set) = 1.3563082212198314\n",
      "test(test_set) = 1.3562278720890688\n",
      "test(test_set) = 1.3559815241818771\n",
      "test(test_set) = 1.3556207012107762\n",
      "test(test_set) = 1.355076184928787\n",
      "test(test_set) = 1.3545454761124627\n",
      "test(test_set) = 1.354207182611999\n",
      "test(test_set) = 1.3536927565226082\n",
      "test(test_set) = 1.3533106640612762\n",
      "test(test_set) = 1.3529650568171117\n",
      "test(test_set) = 1.3521494155043707\n",
      "test(test_set) = 1.3518133424026144\n",
      "test(test_set) = 1.3514169892356105\n",
      "test(test_set) = 1.351044736056321\n",
      "test(test_set) = 1.35073032957446\n",
      "test(test_set) = 1.3502483937126517\n",
      "test(test_set) = 1.3496736309706256\n",
      "test(test_set) = 1.3493930087380448\n",
      "test(test_set) = 1.3488401994200947\n",
      "test(test_set) = 1.3486141287535078\n",
      "test(test_set) = 1.3484837139076136\n",
      "test(test_set) = 1.347769356029445\n",
      "test(test_set) = 1.3472245700481627\n",
      "test(test_set) = 1.3469218548627633\n",
      "test(test_set) = 1.3464355717519414\n",
      "test(test_set) = 1.345996897999488\n",
      "test(test_set) = 1.3452371929254707\n",
      "test(test_set) = 1.3448254871801504\n",
      "test(test_set) = 1.3441508722180238\n",
      "test(test_set) = 1.3438018299457761\n",
      "test(test_set) = 1.3434750248453717\n",
      "test(test_set) = 1.3431839620568833\n",
      "test(test_set) = 1.3427390376884696\n",
      "test(test_set) = 1.342473982323932\n",
      "test(test_set) = 1.3422275713336722\n",
      "test(test_set) = 1.3419343953816114\n",
      "test(test_set) = 1.3414068804517114\n",
      "test(test_set) = 1.3408212263738162\n",
      "test(test_set) = 1.340641975844346\n",
      "test(test_set) = 1.3407312855377043\n",
      "test(test_set) = 1.3404705996941804\n",
      "test(test_set) = 1.3399305488186315\n",
      "test(test_set) = 1.3392482314799303\n",
      "test(test_set) = 1.3389591729389956\n",
      "test(test_set) = 1.3385815455887036\n",
      "test(test_set) = 1.3378736389996502\n",
      "test(test_set) = 1.3377164896912312\n"
     ]
    },
    {
     "name": "stdout",
     "output_type": "stream",
     "text": [
      "test(test_set) = 1.3370948132255152\n",
      "test(test_set) = 1.3367610354310866\n",
      "test(test_set) = 1.3364290144091242\n",
      "test(test_set) = 1.3359348722511892\n",
      "test(test_set) = 1.3352142448300404\n",
      "test(test_set) = 1.3349673064802534\n",
      "test(test_set) = 1.3343061375589185\n",
      "test(test_set) = 1.33420559343431\n",
      "test(test_set) = 1.3337578687941758\n",
      "test(test_set) = 1.3333260607328918\n",
      "test(test_set) = 1.3324962905801492\n",
      "test(test_set) = 1.3320295335671788\n",
      "test(test_set) = 1.3313978900574575\n",
      "test(test_set) = 1.3306929407384034\n",
      "test(test_set) = 1.330043750487306\n",
      "test(test_set) = 1.329823293059929\n",
      "test(test_set) = 1.3295460339470695\n",
      "test(test_set) = 1.3291279111255476\n",
      "test(test_set) = 1.3286356136935777\n",
      "test(test_set) = 1.3281550495355297\n",
      "test(test_set) = 1.3273899613242652\n",
      "test(test_set) = 1.3272803751268767\n",
      "test(test_set) = 1.327356121295367\n",
      "test(test_set) = 1.3271008013376009\n",
      "test(test_set) = 1.3269223924329046\n",
      "test(test_set) = 1.3265435908568368\n",
      "test(test_set) = 1.3255944952027696\n",
      "test(test_set) = 1.3247760694674924\n",
      "test(test_set) = 1.3242544207960998\n",
      "test(test_set) = 1.323990668853412\n",
      "test(test_set) = 1.3235712929334837\n",
      "test(test_set) = 1.3228727674329834\n",
      "test(test_set) = 1.3220775577037125\n",
      "test(test_set) = 1.3215609911154707\n",
      "test(test_set) = 1.321420786220822\n",
      "test(test_set) = 1.321116910464066\n",
      "test(test_set) = 1.3207610130805283\n",
      "test(test_set) = 1.3203635748454148\n",
      "test(test_set) = 1.3196428059234617\n",
      "test(test_set) = 1.3192980004608785\n",
      "test(test_set) = 1.3194984969207337\n",
      "test(test_set) = 1.3194191095559107\n",
      "test(test_set) = 1.3186453638308722\n",
      "test(test_set) = 1.3180631963725222\n",
      "test(test_set) = 1.317641172767513\n",
      "test(test_set) = 1.316658611968967\n",
      "test(test_set) = 1.316564617532066\n",
      "test(test_set) = 1.3163143572885516\n",
      "test(test_set) = 1.3164464137757408\n",
      "test(test_set) = 1.3160780130950382\n",
      "test(test_set) = 1.3158660732675522\n",
      "test(test_set) = 1.3156391720577083\n",
      "test(test_set) = 1.315545364311563\n",
      "test(test_set) = 1.314906557829078\n",
      "test(test_set) = 1.314692832354334\n",
      "test(test_set) = 1.314255651198944\n",
      "test(test_set) = 1.3142634480292783\n",
      "test(test_set) = 1.3138466431694542\n",
      "test(test_set) = 1.3138444165826404\n",
      "test(test_set) = 1.3134395289617733\n",
      "test(test_set) = 1.3130418074163508\n",
      "test(test_set) = 1.3123574245949343\n",
      "test(test_set) = 1.3123964406336643\n",
      "test(test_set) = 1.3122894056708478\n",
      "test(test_set) = 1.3124055273817252\n",
      "test(test_set) = 1.312163026013045\n",
      "test(test_set) = 1.3118077026263515\n",
      "test(test_set) = 1.3111362563732647\n",
      "test(test_set) = 1.3104031224148824\n",
      "test(test_set) = 1.3099732836826932\n",
      "test(test_set) = 1.309233931008126\n",
      "test(test_set) = 1.3085337404659305\n",
      "test(test_set) = 1.3078100141702451\n",
      "test(test_set) = 1.3075375624379064\n",
      "test(test_set) = 1.3067280462919997\n",
      "test(test_set) = 1.3065259270251908\n",
      "test(test_set) = 1.3064650221713585\n",
      "test(test_set) = 1.3063573960058381\n",
      "test(test_set) = 1.3054772850053213\n",
      "test(test_set) = 1.3046727641075528\n",
      "test(test_set) = 1.3038851084308596\n",
      "test(test_set) = 1.3038761547046853\n",
      "test(test_set) = 1.303232610034635\n",
      "test(test_set) = 1.3028677714740782\n",
      "test(test_set) = 1.3022331159214133\n",
      "test(test_set) = 1.3018572301750975\n",
      "test(test_set) = 1.3013323504267482\n",
      "test(test_set) = 1.3013585607279738\n",
      "test(test_set) = 1.3005990128759106\n",
      "test(test_set) = 1.3003292942381002\n",
      "test(test_set) = 1.3001590032727917\n",
      "test(test_set) = 1.2997428593530764\n",
      "test(test_set) = 1.2990697341987454\n",
      "test(test_set) = 1.298639428847575\n",
      "test(test_set) = 1.2980930817911847\n",
      "test(test_set) = 1.2982914213754628\n",
      "test(test_set) = 1.2973541156461221\n",
      "test(test_set) = 1.2964118209717017\n",
      "test(test_set) = 1.2955861526502304\n",
      "test(test_set) = 1.295510775626496\n",
      "test(test_set) = 1.2952370107605289\n",
      "test(test_set) = 1.2949257503986173\n",
      "test(test_set) = 1.2939345892286296\n",
      "test(test_set) = 1.2935829640695904\n",
      "test(test_set) = 1.2930858265159368\n",
      "test(test_set) = 1.2927616341512904\n",
      "test(test_set) = 1.2924434789654997\n",
      "test(test_set) = 1.292501233946358\n",
      "test(test_set) = 1.2925386711094506\n",
      "test(test_set) = 1.2920622720293573\n",
      "test(test_set) = 1.2919275850597007\n",
      "test(test_set) = 1.2918339006781492\n",
      "test(test_set) = 1.2912777568006062\n",
      "test(test_set) = 1.2911256358358365\n",
      "test(test_set) = 1.2907024648640175\n",
      "test(test_set) = 1.289843784392581\n",
      "test(test_set) = 1.289788533609785\n",
      "test(test_set) = 1.2896397191966944\n",
      "test(test_set) = 1.289339912607462\n",
      "test(test_set) = 1.2884063597458104\n",
      "test(test_set) = 1.2879428450835337\n",
      "test(test_set) = 1.2874854044625148\n",
      "test(test_set) = 1.2874990405263476\n",
      "test(test_set) = 1.2876187554652165\n",
      "test(test_set) = 1.287147821905521\n",
      "test(test_set) = 1.2865150763389455\n",
      "test(test_set) = 1.2860088061233776\n",
      "test(test_set) = 1.2857584736067305\n",
      "test(test_set) = 1.2859845622856032\n",
      "test(test_set) = 1.2851326306589888\n",
      "test(test_set) = 1.2846822553376778\n",
      "test(test_set) = 1.2835138297328186\n",
      "test(test_set) = 1.2835238877981348\n",
      "test(test_set) = 1.2832299821377204\n",
      "test(test_set) = 1.2823513099623753\n",
      "test(test_set) = 1.2815958745877434\n",
      "test(test_set) = 1.2803850651118323\n",
      "test(test_set) = 1.2796426283536344\n",
      "test(test_set) = 1.2795925448685703\n",
      "test(test_set) = 1.2793746165750022\n",
      "test(test_set) = 1.2792933485784759\n",
      "test(test_set) = 1.2789200429433312\n",
      "test(test_set) = 1.2789493398610243\n",
      "test(test_set) = 1.2787112097883153\n",
      "test(test_set) = 1.278034545527241\n",
      "test(test_set) = 1.2778337174603291\n",
      "test(test_set) = 1.27740120384271\n",
      "test(test_set) = 1.2770944611206934\n",
      "test(test_set) = 1.276326615726153\n",
      "test(test_set) = 1.276601655330931\n",
      "test(test_set) = 1.2765705855307652\n",
      "test(test_set) = 1.2763689573482928\n",
      "test(test_set) = 1.2765562385319777\n",
      "test(test_set) = 1.2769549718475282\n",
      "test(test_set) = 1.27586909019394\n",
      "test(test_set) = 1.2750361619952546\n",
      "test(test_set) = 1.274994684243809\n",
      "test(test_set) = 1.274190671137877\n",
      "test(test_set) = 1.2744293514907659\n",
      "test(test_set) = 1.2740554978305036\n",
      "test(test_set) = 1.27412671711255\n",
      "test(test_set) = 1.2737873221930835\n",
      "test(test_set) = 1.2733254602355806\n",
      "test(test_set) = 1.2732993744836167\n",
      "test(test_set) = 1.2730362610469288\n",
      "test(test_set) = 1.2717688306302328\n",
      "test(test_set) = 1.271839898935191\n",
      "test(test_set) = 1.2704659442283683\n",
      "test(test_set) = 1.2705359426012692\n",
      "test(test_set) = 1.2707513755400763\n",
      "test(test_set) = 1.2705331999331952\n",
      "test(test_set) = 1.2699376876110675\n",
      "test(test_set) = 1.2689876523335866\n",
      "test(test_set) = 1.268293254921703\n",
      "test(test_set) = 1.2679474235014696\n",
      "test(test_set) = 1.2672401871103705\n",
      "test(test_set) = 1.2668672967074068\n",
      "test(test_set) = 1.2666192743413294\n",
      "test(test_set) = 1.2669438075612127\n",
      "test(test_set) = 1.2667322243733934\n",
      "test(test_set) = 1.266105965498062\n",
      "test(test_set) = 1.2655114923388449\n",
      "test(test_set) = 1.265256396525429\n",
      "test(test_set) = 1.2648103107343425\n",
      "test(test_set) = 1.2643259820201203\n",
      "test(test_set) = 1.263374463658391\n",
      "test(test_set) = 1.2639387688364438\n",
      "test(test_set) = 1.263365662081386\n",
      "test(test_set) = 1.262902101772654\n",
      "test(test_set) = 1.2628220431030146\n",
      "test(test_set) = 1.262227834957509\n",
      "test(test_set) = 1.2617286962374477\n",
      "test(test_set) = 1.2609472436889646\n",
      "test(test_set) = 1.2604498668739\n",
      "test(test_set) = 1.2597639218412504\n",
      "test(test_set) = 1.2597432029451623\n",
      "test(test_set) = 1.259611384799933\n",
      "test(test_set) = 1.2590744404548146\n",
      "test(test_set) = 1.2588495234855586\n",
      "test(test_set) = 1.2577728120829412\n",
      "test(test_set) = 1.2573706682541839\n",
      "test(test_set) = 1.2569455064712092\n",
      "test(test_set) = 1.2560089184765295\n",
      "test(test_set) = 1.25599884430103\n",
      "test(test_set) = 1.256177980244665\n",
      "test(test_set) = 1.2557599917292523\n",
      "test(test_set) = 1.2553255002034718\n",
      "test(test_set) = 1.255312802433648\n",
      "test(test_set) = 1.2548491963682158\n",
      "test(test_set) = 1.2546628304557559\n",
      "test(test_set) = 1.2541608164395863\n",
      "test(test_set) = 1.254458163858\n",
      "test(test_set) = 1.25378094628426\n",
      "test(test_set) = 1.2534493473674382\n",
      "test(test_set) = 1.253324712512129\n",
      "test(test_set) = 1.2524318887835615\n",
      "test(test_set) = 1.252246021928064\n",
      "test(test_set) = 1.2515029618013531\n",
      "test(test_set) = 1.2511676631939959\n",
      "test(test_set) = 1.251245339339702\n",
      "test(test_set) = 1.2510178334206319\n",
      "test(test_set) = 1.2505930067447792\n",
      "test(test_set) = 1.2502819104836158\n",
      "test(test_set) = 1.2498967927480447\n",
      "test(test_set) = 1.2498429119733356\n",
      "test(test_set) = 1.2501088067308008\n",
      "test(test_set) = 1.250179970155644\n",
      "test(test_set) = 1.249327591033256\n",
      "test(test_set) = 1.2493048989709865\n",
      "test(test_set) = 1.2495423531397438\n",
      "test(test_set) = 1.2493320502609153\n",
      "test(test_set) = 1.2494001382149924\n",
      "test(test_set) = 1.248287146196335\n",
      "test(test_set) = 1.2482202509627602\n",
      "test(test_set) = 1.2478913902867272\n",
      "test(test_set) = 1.247616029570878\n",
      "test(test_set) = 1.2468914204101802\n",
      "test(test_set) = 1.2468052081204544\n",
      "test(test_set) = 1.246073043247924\n",
      "test(test_set) = 1.245023822556036\n",
      "test(test_set) = 1.2445508792088944\n",
      "test(test_set) = 1.2445707857433665\n",
      "test(test_set) = 1.2442365461717126\n",
      "test(test_set) = 1.2435984595810303\n",
      "test(test_set) = 1.2438599185186177\n",
      "test(test_set) = 1.2435004599588615\n",
      "test(test_set) = 1.2426701070500754\n",
      "test(test_set) = 1.242544407254756\n",
      "test(test_set) = 1.2424142626343198\n",
      "test(test_set) = 1.2413760038423054\n",
      "test(test_set) = 1.2412296429482494\n",
      "test(test_set) = 1.2408662169365479\n",
      "test(test_set) = 1.2410791354330135\n",
      "test(test_set) = 1.2407328744825077\n",
      "test(test_set) = 1.2404609688814396\n",
      "test(test_set) = 1.2401879020852615\n",
      "test(test_set) = 1.2393613247713728\n",
      "test(test_set) = 1.2391764362886728\n",
      "test(test_set) = 1.2389462921339758\n",
      "test(test_set) = 1.2384336126361102\n",
      "test(test_set) = 1.2381159442928997\n",
      "test(test_set) = 1.2381846649174324\n",
      "test(test_set) = 1.2374243641153249\n",
      "test(test_set) = 1.237742393466848\n",
      "test(test_set) = 1.2371051215646736\n",
      "test(test_set) = 1.2366733961221776\n",
      "test(test_set) = 1.2361478915361301\n",
      "test(test_set) = 1.2360757033034078\n",
      "test(test_set) = 1.236206197798801\n",
      "test(test_set) = 1.2365889903334764\n",
      "test(test_set) = 1.236747445125744\n",
      "test(test_set) = 1.2366559549393081\n",
      "test(test_set) = 1.236766317363055\n",
      "test(test_set) = 1.2367170188018266\n",
      "test(test_set) = 1.236067019247059\n",
      "test(test_set) = 1.2356801458470823\n",
      "test(test_set) = 1.2353789097236847\n",
      "test(test_set) = 1.2349857951106833\n",
      "test(test_set) = 1.2340957446432692\n",
      "test(test_set) = 1.2338304565608562\n",
      "test(test_set) = 1.2331501490076833\n",
      "test(test_set) = 1.2331392284735685\n",
      "test(test_set) = 1.2329759846025514\n",
      "test(test_set) = 1.2332061150412845\n",
      "test(test_set) = 1.2332519954721846\n",
      "test(test_set) = 1.2322764557328632\n"
     ]
    },
    {
     "name": "stdout",
     "output_type": "stream",
     "text": [
      "test(test_set) = 1.2312773661193217\n",
      "test(test_set) = 1.2310821032624772\n",
      "test(test_set) = 1.2307550436945944\n",
      "test(test_set) = 1.230793974852346\n",
      "test(test_set) = 1.2309054065392497\n",
      "test(test_set) = 1.231333307452547\n",
      "test(test_set) = 1.2314311934275612\n",
      "test(test_set) = 1.230953715036926\n",
      "test(test_set) = 1.2306180999653542\n",
      "test(test_set) = 1.230319304807219\n",
      "test(test_set) = 1.2298018527498487\n",
      "test(test_set) = 1.2296275094427802\n",
      "test(test_set) = 1.228885753336056\n",
      "test(test_set) = 1.2287214184016544\n",
      "test(test_set) = 1.2291501874556043\n",
      "test(test_set) = 1.228441791267589\n",
      "test(test_set) = 1.227876502672785\n",
      "test(test_set) = 1.2274429699932825\n",
      "test(test_set) = 1.226911797801172\n",
      "test(test_set) = 1.2261363898705218\n",
      "test(test_set) = 1.2258222249602684\n",
      "test(test_set) = 1.2260941749466272\n",
      "test(test_set) = 1.226209614851063\n",
      "test(test_set) = 1.2264933726804337\n",
      "test(test_set) = 1.2263622856356062\n",
      "test(test_set) = 1.2258703582422474\n",
      "test(test_set) = 1.2261409480504493\n",
      "test(test_set) = 1.2256795306262602\n",
      "test(test_set) = 1.2251054963646468\n",
      "test(test_set) = 1.2244028131934164\n",
      "test(test_set) = 1.2238133197036096\n",
      "test(test_set) = 1.2234785739107819\n",
      "test(test_set) = 1.2233942677192995\n",
      "test(test_set) = 1.2232114811872985\n",
      "test(test_set) = 1.2223959813173455\n",
      "test(test_set) = 1.2222521512809714\n",
      "test(test_set) = 1.2219554131611416\n",
      "test(test_set) = 1.2211940732532065\n",
      "test(test_set) = 1.2205977245510433\n",
      "test(test_set) = 1.21989282085613\n"
     ]
    }
   ],
   "source": [
    "function test(set)\n",
    "  L = 0.0\n",
    "  for j = set\n",
    "    x.output .= inputs[j,:]\n",
    "    y.output .= targets[j,:]\n",
    "    L += forward!(graph)\n",
    "  end\n",
    "  return L / length(set) \n",
    "end\n",
    "\n",
    "function train(batch)\n",
    "  ∇wh = zeros(hidden_neurons, input_neurons)\n",
    "  ∇wo = zeros(output_neurons, hidden_neurons)\n",
    "  ∇bh = zeros(hidden_neurons)\n",
    "  ∇bo = zeros(output_neurons)\n",
    "  for j = batch\n",
    "    x.output .= inputs[j,:]\n",
    "    y.output .= targets[j,:]\n",
    "    forward!(graph)\n",
    "    backward!(graph)\n",
    "    ∇wh .+= wh.gradient\n",
    "    ∇wo .+= wo.gradient\n",
    "    ∇bh .+= bh.gradient\n",
    "    ∇bo .+= bo.gradient\n",
    "  end\n",
    "  wh.output .-= η / length(batch) * ∇wh\n",
    "  bh.output .-= η / length(batch) * ∇bh\n",
    "  wo.output .-= η / length(batch) * ∇wo\n",
    "  bo.output .-= η / length(batch) * ∇bo\n",
    "  forward!(graph)\n",
    "  return nothing\n",
    "end\n",
    "\n",
    "for i=1:epochs\n",
    "  shuffle!(train_set)\n",
    "  train(train_set[1:10])\n",
    "  @show test(test_set)\n",
    "end"
   ]
  },
  {
   "cell_type": "code",
   "execution_count": 28,
   "id": "3c1dd0b3",
   "metadata": {},
   "outputs": [],
   "source": [
    "x.output .= inputs[1,:]\n",
    "y.output .= targets[1,:]\n",
    "E = forward!(graph)\n",
    "backward!(graph)\n",
    "\n",
    "eye(n) = diagm(ones(n))\n",
    "Eŷ  = -y.output ./ graph[16].output #ŷ\n",
    "ŷȳ  = diagm(graph[16].output) .- graph[16].output * graph[16].output' #ŷ\n",
    "ȳWo = graph[10].output |> transpose #x̂\n",
    "ȳbo = eye(output_neurons)\n",
    "x̄Wh = graph[6].output |> transpose #x\n",
    "x̄bh = eye(hidden_neurons)\n",
    "ȳx̂  = graph[4].output |> transpose #Wo\n",
    "x̂x̄  = graph[10].output .* (1.0 .- graph[10].output) |> diagm #x̂\n",
    "Eȳ  = ŷȳ * Eŷ\n",
    "Ex̂  = ȳx̂ * Eȳ\n",
    "Ex̄  = x̂x̄ * Ex̂\n",
    "EWo = Eȳ * ȳWo\n",
    "EWh = Ex̄ * x̄Wh\n",
    "nothing"
   ]
  },
  {
   "cell_type": "code",
   "execution_count": 29,
   "id": "ee58ffb9",
   "metadata": {},
   "outputs": [
    {
     "data": {
      "text/plain": [
       "8×4 Matrix{Float64}:\n",
       "  0.267968      0.1839        0.07356       0.0105086\n",
       " -0.286329     -0.196501     -0.0786002    -0.0112286\n",
       "  0.48355       0.331848      0.132739      0.0189628\n",
       " -1.39633e-5   -9.58265e-6   -3.83306e-6   -5.4758e-7\n",
       "  0.9743        0.668637      0.267455      0.0382078\n",
       "  0.0901639     0.0618772     0.0247509     0.00353584\n",
       "  0.000589914   0.000404843   0.000161937   2.31339e-5\n",
       "  2.5539e-7     1.75268e-7    7.01071e-8    1.00153e-8"
      ]
     },
     "execution_count": 29,
     "metadata": {},
     "output_type": "execute_result"
    }
   ],
   "source": [
    "EWh"
   ]
  },
  {
   "cell_type": "code",
   "execution_count": 30,
   "id": "efac2816",
   "metadata": {},
   "outputs": [
    {
     "data": {
      "text/plain": [
       "8×4 Matrix{Float64}:\n",
       "  0.267968      0.1839        0.07356       0.0105086\n",
       " -0.286329     -0.196501     -0.0786002    -0.0112286\n",
       "  0.48355       0.331848      0.132739      0.0189628\n",
       " -1.39633e-5   -9.58265e-6   -3.83306e-6   -5.4758e-7\n",
       "  0.9743        0.668637      0.267455      0.0382078\n",
       "  0.0901639     0.0618772     0.0247509     0.00353584\n",
       "  0.000589914   0.000404843   0.000161937   2.31339e-5\n",
       "  2.5539e-7     1.75268e-7    7.01071e-8    1.00153e-8"
      ]
     },
     "execution_count": 30,
     "metadata": {},
     "output_type": "execute_result"
    }
   ],
   "source": [
    "wh.gradient"
   ]
  },
  {
   "cell_type": "code",
   "execution_count": 27,
   "id": "burning-sweden",
   "metadata": {},
   "outputs": [
    {
     "data": {
      "text/plain": [
       "13-element Vector{Any}:\n",
       " const 1.0\n",
       " var x\n",
       " ┣━ ^ 1-element Vector{Float64}\n",
       " ┗━ ∇ Nothing\n",
       " op.?(typeof(*))\n",
       " op.?(typeof(-))\n",
       " const 100.0\n",
       " var y\n",
       " ┣━ ^ 1-element Vector{Float64}\n",
       " ┗━ ∇ Nothing\n",
       " op.?(typeof(*))\n",
       " op.?(typeof(-))\n",
       " op.?(typeof(*))\n",
       " op.?(typeof(*))\n",
       " op.?(typeof(-))\n",
       " op.?(typeof(*))\n",
       " op.?(typeof(+))"
      ]
     },
     "execution_count": 27,
     "metadata": {},
     "output_type": "execute_result"
    }
   ],
   "source": [
    "x = Variable([0.], name=\"x\")\n",
    "y = Variable([0.], name=\"y\")\n",
    "graph = topological_sort(rosenbrock(x, y))"
   ]
  },
  {
   "cell_type": "code",
   "execution_count": 28,
   "id": "connected-pollution",
   "metadata": {},
   "outputs": [],
   "source": [
    "v  = -1:.1:+1\n",
    "n  = length(v)\n",
    "z  = zeros(n, n)\n",
    "dz = zeros(n, n, 2)\n",
    "for i=1:n, j=1:n\n",
    "    x.output .= v[i]\n",
    "    y.output .= v[j]\n",
    "    z[i,j] = first(forward!(graph)); backward!(graph)\n",
    "    dz[i,j,1] = first(x.gradient)\n",
    "    dz[i,j,2] = first(y.gradient)\n",
    "end\n"
   ]
  },
  {
   "cell_type": "code",
   "execution_count": 29,
   "id": "neither-snapshot",
   "metadata": {},
   "outputs": [
    {
     "data": {
      "image/png": "[encoded data removed]",
      "text/plain": [
       "Figure(PyObject <Figure size 640x480 with 1 Axes>)"
      ]
     },
     "metadata": {},
     "output_type": "display_data"
    },
    {
     "data": {
      "text/plain": [
       "PyObject <matplotlib.quiver.Quiver object at 0x1176de8b0>"
      ]
     },
     "execution_count": 29,
     "metadata": {},
     "output_type": "execute_result"
    }
   ],
   "source": [
    "using PyPlot\n",
    "xv = repeat(v, 1, n)\n",
    "yv = repeat(v',n, 1)\n",
    "contourf(xv, yv, z)\n",
    "quiver(xv, yv, dz[:,:,1], dz[:,:,2])"
   ]
  },
  {
   "cell_type": "code",
   "execution_count": null,
   "id": "increasing-fusion",
   "metadata": {},
   "outputs": [],
   "source": []
  }
 ],
 "metadata": {
  "kernelspec": {
   "display_name": "Julia 1.7.1",
   "language": "julia",
   "name": "julia-1.7"
  },
  "language_info": {
   "file_extension": ".jl",
   "mimetype": "application/julia",
   "name": "julia",
   "version": "1.7.1"
  }
 },
 "nbformat": 4,
 "nbformat_minor": 5
}
