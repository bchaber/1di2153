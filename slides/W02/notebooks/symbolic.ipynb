{
 "cells": [
  {
   "cell_type": "markdown",
   "metadata": {},
   "source": [
    "Proste funkcje można w miarę bezproblemowo zróżniczkować symbolicznie"
   ]
  },
  {
   "cell_type": "code",
   "execution_count": 3,
   "metadata": {},
   "outputs": [
    {
     "data": {
      "text/plain": [
       "f (generic function with 1 method)"
      ]
     },
     "execution_count": 3,
     "metadata": {},
     "output_type": "execute_result"
    }
   ],
   "source": [
    "function f(x::Number, y::Number)\n",
    "    x^2 + y^2\n",
    "end"
   ]
  },
  {
   "cell_type": "code",
   "execution_count": 5,
   "metadata": {},
   "outputs": [
    {
     "name": "stderr",
     "output_type": "stream",
     "text": [
      "\u001b[32m\u001b[1m   Resolving\u001b[22m\u001b[39m package versions...\n",
      "\u001b[32m\u001b[1m  No Changes\u001b[22m\u001b[39m to `~/.julia/environments/v1.7/Project.toml`\n",
      "\u001b[32m\u001b[1m  No Changes\u001b[22m\u001b[39m to `~/.julia/environments/v1.7/Manifest.toml`\n"
     ]
    }
   ],
   "source": [
    "import Pkg\n",
    "Pkg.add(\"SymEngine\")\n",
    "using SymEngine"
   ]
  },
  {
   "cell_type": "code",
   "execution_count": 11,
   "metadata": {},
   "outputs": [
    {
     "data": {
      "text/plain": [
       "(x, y)"
      ]
     },
     "execution_count": 11,
     "metadata": {},
     "output_type": "execute_result"
    }
   ],
   "source": [
    "x, y = symbols(\"x y\")"
   ]
  },
  {
   "cell_type": "code",
   "execution_count": 14,
   "metadata": {},
   "outputs": [
    {
     "data": {
      "text/plain": [
       "1×2 Matrix{Basic}:\n",
       " 2*x  2*y"
      ]
     },
     "execution_count": 14,
     "metadata": {},
     "output_type": "execute_result"
    }
   ],
   "source": [
    "∂f∂x = diff(f(x, y), x);\n",
    "∂f∂y = diff(f(x, y), y);\n",
    "∇f = Jf = [∂f∂x ∂f∂y]"
   ]
  },
  {
   "cell_type": "markdown",
   "metadata": {},
   "source": [
    "W efekcie otrzymujemy funkcje, które możemy zewaluować podstawiająć konkretne wartości za symbole"
   ]
  },
  {
   "cell_type": "code",
   "execution_count": 15,
   "metadata": {},
   "outputs": [
    {
     "data": {
      "text/plain": [
       "1×2 Matrix{Basic}:\n",
       " 6  -4"
      ]
     },
     "execution_count": 15,
     "metadata": {},
     "output_type": "execute_result"
    }
   ],
   "source": [
    "subs.(∇f, x => 3, y => -2)"
   ]
  },
  {
   "cell_type": "code",
   "execution_count": 16,
   "metadata": {},
   "outputs": [
    {
     "data": {
      "text/plain": [
       "2×2 Matrix{Basic}:\n",
       " 2  0\n",
       " 0  2"
      ]
     },
     "execution_count": 16,
     "metadata": {},
     "output_type": "execute_result"
    }
   ],
   "source": [
    "∂²f∂x² = diff(∂f∂x, x)\n",
    "∂²f∂xy = diff(∂f∂x, y)\n",
    "∂²f∂yx = diff(∂f∂y, x)\n",
    "∂²f∂y² = diff(∂f∂y, y)\n",
    "Hf = [∂²f∂x² ∂²f∂xy;\n",
    "      ∂²f∂yx ∂²f∂y²]"
   ]
  },
  {
   "cell_type": "markdown",
   "metadata": {},
   "source": [
    "Natomiast w ten sposób nie zróżniczkujemy dowolnego kodu:"
   ]
  },
  {
   "cell_type": "code",
   "execution_count": 17,
   "metadata": {},
   "outputs": [
    {
     "ename": "LoadError",
     "evalue": "MethodError: no method matching (::Colon)(::Int64, ::Basic)\n\u001b[0mClosest candidates are:\n\u001b[0m  (::Colon)(::T, ::Any, \u001b[91m::T\u001b[39m) where T<:Real at /Applications/Julia-1.7.app/Contents/Resources/julia/share/julia/base/range.jl:41\n\u001b[0m  (::Colon)(::A, ::Any, \u001b[91m::C\u001b[39m) where {A<:Real, C<:Real} at /Applications/Julia-1.7.app/Contents/Resources/julia/share/julia/base/range.jl:10\n\u001b[0m  (::Colon)(::T, ::Any, \u001b[91m::T\u001b[39m) where T at /Applications/Julia-1.7.app/Contents/Resources/julia/share/julia/base/range.jl:40\n\u001b[0m  ...",
     "output_type": "error",
     "traceback": [
      "MethodError: no method matching (::Colon)(::Int64, ::Basic)\n\u001b[0mClosest candidates are:\n\u001b[0m  (::Colon)(::T, ::Any, \u001b[91m::T\u001b[39m) where T<:Real at /Applications/Julia-1.7.app/Contents/Resources/julia/share/julia/base/range.jl:41\n\u001b[0m  (::Colon)(::A, ::Any, \u001b[91m::C\u001b[39m) where {A<:Real, C<:Real} at /Applications/Julia-1.7.app/Contents/Resources/julia/share/julia/base/range.jl:10\n\u001b[0m  (::Colon)(::T, ::Any, \u001b[91m::T\u001b[39m) where T at /Applications/Julia-1.7.app/Contents/Resources/julia/share/julia/base/range.jl:40\n\u001b[0m  ...",
      "",
      "Stacktrace:",
      " [1] g(x::Basic, y::Basic)",
      "   @ Main ./In[17]:3",
      " [2] top-level scope",
      "   @ In[17]:8",
      " [3] eval",
      "   @ ./boot.jl:373 [inlined]",
      " [4] include_string(mapexpr::typeof(REPL.softscope), mod::Module, code::String, filename::String)",
      "   @ Base ./loading.jl:1196"
     ]
    }
   ],
   "source": [
    "function g(x, y)\n",
    "    r = 1.0\n",
    "    for i=1:y\n",
    "        r *= x\n",
    "    end\n",
    "    return r\n",
    "end\n",
    "dgdx = diff(g(x, y), x)"
   ]
  },
  {
   "cell_type": "code",
   "execution_count": 22,
   "metadata": {},
   "outputs": [
    {
     "data": {
      "text/plain": [
       "8.0"
      ]
     },
     "execution_count": 22,
     "metadata": {},
     "output_type": "execute_result"
    }
   ],
   "source": [
    "2.0^3"
   ]
  },
  {
   "cell_type": "markdown",
   "metadata": {},
   "source": [
    "A jeśli już coś zróżniczkujemy to może się okazać, że wynikowa \"formuła\" jest skomplikowana:"
   ]
  },
  {
   "cell_type": "code",
   "execution_count": 23,
   "metadata": {},
   "outputs": [
    {
     "data": {
      "text/plain": [
       "Babylonian (generic function with 1 method)"
      ]
     },
     "execution_count": 23,
     "metadata": {},
     "output_type": "execute_result"
    }
   ],
   "source": [
    "function Babylonian(x; N = 10)\n",
    "    t = (1+x)/2\n",
    "    for i = 2:N; t=(t + x/t)/2  end\n",
    "    t\n",
    "end"
   ]
  },
  {
   "cell_type": "code",
   "execution_count": 24,
   "metadata": {},
   "outputs": [
    {
     "data": {
      "text/plain": [
       "1/8 + (-1/2)*x/(1 + 2*x + x^2) + (-1/2)*x/(1/4 + (1/2)*x + 2*x/(1 + x) + 4*x^2/(1 + x)^2 + 2*x^2/(1 + x) + (1/4)*x^2) - 2*x/((1 + x)*(1/4 + (1/2)*x + 2*x/(1 + x) + 4*x^2/(1 + x)^2 + 2*x^2/(1 + x) + (1/4)*x^2)) + 2*x^2/((1 + 2*x + x^2)*(1/4 + (1/2)*x + 2*x/(1 + x) + 4*x^2/(1 + x)^2 + 2*x^2/(1 + x) + (1/4)*x^2)) + (1/2)*(1 + x)^(-1) + (1/2 + (1/2)*x + 2*x/(1 + x))^(-1)"
      ]
     },
     "metadata": {},
     "output_type": "display_data"
    }
   ],
   "source": [
    "diff( Babylonian(x; N=3), x ) |> expand |> display"
   ]
  },
  {
   "cell_type": "markdown",
   "metadata": {},
   "source": [
    "Konkluzja: czasami można sobie pozwolić na symboliczne różniczkowanie, jednak bardzo częstu nie jesteśmy zainteresowani **wyrażeniem** matematycznym na (przykładowo) gradient, a bardziej interesuje nas **wartość** tego gradientu."
   ]
  },
  {
   "cell_type": "code",
   "execution_count": 25,
   "metadata": {},
   "outputs": [
    {
     "data": {
      "text/plain": [
       "159131117/954408050"
      ]
     },
     "execution_count": 25,
     "metadata": {},
     "output_type": "execute_result"
    }
   ],
   "source": [
    "subs(diff( Babylonian(x; N=4), x ), x=>9)"
   ]
  },
  {
   "cell_type": "code",
   "execution_count": 26,
   "metadata": {},
   "outputs": [
    {
     "data": {
      "text/plain": [
       "0.16666666666666666"
      ]
     },
     "execution_count": 26,
     "metadata": {},
     "output_type": "execute_result"
    }
   ],
   "source": [
    ".5/sqrt(9)"
   ]
  },
  {
   "cell_type": "code",
   "execution_count": 28,
   "metadata": {},
   "outputs": [
    {
     "data": {
      "text/plain": [
       "0.1666666666666666666666666666666666666666666666666666666666666666666666666666652"
      ]
     },
     "execution_count": 28,
     "metadata": {},
     "output_type": "execute_result"
    }
   ],
   "source": [
    "1196926150789296566693143581061850072609040839619092001190012793612024264402514477525822274500848646803285850404514741462745168857425589670188450088386973448912254717307444299694451768532950078029483616236446946973214526616393324302290299790313932239651172068593937223810650958945965400318798237004590014288816296255722965401774305633028102539947312592624615245558015196948459860368812580962610361484524164635794019377811927952648127261157243631608050039832057121314022592048303910893532089231145625590726442851230576254460942420236147577116520850262965689572221723961399396340899564448510977497061599107921032259053/7181556904735779400158861486371100435654245037714552007140076761672145586415086865154933647005091880819715102427088448776471013144553538021130700530321840693473528303844665798166710611197700468176901697418681681839287159698359945813741798741883593437907032411563623342863905753675792401912789422027540085671456621058376862053142025277423725455140573475452857943006876777114569075799435197307742586270969343263045194657493126809395727025482847257648445055989853107215908866191353164260567258338764252273504972594774819199415487978592905083392821987846173969159311358680901557370094219272887270129752253544846921768050"
   ]
  },
  {
   "cell_type": "code",
   "execution_count": null,
   "metadata": {},
   "outputs": [],
   "source": []
  }
 ],
 "metadata": {
  "kernelspec": {
   "display_name": "Julia 1.7.1",
   "language": "julia",
   "name": "julia-1.7"
  },
  "language_info": {
   "file_extension": ".jl",
   "mimetype": "application/julia",
   "name": "julia",
   "version": "1.7.1"
  }
 },
 "nbformat": 4,
 "nbformat_minor": 4
}
