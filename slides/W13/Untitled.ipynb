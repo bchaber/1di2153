{
 "cells": [
  {
   "cell_type": "code",
   "execution_count": 1,
   "id": "828209f9",
   "metadata": {},
   "outputs": [],
   "source": [
    "using LinearAlgebra\n",
    "# examples from https://www.math.uci.edu/~ttrogdon/105A/html/Lecture23.html"
   ]
  },
  {
   "cell_type": "code",
   "execution_count": 2,
   "id": "7c7132bf",
   "metadata": {},
   "outputs": [
    {
     "data": {
      "text/plain": [
       "cgs (generic function with 1 method)"
      ]
     },
     "execution_count": 2,
     "metadata": {},
     "output_type": "execute_result"
    }
   ],
   "source": [
    "function cgs(A :: Matrix{Float64})\n",
    "  n, _ = size(A)\n",
    "  Q = zeros(n, n)\n",
    "\n",
    "  for i = 1:n\n",
    "    vi = @view A[:,i]\n",
    "    ui = copy(vi)\n",
    "        \n",
    "    for j = 1:i-1\n",
    "      uj = @view Q[:,j]\n",
    "      ui .-= (uj ⋅ vi) * uj\n",
    "    end\n",
    "\n",
    "    normalize!(ui)\n",
    "    Q[:,i] .= ui\n",
    "  end\n",
    "  R = Q' * A\n",
    "  return Q, R\n",
    "end"
   ]
  },
  {
   "cell_type": "code",
   "execution_count": 3,
   "id": "1e07f0c7",
   "metadata": {},
   "outputs": [
    {
     "data": {
      "text/plain": [
       "mgs (generic function with 1 method)"
      ]
     },
     "execution_count": 3,
     "metadata": {},
     "output_type": "execute_result"
    }
   ],
   "source": [
    "function mgs(A :: Matrix{Float64})\n",
    "  n, _ = size(A)\n",
    "  Q = zeros(n, n)\n",
    "\n",
    "  for i = 1:n\n",
    "    vi = @view A[:,i]\n",
    "    ui = copy(vi)\n",
    "        \n",
    "    for j = 1:i-1\n",
    "      uj = @view Q[:,j]\n",
    "      ui .-= (uj ⋅ ui) * uj\n",
    "    end\n",
    "\n",
    "    normalize!(ui)\n",
    "    Q[:,i] .= ui\n",
    "  end\n",
    "  R = Q' * A\n",
    "  return Q, R\n",
    "end"
   ]
  },
  {
   "cell_type": "code",
   "execution_count": 4,
   "id": "99511b82",
   "metadata": {},
   "outputs": [
    {
     "name": "stdout",
     "output_type": "stream",
     "text": [
      "norm(I - Q' * Q) = 179.8030660935869\n",
      "norm(I - Q' * Q) = 4.662298863101829e-10\n",
      "norm(I - Q' * Q) = 6.165972518353212e-12\n",
      "norm(I - Q' * Q) = 8.51811696192949e-14\n"
     ]
    }
   ],
   "source": [
    "n = 200\n",
    "A = [(i == j ? 1.0001 : 1)/(i+j-1) for i=1:n, j=1:n];\n",
    "\n",
    "Q, _ = cgs(A); @show norm(I - Q' * Q);\n",
    "Q, _ = mgs(A); @show norm(I - Q' * Q);\n",
    "\n",
    "A = rand(n, n)\n",
    "\n",
    "Q, _ = cgs(A); @show norm(I - Q' * Q);\n",
    "Q, _ = mgs(A); @show norm(I - Q' * Q);"
   ]
  },
  {
   "cell_type": "code",
   "execution_count": 5,
   "id": "5402df60",
   "metadata": {},
   "outputs": [
    {
     "name": "stdout",
     "output_type": "stream",
     "text": [
      "norm(A \\ b - x) = 0.826554255780483\n"
     ]
    }
   ],
   "source": [
    "A = rand(5, 10)\n",
    "x = ones(10)\n",
    "b = A * x\n",
    "Q, R = cgs(A)\n",
    "\n",
    "@show norm(A \\ b - x);"
   ]
  },
  {
   "cell_type": "code",
   "execution_count": 6,
   "id": "ee91e5f1",
   "metadata": {},
   "outputs": [
    {
     "name": "stdout",
     "output_type": "stream",
     "text": [
      "norm(R \\ (Q' * b) - x) = 0.8265542557804835\n"
     ]
    }
   ],
   "source": [
    "@show norm(R \\ (Q' * b) - x);"
   ]
  },
  {
   "cell_type": "code",
   "execution_count": 8,
   "id": "ccbdffa7",
   "metadata": {},
   "outputs": [
    {
     "data": {
      "text/plain": [
       "householder_hessenberg (generic function with 1 method)"
      ]
     },
     "execution_count": 8,
     "metadata": {},
     "output_type": "execute_result"
    }
   ],
   "source": [
    "function householder_hessenberg(A :: Matrix{Float64})\n",
    "  H = copy(A)\n",
    "  N = size(A, 1)\n",
    "  for i=1:N-2\n",
    "    α = H[i+1:N, i] # FIXME\n",
    "    σ = norm(α)\n",
    "    β = 1.0  / (σ * (σ + abs(α[1])))\n",
    "    expjϕ = α[1] < 0.0 ? -1.0 : 1.0 \n",
    "    u = copy(α)\n",
    "    u[1] = expjϕ * (σ + abs(α[1]))\n",
    "    T = diagm(ones(N))\n",
    "    T[i+1:N, i+1:N] .= diagm(ones(length(α))) - β * u * u'\n",
    "    H .= T * H * T\n",
    "  end\n",
    "  return H\n",
    "end"
   ]
  },
  {
   "cell_type": "code",
   "execution_count": 9,
   "id": "d3d6520a",
   "metadata": {},
   "outputs": [
    {
     "data": {
      "text/plain": [
       "givensrot (generic function with 1 method)"
      ]
     },
     "execution_count": 9,
     "metadata": {},
     "output_type": "execute_result"
    }
   ],
   "source": [
    "using LinearAlgebra\n",
    "function givensrot(A, i, j)\n",
    "  q = sqrt(A[j,j]^2 + A[i,j]^2);\n",
    "  c = A[j,j] / q;\n",
    "  s = A[i,j] / q;\n",
    "  N = size(A, 1);\n",
    "  G = diagm(ones(N));\n",
    "  G[i,i] = c; G[j,j] = c;\n",
    "  G[j,i] = s; G[i,j] =-s;\n",
    "  return G\n",
    "end"
   ]
  },
  {
   "cell_type": "code",
   "execution_count": 12,
   "id": "a0860ea2",
   "metadata": {},
   "outputs": [
    {
     "data": {
      "text/plain": [
       "francis (generic function with 1 method)"
      ]
     },
     "execution_count": 12,
     "metadata": {},
     "output_type": "execute_result"
    }
   ],
   "source": [
    "function francis(A :: Matrix{Float64}, maxiter)\n",
    "  H = householder_hessenberg(A)\n",
    "  N = size(H, 1)\n",
    "  G = [[0. 0.; 0. 0.] for j=1:N-1]\n",
    "  λs = zeros(N)\n",
    "  for k = 1:maxiter\n",
    "    for j = 1:N-1\n",
    "      q = sqrt(H[j,j]^2 + H[j+1,j]^2);\n",
    "      c = H[j,  j] / q;\n",
    "      s = H[j+1,j] / q;\n",
    "      G[j] = [c -s; +s c]\n",
    "      H[j:j+1, j:N] = G[j]' * H[j:j+1, j:N] # => 2 x (N-j)\n",
    "    end\n",
    "    for j = 1:N-1\n",
    "      H[1:j+1, j:j+1] = H[1:j+1, j:j+1] * G[j] # (j) x 2\n",
    "    end\n",
    "    λs .= diag(H)\n",
    "  end\n",
    "  display(dropalmostzeros(H, 1e-15))  \n",
    "  return λs\n",
    "end"
   ]
  },
  {
   "cell_type": "code",
   "execution_count": 13,
   "id": "5a1cdac7",
   "metadata": {},
   "outputs": [
    {
     "data": {
      "text/plain": [
       "dropalmostzeros (generic function with 1 method)"
      ]
     },
     "execution_count": 13,
     "metadata": {},
     "output_type": "execute_result"
    }
   ],
   "source": [
    "using SparseArrays\n",
    "dropalmostzeros(A, ϵ) = sparse([abs(aij) > ϵ ? aij : 0.0 for aij in A])"
   ]
  },
  {
   "cell_type": "code",
   "execution_count": 14,
   "id": "8ea24481",
   "metadata": {},
   "outputs": [
    {
     "data": {
      "text/plain": [
       "5×5 SparseMatrixCSC{Float64, Int64} with 16 stored entries:\n",
       " 2.11111  -0.296804  -0.270293   -0.395172  -0.247274\n",
       "  ⋅       -0.743927  -0.237609    0.111608  -0.130035\n",
       "  ⋅         ⋅        -0.0576799  -0.214469  -0.123551\n",
       "  ⋅         ⋅         0.271744   -0.201957   0.0882204\n",
       "  ⋅         ⋅          ⋅           ⋅         0.0493063"
      ]
     },
     "metadata": {},
     "output_type": "display_data"
    },
    {
     "data": {
      "text/plain": [
       "5-element Vector{Float64}:\n",
       "  2.1111065790557526\n",
       " -0.7439269829618946\n",
       " -0.057679880666073456\n",
       " -0.20195663078463086\n",
       "  0.0493062881877976"
      ]
     },
     "execution_count": 14,
     "metadata": {},
     "output_type": "execute_result"
    }
   ],
   "source": [
    "A = rand(5,5)\n",
    "λ = francis(A, 1000)"
   ]
  },
  {
   "cell_type": "code",
   "execution_count": 15,
   "id": "38836a6d",
   "metadata": {},
   "outputs": [
    {
     "data": {
      "text/plain": [
       "5-element Vector{ComplexF64}:\n",
       "  -0.7439269829618954 + 0.0im\n",
       " -0.12981825572535174 - 0.2303839708102201im\n",
       " -0.12981825572535174 + 0.2303839708102201im\n",
       "  0.04930628818779772 + 0.0im\n",
       "    2.111106579055753 + 0.0im"
      ]
     },
     "execution_count": 15,
     "metadata": {},
     "output_type": "execute_result"
    }
   ],
   "source": [
    "eigvals(A)"
   ]
  },
  {
   "cell_type": "code",
   "execution_count": 16,
   "id": "0e5e01bd",
   "metadata": {},
   "outputs": [
    {
     "data": {
      "text/plain": [
       "2-element Vector{ComplexF64}:\n",
       " -0.12981844999999997 - 0.23038379617476895im\n",
       " -0.12981844999999997 + 0.23038379617476895im"
      ]
     },
     "execution_count": 16,
     "metadata": {},
     "output_type": "execute_result"
    }
   ],
   "source": [
    "eigvals([-0.0576799  -0.214469; 0.271744   -0.201957])"
   ]
  },
  {
   "cell_type": "code",
   "execution_count": null,
   "id": "947caf12",
   "metadata": {},
   "outputs": [],
   "source": []
  }
 ],
 "metadata": {
  "kernelspec": {
   "display_name": "Julia 1.9",
   "language": "julia",
   "name": "julia-1.1"
  },
  "language_info": {
   "file_extension": ".jl",
   "mimetype": "application/julia",
   "name": "julia",
   "version": "1.9.0"
  }
 },
 "nbformat": 4,
 "nbformat_minor": 5
}
