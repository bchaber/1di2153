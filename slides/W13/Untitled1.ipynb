{
 "cells": [
  {
   "cell_type": "code",
   "execution_count": 1,
   "id": "099474dd",
   "metadata": {},
   "outputs": [
    {
     "data": {
      "text/plain": [
       "givensrot (generic function with 1 method)"
      ]
     },
     "execution_count": 1,
     "metadata": {},
     "output_type": "execute_result"
    }
   ],
   "source": [
    "using LinearAlgebra\n",
    "function givensrot(A, i, j)\n",
    "  q = sqrt(A[j,j]^2 + A[i,j]^2);\n",
    "  c = A[j,j] / q;\n",
    "  s = A[i,j] / q;\n",
    "  N = size(A, 1);\n",
    "  G = diagm(ones(N));\n",
    "  G[i,i] = c; G[j,j] = c;\n",
    "  G[j,i] = s; G[i,j] =-s;\n",
    "  return G\n",
    "end"
   ]
  },
  {
   "cell_type": "code",
   "execution_count": 2,
   "id": "b5029044",
   "metadata": {},
   "outputs": [
    {
     "data": {
      "text/plain": [
       "3×3 Matrix{Float64}:\n",
       " 0.300087  0.141856  0.63877\n",
       " 0.557163  0.82042   0.889409\n",
       " 0.362941  0.253819  0.693175"
      ]
     },
     "execution_count": 2,
     "metadata": {},
     "output_type": "execute_result"
    }
   ],
   "source": [
    "A = rand(3,3)"
   ]
  },
  {
   "cell_type": "code",
   "execution_count": 3,
   "id": "e53e16f7",
   "metadata": {},
   "outputs": [
    {
     "data": {
      "text/plain": [
       "3×3 Matrix{Float64}:\n",
       " 0.632837  0.789583   1.08595\n",
       " 0.0       0.264144  -0.140636\n",
       " 0.362941  0.253819   0.693175"
      ]
     },
     "execution_count": 3,
     "metadata": {},
     "output_type": "execute_result"
    }
   ],
   "source": [
    "A1 = copy(A)\n",
    "G1 = givensrot(A1, 2, 1)\n",
    "A2 = G1 * A1"
   ]
  },
  {
   "cell_type": "code",
   "execution_count": 4,
   "id": "2487d1a6",
   "metadata": {},
   "outputs": [
    {
     "data": {
      "text/plain": [
       "3×3 Matrix{Float64}:\n",
       " 0.729527   0.811209   1.28688\n",
       " 0.0        0.264144  -0.140636\n",
       " 0.0       -0.172641   0.0610387"
      ]
     },
     "execution_count": 4,
     "metadata": {},
     "output_type": "execute_result"
    }
   ],
   "source": [
    "G2 = givensrot(A2, 3, 1)\n",
    "A3 = G2 * A2"
   ]
  },
  {
   "cell_type": "code",
   "execution_count": 5,
   "id": "ad9fed53",
   "metadata": {},
   "outputs": [
    {
     "data": {
      "text/plain": [
       "3×3 Matrix{Float64}:\n",
       " 0.729527  0.811209   1.28688\n",
       " 0.0       0.315558  -0.151116\n",
       " 0.0       0.0       -0.0258478"
      ]
     },
     "execution_count": 5,
     "metadata": {},
     "output_type": "execute_result"
    }
   ],
   "source": [
    "G3 = givensrot(A3, 3, 2)\n",
    "A4 = G3 * A3"
   ]
  },
  {
   "cell_type": "code",
   "execution_count": 8,
   "id": "07778298",
   "metadata": {},
   "outputs": [
    {
     "data": {
      "text/plain": [
       "3×3 Matrix{Float64}:\n",
       " 1.0           0.0           5.55112e-17\n",
       " 0.0           1.0          -5.55112e-17\n",
       " 5.55112e-17  -5.55112e-17   1.0"
      ]
     },
     "execution_count": 8,
     "metadata": {},
     "output_type": "execute_result"
    }
   ],
   "source": [
    "Q = (G1' * G2' * G3')\n",
    "Q' * Q"
   ]
  },
  {
   "cell_type": "code",
   "execution_count": 9,
   "id": "3c3b23f6",
   "metadata": {},
   "outputs": [
    {
     "data": {
      "text/plain": [
       "3×3 Matrix{Float64}:\n",
       " 0.729527  0.811209   1.28688\n",
       " 0.0       0.315558  -0.151116\n",
       " 0.0       0.0       -0.0258478"
      ]
     },
     "execution_count": 9,
     "metadata": {},
     "output_type": "execute_result"
    }
   ],
   "source": [
    "R = (G3 * (G2 * (G1 * A)))"
   ]
  },
  {
   "cell_type": "code",
   "execution_count": 10,
   "id": "7e8c9125",
   "metadata": {},
   "outputs": [
    {
     "data": {
      "text/plain": [
       "1.1443916996305594e-16"
      ]
     },
     "execution_count": 10,
     "metadata": {},
     "output_type": "execute_result"
    }
   ],
   "source": [
    "norm(Q * R - A)"
   ]
  },
  {
   "cell_type": "code",
   "execution_count": 16,
   "id": "30d19f0a",
   "metadata": {},
   "outputs": [
    {
     "data": {
      "text/plain": [
       "francis (generic function with 1 method)"
      ]
     },
     "execution_count": 16,
     "metadata": {},
     "output_type": "execute_result"
    }
   ],
   "source": [
    "using SparseArrays\n",
    "dropalmostzeros(A, ϵ) = sparse([abs(aij) > ϵ ? aij : 0.0 for aij in A])\n",
    "\n",
    "function householder_hessenberg(A :: Matrix{Float64})\n",
    "  H = copy(A)\n",
    "  N = size(A, 1)\n",
    "  for i=1:N-2\n",
    "    α = H[i+1:N, i] # FIXME\n",
    "    σ = norm(α)\n",
    "    β = 1.0  / (σ * (σ + abs(α[1])))\n",
    "    expjϕ = α[1] < 0.0 ? -1.0 : 1.0 \n",
    "    u = copy(α)\n",
    "    u[1] = expjϕ * (σ + abs(α[1]))\n",
    "    T = diagm(ones(N))\n",
    "    T[i+1:N, i+1:N] .= diagm(ones(length(α))) - β * u * u'\n",
    "    H .= T * H * T\n",
    "  end\n",
    "  return H\n",
    "end\n",
    "\n",
    "function francis(A :: Matrix{Float64}, maxiter)\n",
    "  H = householder_hessenberg(A)\n",
    "  N = size(H, 1)\n",
    "  G = [[0. 0.; 0. 0.] for j=1:N-1]\n",
    "  λs = zeros(N)\n",
    "  for k = 1:maxiter\n",
    "    for j = 1:N-1\n",
    "      q = sqrt(H[j,j]^2 + H[j+1,j]^2);\n",
    "      c = H[j,  j] / q;\n",
    "      s = H[j+1,j] / q;\n",
    "      G[j] = [c -s; +s c]\n",
    "      H[j:j+1, j:N] = G[j]' * H[j:j+1, j:N] # => 2 x (N-j)\n",
    "    end\n",
    "    for j = 1:N-1\n",
    "      H[1:j+1, j:j+1] = H[1:j+1, j:j+1] * G[j] # (j) x 2\n",
    "    end\n",
    "    λs .= diag(H)\n",
    "  end\n",
    "display(dropalmostzeros(H, 1e-15))\n",
    "  return λs\n",
    "end"
   ]
  },
  {
   "cell_type": "code",
   "execution_count": 22,
   "id": "1e9357b2",
   "metadata": {},
   "outputs": [
    {
     "data": {
      "text/plain": [
       "5×5 SparseMatrixCSC{Float64, Int64} with 17 stored entries:\n",
       " 2.32667  -0.480857  -0.0262013  -0.0754038    -0.314329\n",
       "  ⋅        0.521735   0.199474    0.0789113    -0.44059\n",
       "  ⋅         ⋅         0.468536   -0.454811      0.167329\n",
       "  ⋅         ⋅         0.468455   -0.00935293    0.320666\n",
       "  ⋅         ⋅          ⋅          1.53687e-15  -0.442669"
      ]
     },
     "metadata": {},
     "output_type": "display_data"
    },
    {
     "data": {
      "text/plain": [
       "5-element Vector{Float64}:\n",
       "  2.326671065695723\n",
       "  0.5217345454060954\n",
       "  0.4685361720453676\n",
       " -0.009352934513827845\n",
       " -0.44266948019927466"
      ]
     },
     "execution_count": 22,
     "metadata": {},
     "output_type": "execute_result"
    }
   ],
   "source": [
    "A = rand(5, 5)\n",
    "francis(A, 1000)"
   ]
  },
  {
   "cell_type": "code",
   "execution_count": 24,
   "id": "1b5e1219",
   "metadata": {},
   "outputs": [
    {
     "data": {
      "text/plain": [
       "5-element Vector{ComplexF64}:\n",
       " -0.44266948019927754 + 0.0im\n",
       "  0.22959161876577067 - 0.39492260618921127im\n",
       "  0.22959161876577067 + 0.39492260618921127im\n",
       "   0.5217345454060951 + 0.0im\n",
       "   2.3266710656957237 + 0.0im"
      ]
     },
     "execution_count": 24,
     "metadata": {},
     "output_type": "execute_result"
    }
   ],
   "source": [
    "eigvals(A)"
   ]
  },
  {
   "cell_type": "code",
   "execution_count": 25,
   "id": "ee279206",
   "metadata": {},
   "outputs": [
    {
     "data": {
      "text/plain": [
       "2-element Vector{ComplexF64}:\n",
       " 0.22959153499999996 - 0.39492281480165686im\n",
       " 0.22959153499999996 + 0.39492281480165686im"
      ]
     },
     "execution_count": 25,
     "metadata": {},
     "output_type": "execute_result"
    }
   ],
   "source": [
    "eigvals([0.468536   -0.454811; 0.468455   -0.00935293])"
   ]
  },
  {
   "cell_type": "code",
   "execution_count": 28,
   "id": "26e8dcbb",
   "metadata": {},
   "outputs": [
    {
     "data": {
      "text/plain": [
       "householder_qr (generic function with 1 method)"
      ]
     },
     "execution_count": 28,
     "metadata": {},
     "output_type": "execute_result"
    }
   ],
   "source": [
    "function householder_qr(A :: Matrix{Float64})\n",
    "  R = copy(A)\n",
    "  N = size(A, 1)\n",
    "  Q = diagm(ones(N))\n",
    "  for i=1:size(A, 2)\n",
    "    α = R[i:N, i]\n",
    "    σ = norm(α)\n",
    "    β = 1.0  / (σ * (σ + abs(α[1])))\n",
    "    expjϕ = α[1] < 0.0 ? -1.0 : 1.0 \n",
    "    u = copy(α)\n",
    "    u[1] = expjϕ * (σ + abs(α[1]))\n",
    "    T = diagm(ones(N))\n",
    "    T[i:N, i:N] .= diagm(ones(length(α))) - β * u * u'\n",
    "    R = T * R # te linie zostały zmienione\n",
    "    Q = Q * T # względem metody Householdera zdefiniowanej wcześniej\n",
    "  end\n",
    "  return Q, R\n",
    "end"
   ]
  },
  {
   "cell_type": "code",
   "execution_count": 39,
   "id": "ed91f301",
   "metadata": {},
   "outputs": [],
   "source": [
    "A = rand(10, 5)\n",
    "x = rand(5)\n",
    "b = A * x;"
   ]
  },
  {
   "cell_type": "code",
   "execution_count": 40,
   "id": "88c56f45",
   "metadata": {},
   "outputs": [
    {
     "data": {
      "text/plain": [
       "10×5 SparseMatrixCSC{Float64, Int64} with 15 stored entries:\n",
       " -1.86283  -1.93927  -1.43489   -1.31683    -1.75303\n",
       "   ⋅        1.07665   0.521982   0.497255    0.324312\n",
       "   ⋅         ⋅       -1.17397   -0.0965497  -0.131646\n",
       "   ⋅         ⋅         ⋅        -0.84823     0.337619\n",
       "   ⋅         ⋅         ⋅          ⋅         -0.610674\n",
       "   ⋅         ⋅         ⋅          ⋅           ⋅ \n",
       "   ⋅         ⋅         ⋅          ⋅           ⋅ \n",
       "   ⋅         ⋅         ⋅          ⋅           ⋅ \n",
       "   ⋅         ⋅         ⋅          ⋅           ⋅ \n",
       "   ⋅         ⋅         ⋅          ⋅           ⋅ "
      ]
     },
     "execution_count": 40,
     "metadata": {},
     "output_type": "execute_result"
    }
   ],
   "source": [
    "Q, R = householder_qr(A);\n",
    "dropalmostzeros(R, 1e-15)"
   ]
  },
  {
   "cell_type": "code",
   "execution_count": 42,
   "id": "972a4101",
   "metadata": {},
   "outputs": [],
   "source": [
    "R1 = R[1:5,  1:5];\n",
    "Q1 = Q[1:10, 1:5];"
   ]
  },
  {
   "cell_type": "code",
   "execution_count": 47,
   "id": "6c739f9c",
   "metadata": {},
   "outputs": [
    {
     "data": {
      "text/plain": [
       "5-element Vector{Float64}:\n",
       " 0.03261381011816847\n",
       " 0.7010814888617812\n",
       " 0.9460530006619281\n",
       " 0.021745873058307146\n",
       " 0.13179719391853362"
      ]
     },
     "execution_count": 47,
     "metadata": {},
     "output_type": "execute_result"
    }
   ],
   "source": [
    "x̂ = R1 \\ (Q1' * b)"
   ]
  },
  {
   "cell_type": "code",
   "execution_count": 48,
   "id": "7603a512",
   "metadata": {},
   "outputs": [
    {
     "data": {
      "text/plain": [
       "5-element Vector{Float64}:\n",
       " 0.032613810118168884\n",
       " 0.701081488861781\n",
       " 0.9460530006619281\n",
       " 0.021745873058306997\n",
       " 0.13179719391853362"
      ]
     },
     "execution_count": 48,
     "metadata": {},
     "output_type": "execute_result"
    }
   ],
   "source": [
    "x"
   ]
  },
  {
   "cell_type": "code",
   "execution_count": 49,
   "id": "e6a3b125",
   "metadata": {},
   "outputs": [
    {
     "data": {
      "text/plain": [
       "4.2998752849492583e-16"
      ]
     },
     "execution_count": 49,
     "metadata": {},
     "output_type": "execute_result"
    }
   ],
   "source": [
    "norm(b - A * x̂)"
   ]
  },
  {
   "cell_type": "code",
   "execution_count": null,
   "id": "943bda63",
   "metadata": {},
   "outputs": [],
   "source": []
  }
 ],
 "metadata": {
  "kernelspec": {
   "display_name": "Julia 1.9",
   "language": "julia",
   "name": "julia-1.1"
  },
  "language_info": {
   "file_extension": ".jl",
   "mimetype": "application/julia",
   "name": "julia",
   "version": "1.9.0"
  }
 },
 "nbformat": 4,
 "nbformat_minor": 5
}
