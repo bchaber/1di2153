{
 "cells": [
  {
   "cell_type": "code",
   "execution_count": 1,
   "metadata": {},
   "outputs": [
    {
     "data": {
      "text/plain": [
       "show_unquoted (generic function with 20 methods)"
      ]
     },
     "execution_count": 1,
     "metadata": {},
     "output_type": "execute_result"
    }
   ],
   "source": [
    "import Base: show, show_unquoted, print\n",
    "\n",
    "struct Variable\n",
    "  name::Symbol\n",
    "  number::Int\n",
    "end\n",
    "Symbol(x::Variable) = Symbol(x.name, x.number)\n",
    "\n",
    "show(io::IO, x::Variable) = print(io, \":(\", x.name, x.number, \")\")\n",
    "print(io::IO, x::Variable) = show_unquoted(io, x, 0, -1)\n",
    "show_unquoted(io::IO, x::Variable, ::Int, ::Int) =\n",
    "  print(io, x.name, x.number)"
   ]
  },
  {
   "cell_type": "code",
   "execution_count": 2,
   "metadata": {},
   "outputs": [
    {
     "data": {
      "text/plain": [
       "Expr"
      ]
     },
     "execution_count": 2,
     "metadata": {},
     "output_type": "execute_result"
    }
   ],
   "source": [
    "import Base: keys, lastindex, getindex, push!\n",
    "import MacroTools: unblock\n",
    "\n",
    "struct Wengert\n",
    "  variable::Symbol\n",
    "  instructions::Vector{Any}\n",
    "end\n",
    "\n",
    "Wengert(; variable = :y) = Wengert(variable, [])\n",
    "\n",
    "keys(w::Wengert) = (Variable(w.variable, i) for i = 1:length(w.instructions))\n",
    "lastindex(w::Wengert) = Variable(w.variable, length(w.instructions))\n",
    "getindex(w::Wengert, v::Variable) = w.instructions[v.number]\n",
    "\n",
    "function Base.show(io::IO, w::Wengert)\n",
    "  println(io, \"Wengert List\")\n",
    "  if length(w.instructions) < 1\n",
    "    println(io, \" (empty)\")\n",
    "  end\n",
    "  for (i, x) in enumerate(w.instructions)\n",
    "    print(io, Variable(w.variable, i), \" = \")\n",
    "    println(io, x)\n",
    "  end\n",
    "end\n",
    "\n",
    "function push!(w::Wengert, x)\n",
    "  return x\n",
    "end\n",
    "\n",
    "function push!(w::Wengert, x::Expr)\n",
    "  x = Expr(x.head, map(x -> x isa Expr ? push!(w, x) : x, x.args)...)\n",
    "  push!(w.instructions, x)\n",
    "  return lastindex(w)\n",
    "end\n",
    "\n",
    "function Wengert(ex; variable = :y)\n",
    "  w = Wengert(variable = variable)\n",
    "  push!(w, ex)\n",
    "  return w\n",
    "end\n",
    "\n",
    "function Expr(w::Wengert)\n",
    "  cs = Dict()\n",
    "  for x in w.instructions\n",
    "    x isa Expr || continue\n",
    "    for v in x.args\n",
    "      v isa Variable || continue\n",
    "      cs[v] = get(cs, v, 0) + 1\n",
    "    end\n",
    "  end\n",
    "  bs = Dict()\n",
    "  rename(ex::Expr) = Expr(ex.head, map(x -> get(bs, x, x), ex.args)...)\n",
    "  rename(x) = x\n",
    "  ex = :(;)\n",
    "  for v in keys(w)\n",
    "    if get(cs, v, 0) > 1\n",
    "      push!(ex.args, :($(Symbol(v)) = $(rename(w[v]))))\n",
    "      bs[v] = Symbol(v)\n",
    "    else\n",
    "      bs[v] = rename(w[v])\n",
    "    end\n",
    "  end\n",
    "  push!(ex.args, rename(bs[lastindex(w)]))\n",
    "  return unblock(ex)\n",
    "end"
   ]
  },
  {
   "cell_type": "code",
   "execution_count": 106,
   "metadata": {},
   "outputs": [
    {
     "data": {
      "text/plain": [
       "derive_reverse (generic function with 1 method)"
      ]
     },
     "execution_count": 106,
     "metadata": {},
     "output_type": "execute_result"
    }
   ],
   "source": [
    "import MacroTools\n",
    "import MacroTools: @capture\n",
    "\n",
    "addm(a, b) = a == 0 ? b : b == 0 ? a : :($a + $b)\n",
    "mulm(a, b) = 0 in (a, b) ? 0 : a == 1 ? b : b == 1 ? a : :($a * $b)\n",
    "mulm(a, b, c...) = mulm(mulm(a, b), c...)\n",
    "\n",
    "function derive_forward(w::Wengert, x; out=Wengert())\n",
    "  ds = Dict()\n",
    "  ds[x] = 1\n",
    "  d(y) = get(ds, y, 0)\n",
    "  for v in keys(w)\n",
    "    ex = w[v]\n",
    "    Δ = @capture(ex, a_ + b_) ? addm(d(a), d(b)) :\n",
    "        @capture(ex, a_ * b_) ? addm(mulm(a, d(b)), mulm(b, d(a))) :\n",
    "        @capture(ex, a_^n_)   ? mulm(d(a),n,:($a^$(n-1))) :\n",
    "        @capture(ex, a_ / b_) ? :($(mulm(b, d(a))) - $(mulm(a, d(b))) / $b^2) :\n",
    "        @capture(ex, sin(a_)) ? mulm(:( cos($a)), d(a)) :\n",
    "        @capture(ex, cos(a_)) ? mulm(:(-sin($a)), d(a)) :\n",
    "        @capture(ex, exp(a_)) ? mulm(v, d(a)) :\n",
    "        @capture(ex, log(a_)) ? mulm(:(1/$a), d(a)) :\n",
    "        error(\"$ex is not differentiable\")\n",
    "    ds[v] = push!(out, Δ)\n",
    "    println(ds)\n",
    "  end\n",
    "  return out\n",
    "end\n",
    "\n",
    "function derive_reverse(w::Wengert, x; out=Wengert())\n",
    "  ds = Dict()\n",
    "  d(x) = get(ds, x, 0)\n",
    "  d(x, Δ) = ds[x] = haskey(ds, x) ? addm(ds[x],Δ) : Δ\n",
    "  d(lastindex(w), 1)\n",
    "  for v in reverse(collect(keys(w)))\n",
    "    ex = w[v]\n",
    "    Δ = d(v)\n",
    "    if     @capture(ex, a_ + b_)\n",
    "      d(a, Δ)\n",
    "      d(b, Δ)\n",
    "    elseif @capture(ex, a_ * b_)\n",
    "      d(a, push!(out, mulm(Δ, b)))\n",
    "      d(b, push!(out, mulm(Δ, a)))\n",
    "    elseif @capture(ex, a_^n_)\n",
    "      d(a, mulm(Δ, n, :($a^$(n-1))))\n",
    "    elseif @capture(ex, a_ / b_)\n",
    "      d(a, push!(out, mulm(Δ, b)))\n",
    "      d(b, push!(out, :(-$(mulm(Δ, a))/$b^2)))\n",
    "    elseif @capture(ex, sin(a_))\n",
    "      d(a, push!(out, mulm(Δ, cos(a))))\n",
    "    elseif @capture(ex, cos(a_))\n",
    "      d(a, push!(out, mulm(Δ,-sin(a))))\n",
    "    elseif @capture(ex, exp(a_))\n",
    "      d(a, push!(out, mulm(Δ, v)))\n",
    "    elseif @capture(ex, log(a_))\n",
    "      d(a, push!(out, mulm(Δ, 1/a)))\n",
    "    else\n",
    "      error(\"$ex is not differentiable\")\n",
    "    end\n",
    "  end\n",
    "  push!(out, d(x))\n",
    "  return out\n",
    "end"
   ]
  },
  {
   "cell_type": "code",
   "execution_count": 95,
   "metadata": {},
   "outputs": [],
   "source": [
    "struct Staged\n",
    "  w::Wengert\n",
    "  var\n",
    "end\n",
    "\n",
    "import Base: +, -, *, ^, /\n",
    "+(a::Staged, b::Staged) = Staged(w, push!(b.w, :($(a.var) + $(b.var))))\n",
    "+(a::Staged, b)         = Staged(w, push!(a.w, :($(a.var) + $(b))))\n",
    "+(a,         b::Staged) = Staged(w, push!(b.w, :($(a)     + $(b.var))))\n",
    "\n",
    "-(a::Staged, b::Staged) = Staged(w, push!(b.w, :($(a.var) - $(b.var))))\n",
    "-(a::Staged, b)         = Staged(w, push!(a.w, :($(a.var) - $(b))))\n",
    "-(a,         b::Staged) = Staged(w, push!(b.w, :($(a)     - $(b.var))))\n",
    "\n",
    "*(a::Staged, b::Staged) = Staged(w, push!(a.w, :($(a.var) * $(b.var))))\n",
    "*(a::Staged, b)         = Staged(w, push!(a.w, :($(a.var) * $(b))))\n",
    "*(a,         b::Staged) = Staged(w, push!(b.w, :($(a)     * $(b.var))))\n",
    "\n",
    "^(a::Staged, b::Staged) = Staged(w, push!(a.w, :($(a.var) ^ $(b.var))))\n",
    "^(a::Staged, b)         = Staged(w, push!(a.w, :($(a.var) ^ $(b))))\n",
    "^(a,         b::Staged) = Staged(w, push!(b.w, :($(a)     ^ $(b.var))))\n",
    "\n",
    "/(a::Staged, b::Staged) = Staged(w, push!(a.w, :($(a.var) / $(b.var))))\n",
    "/(a::Staged, b)         = Staged(w, push!(a.w, :($(a.var) / $(b))))\n",
    "/(a,         b::Staged) = Staged(w, push!(b.w, :($(a)     / $(b.var))))\n",
    "nothing"
   ]
  },
  {
   "cell_type": "code",
   "execution_count": 60,
   "metadata": {},
   "outputs": [],
   "source": [
    "import Base: abs, sin, cos, tan, exp, sqrt, max\n",
    "abs(a::Staged)  = Staged(w, push!(a.w, :(abs($(a.var)))))\n",
    "sin(a::Staged)  = Staged(w, push!(a.w, :(sin($(a.var)))))\n",
    "cos(a::Staged)  = Staged(w, push!(a.w, :(cos($(a.var)))))\n",
    "tan(a::Staged)  = Staged(w, push!(a.w, :(tan($(a.var)))))\n",
    "exp(a::Staged)  = Staged(w, push!(a.w, :(exp($(a.var)))))\n",
    "sqrt(a::Staged) = Staged(w, push!(a.w, :(sqrt($(a.var)))))\n",
    "max(a::Staged, b::Staged) = Staged(w, push!(a.w, :(max($(a.var), $(b.var)))))\n",
    "max(a,         b::Staged) = Staged(w, push!(b.w, :(max($(a)    , $(b.var)))))\n",
    "max(a::Staged, b)         = Staged(w, push!(a.w, :(max($(a.var), $(b)))))\n",
    "nothing"
   ]
  },
  {
   "cell_type": "code",
   "execution_count": 61,
   "metadata": {},
   "outputs": [
    {
     "data": {
      "text/plain": [
       "Staged(Wengert List\n",
       " (empty)\n",
       ", :x)"
      ]
     },
     "execution_count": 61,
     "metadata": {},
     "output_type": "execute_result"
    }
   ],
   "source": [
    "w = Wengert()\n",
    "x = Staged(w, :x)"
   ]
  },
  {
   "cell_type": "code",
   "execution_count": 62,
   "metadata": {},
   "outputs": [
    {
     "data": {
      "text/plain": [
       "Staged(Wengert List\n",
       "y1 = 1x\n",
       "y2 = y1 * x\n",
       "y3 = y2 * x\n",
       ", :(y3))"
      ]
     },
     "execution_count": 62,
     "metadata": {},
     "output_type": "execute_result"
    }
   ],
   "source": [
    "function pow(x, n)\n",
    "  r = 1\n",
    "  for i = 1:n\n",
    "    r *= x\n",
    "  end\n",
    "  return r\n",
    "end\n",
    "\n",
    "w = Wengert()\n",
    "x = Staged(w, :x)\n",
    "y = pow(x, 3)"
   ]
  },
  {
   "cell_type": "code",
   "execution_count": 107,
   "metadata": {},
   "outputs": [
    {
     "data": {
      "text/plain": [
       "Wengert List\n",
       "y1 = x * x\n",
       "y2 = y * y\n",
       "y3 = y2 * y\n",
       "y4 = y1 + y3\n",
       "y5 = 2x\n",
       "y6 = y ^ 2\n",
       "y7 = 3 * y6\n"
      ]
     },
     "execution_count": 107,
     "metadata": {},
     "output_type": "execute_result"
    }
   ],
   "source": [
    "w = Wengert()\n",
    "x = Staged(w, :x)\n",
    "y = Staged(w, :y)\n",
    "z = x*x + y*y*y\n",
    "Dx = 2x\n",
    "Dy = 3y^2\n",
    "w"
   ]
  },
  {
   "cell_type": "code",
   "execution_count": 109,
   "metadata": {},
   "outputs": [
    {
     "name": "stdout",
     "output_type": "stream",
     "text": [
      "Dict{Any,Any}(:y => 1,:(y1) => 0)\n",
      "Dict{Any,Any}(:y => 1,:(y2) => :(y1),:(y1) => 0)\n",
      "Dict{Any,Any}(:y => 1,:(y2) => :(y1),:(y3) => :(y3),:(y1) => 0)\n",
      "Dict{Any,Any}(:y => 1,:(y2) => :(y1),:(y3) => :(y3),:(y1) => 0,:(y4) => :(y3))\n",
      "Dict{Any,Any}(:y => 1,:(y2) => :(y1),:(y5) => 0,:(y3) => :(y3),:(y1) => 0,:(y4) => :(y3))\n",
      "Dict{Any,Any}(:y => 1,:(y2) => :(y1),:(y5) => 0,:(y6) => :(y5),:(y3) => :(y3),:(y1) => 0,:(y4) => :(y3))\n",
      "Dict{Any,Any}(:y => 1,:(y2) => :(y1),:(y5) => 0,:(y6) => :(y5),:(y3) => :(y3),:(y1) => 0,:(y7) => :(y6),:(y4) => :(y3))\n",
      "dy = derive_forward(w, :y) = Wengert List\n",
      "y1 = y + y\n",
      "y2 = y * y1\n",
      "y3 = y2 + y2\n",
      "y4 = y ^ 1\n",
      "y5 = 2 * y4\n",
      "y6 = 3 * y5\n",
      "\n"
     ]
    }
   ],
   "source": [
    "#@show dx = derive_forward(w, :x);\n",
    "@show dy = derive_forward(w, :y);"
   ]
  },
  {
   "cell_type": "code",
   "execution_count": 82,
   "metadata": {},
   "outputs": [],
   "source": [
    "@eval dzdx(x, y) = $(Expr(dx));\n",
    "@eval dzdy(x, y) = $(Expr(dy));"
   ]
  },
  {
   "cell_type": "code",
   "execution_count": 101,
   "metadata": {},
   "outputs": [
    {
     "data": {
      "text/plain": [
       "2.0"
      ]
     },
     "execution_count": 101,
     "metadata": {},
     "output_type": "execute_result"
    }
   ],
   "source": [
    "dzdx(1.0, 2.0)"
   ]
  },
  {
   "cell_type": "code",
   "execution_count": 104,
   "metadata": {},
   "outputs": [
    {
     "data": {
      "text/plain": [
       "(16.0, 12.0)"
      ]
     },
     "execution_count": 104,
     "metadata": {},
     "output_type": "execute_result"
    }
   ],
   "source": [
    "dzdy(1.0, 2.0), 3*2.0^2"
   ]
  },
  {
   "cell_type": "code",
   "execution_count": 97,
   "metadata": {},
   "outputs": [
    {
     "data": {
      "text/plain": [
       "Wengert List\n",
       "y1 = sin(x)\n",
       "y2 = y1 * y\n"
      ]
     },
     "execution_count": 97,
     "metadata": {},
     "output_type": "execute_result"
    }
   ],
   "source": [
    "ww = Wengert(:(sin(x) * y))"
   ]
  },
  {
   "cell_type": "code",
   "execution_count": 100,
   "metadata": {},
   "outputs": [
    {
     "data": {
      "text/plain": [
       "quote\n",
       "    y2 = y2 ^ 2\n",
       "    y2 + ((-x / y2) * 2) * x ^ 1\n",
       "end"
      ]
     },
     "execution_count": 100,
     "metadata": {},
     "output_type": "execute_result"
    }
   ],
   "source": [
    "derive_reverse(Wengert(:(x / (1 + x^2))), :x) |> Expr"
   ]
  },
  {
   "cell_type": "code",
   "execution_count": null,
   "metadata": {},
   "outputs": [],
   "source": [
    "derive_forward(ww, :x)"
   ]
  }
 ],
 "metadata": {
  "kernelspec": {
   "display_name": "Julia 1.3.1",
   "language": "julia",
   "name": "julia-1.3"
  },
  "language_info": {
   "file_extension": ".jl",
   "mimetype": "application/julia",
   "name": "julia",
   "version": "1.3.1"
  }
 },
 "nbformat": 4,
 "nbformat_minor": 4
}
