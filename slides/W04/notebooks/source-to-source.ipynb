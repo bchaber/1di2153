{
 "cells": [
  {
   "cell_type": "code",
   "execution_count": 13,
   "metadata": {},
   "outputs": [
    {
     "data": {
      "text/plain": [
       "accum (generic function with 6 methods)"
      ]
     },
     "execution_count": 13,
     "metadata": {},
     "output_type": "execute_result"
    }
   ],
   "source": [
    "xgetindex(x, i...) = xcall(Base, :getindex, x, i...)\n",
    "xtuple(xs...) = xcall(Core, :tuple, xs...)\n",
    "xaccum(ir) = nothing\n",
    "xaccum(ir, x) = x\n",
    "xaccum(ir, xs...) = push!(ir, xcall(Main, :accum, xs...))\n",
    "accum() = nothing\n",
    "accum(x) = x\n",
    "accum(x, y) =\n",
    "  x == nothing ? y :\n",
    "  y == nothing ? x :\n",
    "  x + y\n",
    "\n",
    "accum(x, y, zs...) = accum(accum(x, y), zs...)\n",
    "\n",
    "accum(x::Tuple, y::Tuple) = accum.(x, y)\n",
    "accum(x::AbstractArray, y::AbstractArray) = accum.(x, y)"
   ]
  },
  {
   "cell_type": "code",
   "execution_count": 14,
   "metadata": {},
   "outputs": [],
   "source": [
    "using IRTools\n",
    "\n",
    "struct Pullback{S, T}\n",
    "    data::T\n",
    "end\n",
    "\n",
    "Pullback{S}(data::T) where {S, T} = Pullback{S, T}(data)\n",
    "\n",
    "function register(ir, F)\n",
    "    pr = Pipe(ir)\n",
    "    pbs = Dict{Variable, Variable}()\n",
    "    argument!(pr, at = 1)\n",
    "    for (v, st) in pr\n",
    "        ex = st.expr\n",
    "        if Meta.isexpr(ex, :call)\n",
    "            yJ = insert!(pr, v, stmt(xcall(Main, :forward, ex.args...), line = ir[v].line))\n",
    "            pr[v] = xgetindex(yJ, 1)\n",
    "            J = insertafter!(pr, v, stmt(xgetindex(yJ, 2), line = ir[v].line))\n",
    "            pbs[v] = substitute(pr, J)\n",
    "        end\n",
    "    end\n",
    "    pr = finish(pr)\n",
    "    v = push!(pr, xtuple(values(pbs)...))\n",
    "    pbv = push!(pr, Expr(:call, Pullback{F}, v))\n",
    "    ret = pr.blocks[end].branches[end].args[1]\n",
    "    ret = push!(pr, xtuple(ret, pbv))\n",
    "    pr.blocks[end].branches[end].args[1] = ret\n",
    "    return pr, pbs\n",
    "end\n",
    "\n",
    "@generated function forward(f, xs...)\n",
    "    T = Tuple{f, xs...}\n",
    "    m = IRTools.meta(T)\n",
    "    m === nothing && return\n",
    "    frw, _ = register(IRTools.IR(m), T)\n",
    "    argnames!(m, Symbol(\"#self#\"), :f, :xs)\n",
    "    frw = varargs!(m, frw, 2)\n",
    "    # frw = slots!(pis!(inlineable!(frw)))\n",
    "    return IRTools.update!(m, frw)\n",
    "end\n",
    "\n",
    "function adjoint(ir, pbs)\n",
    "    adj = empty(ir)\n",
    "    self = argument!(adj)\n",
    "    delta = argument!(adj)\n",
    "    pullbacks = pushfirst!(adj, xcall(:getfield, self, QuoteNode(:data)))\n",
    "\n",
    "    grads = Dict()\n",
    "    grad(x, x̄) = push!(get!(grads, x, []), x̄)\n",
    "    grad(x) = xaccum(adj, get(grads, x, [])...)\n",
    "    grad(last(keys(ir)), delta)\n",
    "\n",
    "    vars = keys(ir)\n",
    "    for k in length(vars):-1:1\n",
    "        v = vars[k]\n",
    "        ex = ir[v].expr\n",
    "        if haskey(pbs, v)\n",
    "            pbv = insertafter!(adj, pullbacks, xcall(:getindex, pullbacks, k))\n",
    "            g = push!(adj, Expr(:call, pbv, grad(v)))\n",
    "\n",
    "            for (i, x) in enumerate(ex.args)\n",
    "                x isa Variable || continue\n",
    "                grad(x, push!(adj, xgetindex(g, i)))\n",
    "            end\n",
    "        end\n",
    "    end\n",
    "    gs = [grad(x) for x in arguments(ir)]\n",
    "    Δ = push!(adj, xtuple(gs...))\n",
    "    return!(adj, Δ)\n",
    "    return adj\n",
    "end\n",
    "\n",
    "@generated function (::Pullback{S})(delta) where S\n",
    "    m = IRTools.meta(S)\n",
    "    m === nothing && return\n",
    "    ir = IRTools.IR(m)\n",
    "    _, pbs = register(ir, S)\n",
    "    back = adjoint(ir, pbs)\n",
    "    argnames!(m, Symbol(\"#self#\"), :delta)\n",
    "    return IRTools.update!(m, back)\n",
    "end"
   ]
  },
  {
   "cell_type": "code",
   "execution_count": 15,
   "metadata": {},
   "outputs": [
    {
     "data": {
      "text/plain": [
       "forward (generic function with 3 methods)"
      ]
     },
     "execution_count": 15,
     "metadata": {},
     "output_type": "execute_result"
    }
   ],
   "source": [
    "using LinearAlgebra\n",
    "\n",
    "@inline function forward(::typeof(*), A::Matrix, B::Matrix)\n",
    "    A * B, function (Δ::Matrix)\n",
    "        Base.@_inline_meta\n",
    "        (nothing, Δ * B', A' * Δ)\n",
    "    end\n",
    "end\n",
    "\n",
    "@inline function forward(::typeof(tr), A::Matrix)\n",
    "    tr(A), function (Δ::Real)\n",
    "        Base.@_inline_meta\n",
    "        (nothing, Δ * Matrix(I, size(A)))\n",
    "    end\n",
    "end"
   ]
  },
  {
   "cell_type": "code",
   "execution_count": 16,
   "metadata": {},
   "outputs": [
    {
     "ename": "MethodError",
     "evalue": "MethodError: no method matching Pipe(::IRTools.Inner.IR)\nClosest candidates are:\n  Pipe(::Any, !Matched::Any) at stream.jl:629\n  Pipe() at stream.jl:648\n  Pipe(!Matched::Base.PipeEndpoint, !Matched::Base.PipeEndpoint) at stream.jl:629",
     "output_type": "error",
     "traceback": [
      "MethodError: no method matching Pipe(::IRTools.Inner.IR)\nClosest candidates are:\n  Pipe(::Any, !Matched::Any) at stream.jl:629\n  Pipe() at stream.jl:648\n  Pipe(!Matched::Base.PipeEndpoint, !Matched::Base.PipeEndpoint) at stream.jl:629",
      "",
      "Stacktrace:",
      " [1] register(::IRTools.Inner.IR, ::Type) at ./In[14]:10",
      " [2] #s4#17 at ./In[14]:35 [inlined]",
      " [3] #s4#17(::Any, ::Any, ::Any) at ./none:0",
      " [4] (::Core.GeneratedFunctionStub)(::Any, ::Vararg{Any,N} where N) at ./boot.jl:524",
      " [5] top-level scope at In[16]:6"
     ]
    }
   ],
   "source": [
    "using LinearAlgebra, BenchmarkTools\n",
    "\n",
    "mul_tr(A::Matrix, B::Matrix) = tr(A * B)\n",
    "A, B = rand(30, 30), rand(30, 30)\n",
    "mul_tr(A, B)\n",
    "z, back = forward(mul_tr, A, B)\n",
    "back(1)"
   ]
  },
  {
   "cell_type": "code",
   "execution_count": null,
   "metadata": {},
   "outputs": [],
   "source": []
  }
 ],
 "metadata": {
  "kernelspec": {
   "display_name": "Julia 1.3.1",
   "language": "julia",
   "name": "julia-1.3"
  },
  "language_info": {
   "file_extension": ".jl",
   "mimetype": "application/julia",
   "name": "julia",
   "version": "1.3.1"
  }
 },
 "nbformat": 4,
 "nbformat_minor": 4
}
