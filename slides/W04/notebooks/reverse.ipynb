{
 "cells": [
  {
   "cell_type": "code",
   "execution_count": 1,
   "metadata": {},
   "outputs": [],
   "source": [
    "abstract type Node end\n",
    "abstract type Operator end\n",
    "abstract type LeafNode <: Node end"
   ]
  },
  {
   "cell_type": "code",
   "execution_count": 23,
   "metadata": {},
   "outputs": [
    {
     "data": {
      "text/plain": [
       "Variable"
      ]
     },
     "execution_count": 23,
     "metadata": {},
     "output_type": "execute_result"
    }
   ],
   "source": [
    "mutable struct Variable{T} <: LeafNode\n",
    "    value::T\n",
    "    grad::T\n",
    "    name::String\n",
    "end\n",
    "Variable(value) = Variable(value, zero(value), \"?\")\n",
    "Variable(value, name) = Variable(value, zero(value), name)"
   ]
  },
  {
   "cell_type": "code",
   "execution_count": 3,
   "metadata": {},
   "outputs": [
    {
     "data": {
      "text/plain": [
       "Tensor"
      ]
     },
     "execution_count": 3,
     "metadata": {},
     "output_type": "execute_result"
    }
   ],
   "source": [
    "struct Tensor{T} <: LeafNode\n",
    "    value::Array{Variable{T}}\n",
    "    name::String\n",
    "end\n",
    "Tensor(value, name) = Tensor(Variable.(value), name)"
   ]
  },
  {
   "cell_type": "code",
   "execution_count": 4,
   "metadata": {},
   "outputs": [],
   "source": [
    "import Base: zero, one\n",
    "zero(::Variable{T}) where T = Variable(zero(T), zero(T), \"0\")\n",
    "one(::Variable{T}) where T = Variable(one(T), zero(T), \"1\")\n",
    "nothing"
   ]
  },
  {
   "cell_type": "code",
   "execution_count": 5,
   "metadata": {},
   "outputs": [],
   "source": [
    "struct Method{OT} <: Operator\n",
    "    f::OT\n",
    "end"
   ]
  },
  {
   "cell_type": "code",
   "execution_count": 6,
   "metadata": {},
   "outputs": [],
   "source": [
    "struct Broadcasted{OT} <: Operator\n",
    "    f::OT\n",
    "end"
   ]
  },
  {
   "cell_type": "code",
   "execution_count": 7,
   "metadata": {},
   "outputs": [
    {
     "data": {
      "text/plain": [
       "ComputableNode"
      ]
     },
     "execution_count": 7,
     "metadata": {},
     "output_type": "execute_result"
    }
   ],
   "source": [
    "OT = Operator\n",
    "AT = Tuple\n",
    "KT = NamedTuple\n",
    "struct ComputableNode <: Node\n",
    "    op::OT\n",
    "    args::AT\n",
    "    kwargs::KT\n",
    "end\n",
    "ComputableNode(op::Function, args, kwargs) = ComputableNode(Method(op), args, kwargs)\n",
    "ComputableNode(op, args)                   = ComputableNode(op, args, NamedTuple())"
   ]
  },
  {
   "cell_type": "code",
   "execution_count": 8,
   "metadata": {},
   "outputs": [
    {
     "data": {
      "text/plain": [
       "register (generic function with 1 method)"
      ]
     },
     "execution_count": 8,
     "metadata": {},
     "output_type": "execute_result"
    }
   ],
   "source": [
    "mutable struct CachedNode{NT <: Node, OUT} <: Node\n",
    "    node::NT\n",
    "    out::OUT\n",
    "end\n",
    "\n",
    "function register(op, args...; kwargs...)\n",
    "    node = ComputableNode(op, args, kwargs.data)\n",
    "    out  = forward(node)\n",
    "    CachedNode(node, out)\n",
    "end"
   ]
  },
  {
   "cell_type": "code",
   "execution_count": 9,
   "metadata": {},
   "outputs": [
    {
     "data": {
      "text/plain": [
       "operator (generic function with 2 methods)"
      ]
     },
     "execution_count": 9,
     "metadata": {},
     "output_type": "execute_result"
    }
   ],
   "source": [
    "arg(x::ComputableNode, i::Int) = x.args[i]\n",
    "args(x::ComputableNode) = x.args\n",
    "kwargs(x::ComputableNode) = x.kwargs\n",
    "operator(x::ComputableNode) = x.f\n",
    "\n",
    "arg(x::CachedNode, i::Int) = x.node.args[i]\n",
    "args(x::CachedNode) = x.node.args\n",
    "kwargs(x::CachedNode) = x.node.kwargs\n",
    "operator(x::CachedNode) = x.node.f"
   ]
  },
  {
   "cell_type": "code",
   "execution_count": 34,
   "metadata": {},
   "outputs": [],
   "source": [
    "import Base: show\n",
    "mime = \"text/plain\"\n",
    "show(io::IO, x::Method)         = print(io, \"fn \",  x.f);\n",
    "show(io::IO, x::Broadcasted)    = print(io, \"bc \",  x.f);\n",
    "show(io::IO, x::Operator)       = print(io, \"op \",  x.f);\n",
    "show(io::IO, x::Variable)       = print(io, \"var \", x.name, \" \", typeof(x.value), \" ∇ \");\n",
    "show(io::IO, x::Tensor)         = print(io, \"tsr \", x.name, \" \", join(size(value(x)), \"×\"));\n",
    "show(io::IO, x::CachedNode)     = begin\n",
    "    print(io, \"cached \", x.node);# show(io, mime, x.out);\n",
    "end\n",
    "show(io::IO, x::ComputableNode) = print(io, \"[\", x.op, \"](\", join(x.args,\",\"), \")\");"
   ]
  },
  {
   "cell_type": "code",
   "execution_count": 35,
   "metadata": {},
   "outputs": [
    {
     "data": {
      "text/plain": [
       "forward (generic function with 7 methods)"
      ]
     },
     "execution_count": 35,
     "metadata": {},
     "output_type": "execute_result"
    }
   ],
   "source": [
    "forward(cached::CachedNode) = cached.out = forward(cached.node)\n",
    "forward(node::ComputableNode) = forward(node.op, map(forward, node.args)...; map(forward, node.kwargs)...)\n",
    "forward(op::Operator, args...; kwargs...) = op.f(args...; kwargs...)\n",
    "forward(op::Broadcasted, args...; kwargs...) = op.f.(args...)\n",
    "forward(leaf::LeafNode) = value(leaf)\n",
    "forward(x) = x\n",
    "forward(x::NT) where {NT <: Node} = error(\"forward method is not implemented for node type: $NT\")"
   ]
  },
  {
   "cell_type": "code",
   "execution_count": 12,
   "metadata": {},
   "outputs": [
    {
     "data": {
      "text/plain": [
       "grad (generic function with 2 methods)"
      ]
     },
     "execution_count": 12,
     "metadata": {},
     "output_type": "execute_result"
    }
   ],
   "source": [
    "value(x::CachedNode) = value(x.out)\n",
    "value(x::Variable) = x.value\n",
    "value(x::Tensor) = x.value .|> value \n",
    "value(x) = x\n",
    "value(x::NT) where {NT <: Node} = error(\"Expected value in this node $x of type $T\n",
    " check if you defined a non-cached node\n",
    " or overload value function for your node.\")\n",
    "grad(x::Variable) = x.grad\n",
    "grad(x::Tensor) = x.value .|> grad"
   ]
  },
  {
   "cell_type": "code",
   "execution_count": 38,
   "metadata": {},
   "outputs": [
    {
     "data": {
      "text/plain": [
       "backward (generic function with 7 methods)"
      ]
     },
     "execution_count": 38,
     "metadata": {},
     "output_type": "execute_result"
    }
   ],
   "source": [
    "function backward(x::Variable, grad)\n",
    "    x.grad += grad\n",
    "    nothing\n",
    "end\n",
    "\n",
    "function backward(x::Tensor, grad)\n",
    "    backward.(x.value, grad)\n",
    "    nothing\n",
    "end\n",
    "\n",
    "function backward(cached::CachedNode, f::Function, grad)\n",
    "    println(\"@\", cached)\n",
    "    grad_inputs = gradient(cached, grad)\n",
    "    for (each, each_grad) in zip(args(cached), grad_inputs)\n",
    "        backward(each, each_grad)\n",
    "    end\n",
    "    nothing\n",
    "end\n",
    "\n",
    "backward(cached::CachedNode) = backward(cached, 1.0)\n",
    "backward(cached::CachedNode, grad) = backward(cached, cached.node.op, grad)\n",
    "backward(cached::CachedNode, op::Method, grad) = backward(cached, op.f, grad)\n",
    "backward(cached::CachedNode, op::Broadcasted, grad) = backward(cached, op.f, grad)"
   ]
  },
  {
   "cell_type": "code",
   "execution_count": 39,
   "metadata": {},
   "outputs": [
    {
     "data": {
      "text/plain": [
       "gradient (generic function with 21 methods)"
      ]
     },
     "execution_count": 39,
     "metadata": {},
     "output_type": "execute_result"
    }
   ],
   "source": [
    "gradient(x::CachedNode, grad) = gradient(x.node.op, grad, x.out, map(value, x.node.args)...; map(value, x.node.kwargs)...)\n",
    "gradient(x::Broadcasted, grad, out, arg) = begin\n",
    "    println(\"gradient grad \", grad)\n",
    "    println(\"gradient out  \", out[:])\n",
    "    println(\"gradient arg  \", arg[:])\n",
    "    ∇(a,b) = gradient(x.f, grad, a, b)[1]\n",
    "    ∇.(out, arg)\n",
    "end\n",
    "gradient(x::Method, grad, out, args...; kwargs...) = gradient(x.f, grad, out, args...; kwargs...)\n",
    "gradient(op, grad, out, args...; kwargs...) = error(\"gradient of operator $op is not defined\\n\n",
    " Possible Fix:\\n\n",
    " define one of the following:\\n\n",
    " 1. gradient(::typeof($op), grad, out, args...; kwargs...)\\n\n",
    " 2. gradient(op::Method{typeof($op)}, grad, out, args...; kwargs...)\\n\")"
   ]
  },
  {
   "cell_type": "code",
   "execution_count": 15,
   "metadata": {},
   "outputs": [
    {
     "data": {
      "text/plain": [
       "gradient (generic function with 10 methods)"
      ]
     },
     "execution_count": 15,
     "metadata": {},
     "output_type": "execute_result"
    }
   ],
   "source": [
    "import Base: +, -, *, /\n",
    "+(x::Node) = register(+, x)\n",
    "-(x::Node) = register(-, x)\n",
    "gradient(::typeof(+), grad, output, x) = (grad * 1, )\n",
    "gradient(::typeof(-), grad, output, x) = (grad *-1, )\n",
    "+(x::Node, y::Node) = register(+, x, y)\n",
    "-(x::Node, y::Node) = register(-, x, y)\n",
    "*(x::Node, y::Node) = register(*, x, y)\n",
    "/(x::Node, y::Node) = register(/, x, y)\n",
    "gradient(::typeof(+), grad, output, x, y) = (grad * one(x),   grad * one(y))\n",
    "gradient(::typeof(-), grad, output, x, y) = (grad * one(x),   grad *-one(y))\n",
    "gradient(::typeof(*), grad, output, x, y) = (grad * y,        grad * x)\n",
    "gradient(::typeof(/), grad, output, x, y) = (grad * one(x)/y, grad *-x/y/y)"
   ]
  },
  {
   "cell_type": "code",
   "execution_count": 16,
   "metadata": {},
   "outputs": [
    {
     "data": {
      "text/plain": [
       "gradient (generic function with 19 methods)"
      ]
     },
     "execution_count": 16,
     "metadata": {},
     "output_type": "execute_result"
    }
   ],
   "source": [
    "import Base: abs, sin, cos, tan, exp, sqrt, max, min\n",
    "abs(x::Node)  = register(abs, x)\n",
    "sin(x::Node)  = register(sin, x)\n",
    "cos(x::Node)  = register(cos, x)\n",
    "tan(x::Node)  = register(tan, x)\n",
    "exp(x::Node)  = register(exp, x)\n",
    "sqrt(x::Node) = register(sqrt, x)\n",
    "max(x::Node, y::Node) = register(max, isless(value(x), value(y)) ? y : x)\n",
    "min(x::Node, y::Node) = register(min, isless(value(x), value(y)) ? x : y)\n",
    "gradient(::typeof(sqrt), grad, output, x) = (grad * 0.5/sqrt(x), )\n",
    "gradient(::typeof(abs), grad, output, x)  = (grad * sign(x), )\n",
    "gradient(::typeof(sin), grad, output, x)  = (grad * cos(x), )\n",
    "gradient(::typeof(cos), grad, output, x)  = (grad *-sin(x), )\n",
    "gradient(::typeof(tan), grad, output, x)  = (grad *(tan(x)^2 + 1), )\n",
    "gradient(::typeof(exp), grad, output, x)  = (grad * exp(x), )\n",
    "gradient(::typeof(max), grad, output, x)  = (grad * one(x),)\n",
    "gradient(::typeof(min), grad, output, x)  = (grad * one(x),)\n",
    "gradient(::typeof(min), grad, output, x, y) = (isless(value(x), value(y)) ? grad * one(x) : grad * zero(x),\n",
    "                                               isless(value(x), value(y)) ? grad * zero(y) : grad * one(y))"
   ]
  },
  {
   "cell_type": "code",
   "execution_count": 47,
   "metadata": {},
   "outputs": [
    {
     "data": {
      "text/plain": [
       "gradient (generic function with 21 methods)"
      ]
     },
     "execution_count": 47,
     "metadata": {},
     "output_type": "execute_result"
    }
   ],
   "source": [
    "import Base: maximum, broadcasted\n",
    "broadcasted(f::Function, x::Node) = register(Broadcasted(f), x)\n",
    "maximum(x::Node; kwargs...) = register(Method(maximum), x; kwargs...)\n",
    "gradient(::typeof(maximum), grad, output, x; kwargs...) = begin\n",
    "    res = zeros(size(x))\n",
    "    \n",
    "    for k in axes(x, 3)\n",
    "        for j in axes(x, 2)\n",
    "            for i in axes(x, 1)\n",
    "                if x[i,j,k] == output[1,1,k]\n",
    "                    res[i,j,k] = grad * one(eltype(output))\n",
    "                end\n",
    "            end\n",
    "        end\n",
    "    end\n",
    "    (res, )\n",
    "end"
   ]
  },
  {
   "cell_type": "code",
   "execution_count": 48,
   "metadata": {},
   "outputs": [
    {
     "data": {
      "text/plain": [
       "gradient (generic function with 21 methods)"
      ]
     },
     "execution_count": 48,
     "metadata": {},
     "output_type": "execute_result"
    }
   ],
   "source": [
    "maxpool(x::Node) = register(maxpool, x)\n",
    "gradient(::typeof(maxpool), grad, output, input) = begin\n",
    "    res = similar(input)\n",
    "\n",
    "    for i in axes(input, 1)\n",
    "        for j in axes(input, 2)\n",
    "            for k in axes(input, 3)\n",
    "                I, J = ceil.(Integer, (i, j) ./ 2)\n",
    "                if input[i,j,k] == output[I,J,k]\n",
    "                    res[i,j,k] = grad * one(eltype(output))\n",
    "                end\n",
    "            end\n",
    "        end\n",
    "    end\n",
    "    (res, )\n",
    "end"
   ]
  },
  {
   "cell_type": "code",
   "execution_count": 49,
   "metadata": {},
   "outputs": [
    {
     "data": {
      "text/plain": [
       "tsr v 8×8×3"
      ]
     },
     "execution_count": 49,
     "metadata": {},
     "output_type": "execute_result"
    }
   ],
   "source": [
    "r = rand(8,8,3)\n",
    "v = Tensor(r, \"v\")"
   ]
  },
  {
   "cell_type": "code",
   "execution_count": 50,
   "metadata": {},
   "outputs": [
    {
     "data": {
      "text/plain": [
       "cached [fn maxpool](cached [fn maxpool](tsr v 8×8×3))"
      ]
     },
     "execution_count": 50,
     "metadata": {},
     "output_type": "execute_result"
    }
   ],
   "source": [
    "function maxpool(input)\n",
    "    n, m, k = size(input)\n",
    "    N, M = floor.(Integer, (n, m) ./ 2)\n",
    "    output = similar(input, N, M, k)\n",
    "    for i=1:N\n",
    "        for j=1:M\n",
    "            region = input[ 2(i)-1:2(i)-0, 2(j)-1:2(j)-0, :]\n",
    "            output[i, j, :] = maximum(region; dims=(1,2))\n",
    "        end\n",
    "    end\n",
    "    output\n",
    "end\n",
    "c = maxpool(maxpool(v))"
   ]
  },
  {
   "cell_type": "code",
   "execution_count": 51,
   "metadata": {},
   "outputs": [
    {
     "name": "stdout",
     "output_type": "stream",
     "text": [
      "@cached [fn maxpool](cached [fn maxpool](tsr v 8×8×3))\n",
      "@cached [fn maxpool](tsr v 8×8×3)\n"
     ]
    },
    {
     "ename": "MethodError",
     "evalue": "MethodError: Cannot `convert` an object of type Array{Float64,3} to an object of type Float64\nClosest candidates are:\n  convert(::Type{T}, !Matched::T) where T<:Number at number.jl:6\n  convert(::Type{T}, !Matched::Number) where T<:Number at number.jl:7\n  convert(::Type{T}, !Matched::Base.TwicePrecision) where T<:Number at twiceprecision.jl:250\n  ...",
     "output_type": "error",
     "traceback": [
      "MethodError: Cannot `convert` an object of type Array{Float64,3} to an object of type Float64\nClosest candidates are:\n  convert(::Type{T}, !Matched::T) where T<:Number at number.jl:6\n  convert(::Type{T}, !Matched::Number) where T<:Number at number.jl:7\n  convert(::Type{T}, !Matched::Base.TwicePrecision) where T<:Number at twiceprecision.jl:250\n  ...",
      "",
      "Stacktrace:",
      " [1] setindex! at ./array.jl:784 [inlined]",
      " [2] gradient(::typeof(maxpool), ::Array{Float64,3}, ::Array{Float64,3}, ::Array{Float64,3}) at ./In[48]:10",
      " [3] #gradient#16 at ./In[39]:9 [inlined]",
      " [4] gradient(::Method{typeof(maxpool)}, ::Array{Float64,3}, ::Array{Float64,3}, ::Array{Float64,3}) at ./In[39]:9",
      " [5] gradient(::CachedNode{ComputableNode,Array{Float64,3}}, ::Array{Float64,3}) at ./In[39]:1",
      " [6] backward(::CachedNode{ComputableNode,Array{Float64,3}}, ::Function, ::Array{Float64,3}) at ./In[38]:13",
      " [7] backward(::CachedNode{ComputableNode,Array{Float64,3}}, ::Method{typeof(maxpool)}, ::Array{Float64,3}) at ./In[38]:22",
      " [8] backward(::CachedNode{ComputableNode,Array{Float64,3}}, ::Array{Float64,3}) at ./In[38]:21",
      " [9] backward(::CachedNode{ComputableNode,Array{Float64,3}}, ::Function, ::Float64) at ./In[38]:15",
      " [10] backward(::CachedNode{ComputableNode,Array{Float64,3}}, ::Method{typeof(maxpool)}, ::Float64) at ./In[38]:22",
      " [11] backward(::CachedNode{ComputableNode,Array{Float64,3}}, ::Float64) at ./In[38]:21",
      " [12] backward(::CachedNode{ComputableNode,Array{Float64,3}}) at ./In[38]:20",
      " [13] top-level scope at In[51]:1"
     ]
    }
   ],
   "source": [
    "backward(c)\n",
    "grad(v)"
   ]
  },
  {
   "cell_type": "code",
   "execution_count": null,
   "metadata": {},
   "outputs": [],
   "source": []
  },
  {
   "cell_type": "code",
   "execution_count": null,
   "metadata": {},
   "outputs": [],
   "source": []
  },
  {
   "cell_type": "code",
   "execution_count": null,
   "metadata": {},
   "outputs": [],
   "source": []
  }
 ],
 "metadata": {
  "kernelspec": {
   "display_name": "Julia 1.3.1",
   "language": "julia",
   "name": "julia-1.3"
  },
  "language_info": {
   "file_extension": ".jl",
   "mimetype": "application/julia",
   "name": "julia",
   "version": "1.3.1"
  }
 },
 "nbformat": 4,
 "nbformat_minor": 4
}
