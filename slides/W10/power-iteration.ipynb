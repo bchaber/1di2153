{
 "cells": [
  {
   "cell_type": "markdown",
   "id": "c4ead9d2",
   "metadata": {},
   "source": [
    "Metoda potęgowa jest najprostszą metodą pozwalającą na znalezienie największej (co do modułu) wartości własnej dla macierzy symetrycznej (czyli takiej, która posiada jedynie wartości własne będące liczbami rzeczywistymi).\n",
    "\n",
    "Zasada działania jest prosta: przekształcając dowolny, **niezerowy** wektor przez macierz ulegnie on transformacji. Składowe tego wektora na wektory własne zostaną rozciągnięte (lub skrócone) zgodnie ze skojarzonymi z tymi wektorami wartościami własnymi. Oznacza to jeżeli nasz wektor startowy jest wektorem własnym to nie ulegnie obrotowi (może zostać ewentualnie wydłużony lub skrócony).\n",
    "\n",
    "Jeżeli nasz wektor startowy **nie jest** wektorem własnym, to zostanie on obracany w kierunku wektora własnego skojarzonego z największą (co do modułu) wartością własną."
   ]
  },
  {
   "cell_type": "code",
   "execution_count": null,
   "id": "47625b39",
   "metadata": {},
   "outputs": [],
   "source": [
    "using LinearAlgebra\n",
    "\n",
    "# Iloraz Rayleigha pozwala na znalezienie wartości własnej\n",
    "# macierzy A, skojarzonej z wektorem własnym v\n",
    "function rayleighquotient(v, A)\n",
    "    (v' * A * v) / (v' * v)\n",
    "end"
   ]
  },
  {
   "cell_type": "markdown",
   "id": "a53e3a95",
   "metadata": {},
   "source": [
    "W metodzie potęgowej operujemy na macierzy i wektorze. Możemy \"odzyskać\" skojarzoną z wektorem wartość własną przy pomocy ilorazu Rayleigha:\n",
    "\n",
    "$$\\lambda = \\frac{v^T\\cdot \\mathbf{A}\\cdot v}{v^T \\cdot v}$$"
   ]
  },
  {
   "cell_type": "code",
   "execution_count": null,
   "id": "b0a640b7",
   "metadata": {},
   "outputs": [],
   "source": [
    "function poweriteration(A)\n",
    "    maxiter = 1000\n",
    "    λ = NaN\n",
    "    n = size(A, 1)\n",
    "    vi = randn(n)\n",
    "    vj = similar(vi)\n",
    "    for i=1:maxiter\n",
    "        vj .= A * vi\n",
    "        normalize!(vj)\n",
    "        vi, vj = vj, vi\n",
    "        λ = rayleighquotient(vi, A)\n",
    "    end\n",
    "    return λ, vi\n",
    "end"
   ]
  },
  {
   "cell_type": "markdown",
   "id": "b51a59d3",
   "metadata": {},
   "source": [
    "Powyższa implementacja jest jeszcze do delikatnego poprawienia pod kątem wydajności (tak samo jak iloraz Rayleigha)."
   ]
  },
  {
   "cell_type": "code",
   "execution_count": null,
   "id": "a016d597",
   "metadata": {},
   "outputs": [],
   "source": [
    "A = randn(5,5); A *= A'\n",
    "λ, v = poweriteration(A)\n",
    "@show λ;\n",
    "@show v;"
   ]
  },
  {
   "cell_type": "code",
   "execution_count": null,
   "id": "1f956d9c",
   "metadata": {},
   "outputs": [],
   "source": [
    "values, vectors = eigen(A)"
   ]
  },
  {
   "cell_type": "code",
   "execution_count": null,
   "id": "7cb70582",
   "metadata": {},
   "outputs": [],
   "source": [
    "using BenchmarkTools\n",
    "@btime poweriteration($A);\n",
    "@btime rayleighquotient($v, $A);"
   ]
  },
  {
   "cell_type": "code",
   "execution_count": null,
   "id": "f2eb1240",
   "metadata": {},
   "outputs": [],
   "source": [
    "function rayleighquotient(v, A)\n",
    "    n = length(v)\n",
    "    R = 0.0\n",
    "    for i=1:n, j=1:n\n",
    "        R += v[i] * A[i,j] * v[j]\n",
    "    end\n",
    "    return R\n",
    "end\n",
    "\n",
    "function poweriteration(A)\n",
    "    maxiter = 1000\n",
    "    λ = NaN\n",
    "    n = size(A, 1)\n",
    "    vi = randn(n)\n",
    "    vj = similar(vi)\n",
    "    for i=1:maxiter\n",
    "        mul!(vj, A, vi)\n",
    "        normalize!(vj)\n",
    "        vi, vj = vj, vi\n",
    "        λ = rayleighquotient(vi, A)\n",
    "    end\n",
    "    return λ, vi\n",
    "end\n",
    "\n",
    "@btime poweriteration($A);\n",
    "@btime rayleighquotient($v, $A);"
   ]
  },
  {
   "cell_type": "markdown",
   "id": "79a5a9d4",
   "metadata": {},
   "source": [
    "Czy można wykorzystać metodę potęgową do znalezienia **wszystkich** wartości własnych?\n",
    "Tak, przy pomocy deflacji. Deflacja pozwala na wyzerowanie z macierzy wybranej wartości własnej.\n",
    "\n",
    "$$\\mathbf{B} = \\mathbf{A} - \\lambda_i \\cdot v_i \\cdot v^{T}_i$$"
   ]
  },
  {
   "cell_type": "code",
   "execution_count": null,
   "id": "8ee04227",
   "metadata": {},
   "outputs": [],
   "source": [
    "A = rand(5,5); A = A' * A;\n",
    "values, vectors = eigen(A)"
   ]
  },
  {
   "cell_type": "code",
   "execution_count": null,
   "id": "e77469fb",
   "metadata": {},
   "outputs": [],
   "source": [
    "B = A .- values[3] * vectors[:,3] * vectors[:,3]'\n",
    "eigen(B)"
   ]
  },
  {
   "cell_type": "code",
   "execution_count": null,
   "id": "3bb074ef",
   "metadata": {},
   "outputs": [],
   "source": [
    "function wlasne(A)\n",
    "    n = size(A, 1)\n",
    "    B = copy(A)\n",
    "    λ = zeros(n)\n",
    "    for i=1:n\n",
    "        lambda, vector = poweriteration(B)\n",
    "        λ[i] = lambda\n",
    "        B .-= lambda * vector * vector'\n",
    "    end\n",
    "    return sort!(λ)\n",
    "end\n",
    "\n",
    "λ, _ = poweriteration(A)\n",
    "λs = wlasne(A)\n",
    "values, _ = eigen(A)\n",
    "using PyPlot\n",
    "figure(dpi=150)\n",
    "scatter(real.(λs), imag.(λs), s=100)\n",
    "scatter(real.(values), imag.(values))\n",
    "xlabel(\"Re{λ}\")\n",
    "ylabel(\"Im{λ}\")\n",
    "legend((\"Power Iteration\", \"Eigen\"))\n",
    "#display(gcf())"
   ]
  },
  {
   "cell_type": "code",
   "execution_count": null,
   "id": "aa6ba6d6",
   "metadata": {},
   "outputs": [],
   "source": [
    "A = diagm(rand(120))\n",
    "λ = wlasne(A)\n",
    "values, vectors = eigen(A)\n",
    "figure(dpi=150)\n",
    "plot(λ, \"o\")\n",
    "plot(values, \".\")\n",
    "xlabel(\"numer wartości własnej (-)\")\n",
    "ylabel(\"wartość własna (-)\")\n",
    "legend((\"Power Iteration\", \"Eigen\"))\n",
    "#display(gcf())"
   ]
  },
  {
   "cell_type": "markdown",
   "id": "67317be0",
   "metadata": {},
   "source": [
    "Pamiętając o właściwości, że wartości własne macierzy odwrotnej są odwrotnościami oryginalnej macierzy możemy\n",
    "też zapisać wersję metody potęgowej znajdującej **najmniejszą** (co do modułu) wartość własną. Zamiast mnożenia wektora przez macierz będziemy mnożyć wektor przez odwrotność macierzy. \n",
    "\n",
    "Metoda potęgowa: $v_{i+1} = \\mathbf{A} \\cdot v_{i}$.\n",
    "\n",
    "Odwrotna metoda potęgowa: $v_{i+1} = \\mathbf{A}^{-1} \\cdot v_{i}$."
   ]
  },
  {
   "cell_type": "markdown",
   "id": "9b389fe6",
   "metadata": {},
   "source": [
    "Oczywiście, znajdowanie macierzy odwrotnej jest najczęściej bardzo pracochłonne, więc możemy spróbować innych metod na znalezienie $\\mathbf{A} \\cdot v_{i+1} = v_{i}$.\n",
    "Warto zwrócić uwagę, że w naszym przypadku będziemy wykonywać wiele iteracji, ale macierzowy układ równań będzie taki sam. Na razie przyjmiemy \"na wiarę\", że istnieją metody pozwalające przyspieszyć rozwiązać tego typu układów równań dla różnych wektorów po prawej stronie równania (patrz wykorzystywana poniżej funkcja `factorize`)."
   ]
  },
  {
   "cell_type": "code",
   "execution_count": null,
   "id": "39bccee0",
   "metadata": {},
   "outputs": [],
   "source": [
    "function inverseiteration(A)\n",
    "    maxiter = 1000\n",
    "    λ = NaN\n",
    "    n = size(A, 1)\n",
    "    I = diagm(ones(n))\n",
    "    vi = randn(n)\n",
    "    Ainv = factorize(A)\n",
    "    \n",
    "    normalize!(vi)\n",
    "    for i=1:maxiter\n",
    "        vi = Ainv \\ vi\n",
    "        normalize!(vi)\n",
    "    end\n",
    "    \n",
    "    λ = rayleighquotient(vi, A)\n",
    "    return λ, vi\n",
    "end"
   ]
  },
  {
   "cell_type": "code",
   "execution_count": null,
   "id": "34472c11",
   "metadata": {},
   "outputs": [],
   "source": [
    "A = rand(10, 10); A = A' * A\n",
    "eigvals(A)"
   ]
  },
  {
   "cell_type": "markdown",
   "id": "efc359b9",
   "metadata": {},
   "source": [
    "Posiadając funkcje do znajdowania najmniejszej i największej wartości własnej możemy dowiedzieć się ciekawych rzeczy o naszym operatorze $\\mathbf{A}$, np. o jego współczynniku uwarunkowania.\n",
    "Współczynnik uwarunkowania mówi o tym jak błędy skojarzone z wektorem $x$ propagują się na wektor wyjściowy $y = \\mathbf{A} \\cdot x$.\n",
    "\n",
    "Współczynnik uwarunkowania można policzyć jako iloraz największej wartości własnej do najmniejszej."
   ]
  },
  {
   "cell_type": "code",
   "execution_count": null,
   "id": "6d240e14",
   "metadata": {},
   "outputs": [],
   "source": [
    "function uwarunkowanie(A)\n",
    "    λmin, _ = inverseiteration(A)\n",
    "    λmax, _ = poweriteration(A)\n",
    "    return λmax/λmin\n",
    "end\n",
    "\n",
    "@btime uwarunkowanie($A)"
   ]
  },
  {
   "cell_type": "code",
   "execution_count": null,
   "id": "8fca6b77",
   "metadata": {},
   "outputs": [],
   "source": [
    "cond(A) # condition number"
   ]
  },
  {
   "cell_type": "markdown",
   "id": "68098253",
   "metadata": {},
   "source": [
    "Co więcej, odwrotna metoda potęgowa pozwala nam znaleźć **dowolną** wartość własną, jeżeli tylko domyślamy się jej wartości.\n",
    "Wykorzystamy tu własność związaną z przesunięciem widma macierzy.\n",
    "\n",
    "Macierz $\\mathbf{A} - \\mu \\cdot \\mathbf{I}$ posiada takie same wartości własne jak $\\mathbf{A}$ ale przesunięte o $\\mu$, tj. $\\lambda_1 - \\mu$, $\\lambda_2 - \\mu$, $\\lambda_3 - \\mu$, $\\ldots, \\lambda_N - \\mu$."
   ]
  },
  {
   "cell_type": "code",
   "execution_count": null,
   "id": "9dbdd479",
   "metadata": {},
   "outputs": [],
   "source": [
    "function inverseiteration(A, μ)\n",
    "    N = size(A, 1)\n",
    "    I = diagm(ones(N))\n",
    "    λ, v = inverseiteration(A - μ * I)\n",
    "    return λ + μ, v\n",
    "end"
   ]
  },
  {
   "cell_type": "code",
   "execution_count": null,
   "id": "2f17616b",
   "metadata": {},
   "outputs": [],
   "source": [
    "λ, _ = inverseiteration(A, 1.0)\n",
    "@show λ;"
   ]
  },
  {
   "cell_type": "markdown",
   "id": "47001784",
   "metadata": {},
   "source": [
    "Możemy przyspieszyć prędkość zbieżności odwrotnej metody potęgowej poprzez wielokrotne przesuwanie widma w pogoni za wartością własną najbliższą wartości $\\mu$."
   ]
  },
  {
   "cell_type": "code",
   "execution_count": null,
   "id": "5ff8cd05",
   "metadata": {},
   "outputs": [],
   "source": [
    "function rayleighiteration(A, μ=0.0)\n",
    "    maxiter = 1000\n",
    "    n = size(A, 1)\n",
    "    I = diagm(ones(n))\n",
    "    vi = randn(n)\n",
    "    normalize!(vi)\n",
    "    for i=1:maxiter\n",
    "        vi .= (A - μ * I) \\ vi\n",
    "        normalize!(vi)\n",
    "        μ  = rayleighquotient(vi, A)\n",
    "    end\n",
    "    \n",
    "    λ = rayleighquotient(vi, A)\n",
    "    return λ, vi\n",
    "end"
   ]
  },
  {
   "cell_type": "code",
   "execution_count": null,
   "id": "fb4b62db",
   "metadata": {},
   "outputs": [],
   "source": [
    "λ, _ = rayleighiteration(A, 2.086631270326873)\n",
    "@show λ;"
   ]
  },
  {
   "cell_type": "code",
   "execution_count": null,
   "id": "102191cd",
   "metadata": {},
   "outputs": [],
   "source": [
    "eigvals(A)"
   ]
  },
  {
   "cell_type": "code",
   "execution_count": null,
   "id": "a6f5a289",
   "metadata": {},
   "outputs": [],
   "source": []
  }
 ],
 "metadata": {
  "kernelspec": {
   "display_name": "Julia 1.9",
   "language": "julia",
   "name": "julia-1.1"
  },
  "language_info": {
   "file_extension": ".jl",
   "mimetype": "application/julia",
   "name": "julia",
   "version": "1.9.0"
  }
 },
 "nbformat": 4,
 "nbformat_minor": 5
}
