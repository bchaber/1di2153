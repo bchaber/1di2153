{
 "cells": [
  {
   "cell_type": "markdown",
   "id": "0e8afe44",
   "metadata": {},
   "source": [
    "Najbardziej bezpośrednią metodą znalezienia wartości własnych jest znalezienie miejsc zerowych wielomianu charakterystycznego. Natomiast wyzwaniem jest wyznaczenie tego wielomianu. Wynika to z faktu, że wyznaczenie tego np. z rozwinięcia Laplace'a (wykorzystującego minory) byłoby bardzo czasochłonne dla większych macierzy.\n",
    "\n",
    "Alternatywną metodą pozwalającą na wyznaczenie współczynników wielomianu charakterystycznego jest metoda Faddeeva-LeVerriera. Jej wynikiem jest wektor współczynników $c_0, c_1, c_2, ..., c_N$ wielomianu charakterystycznego.\n",
    "Wymaga ona wykonania $N-1$ kroków w trakcie których wykonywane jest mnożenie dwóch, pełnych macierzy oraz znalezienie _śladu_ macierzy $\\text{tr}(B)$, będącego sumą elementów na głównej diagonali $B_{ii}$ (gdzie $i=1,2,...,N$).\n",
    "\n",
    "Metoda Faddeeva-LeVerriera wykorzystuje formułę Jacobiego wiążącą wyznacznik macierzy ze śladem macierzy dołączonej. Warto zapoznać się też z twierdzeniem Cayleya-Hamiltona mówiącym, że każda macierz jest pierwiastkiem swojego wielomianu charakterystycznego (tj. podstawiając macierz jako element wielomianu otrzymamy macierz samych zer)."
   ]
  },
  {
   "cell_type": "code",
   "execution_count": null,
   "id": "5cd23a39",
   "metadata": {},
   "outputs": [],
   "source": [
    "using LinearAlgebra\n",
    "import PolynomialRoots: roots\n",
    "\n",
    "function FaddeevLeVerrier(A)\n",
    "    n = size(A, 1)\n",
    "    I = diagm(ones(n))\n",
    "    B = copy(I)\n",
    "    c = zeros(n + 1)\n",
    "    k = 1\n",
    "    c[n+1] = 1.0\n",
    "    while k <= (n - 1)\n",
    "        B = A * B\n",
    "        c[n - k + 1] = -(1.0 / k) * tr(B)\n",
    "        B += c[n - k + 1] * I\n",
    "        k += 1\n",
    "    end\n",
    "    c[1] = -(1.0 / n) * tr(A, B)\n",
    "    return c\n",
    "end"
   ]
  },
  {
   "cell_type": "markdown",
   "id": "1c936686",
   "metadata": {},
   "source": [
    "Metoda Faddeeva-LeVerriera nie jest szybką metodą, ale istnieje ulepszenie nazwane metodą Preparata-Sarwate opisane m.in. przez _Fredrik Johansson_ w _On a fast and nearly division-free algorithm for the characteristic polynomial. 2020. ⟨hal-03016034v2⟩_\n",
    "\n",
    "Nazywa się go też metodą małych i dużych kroków, ponieważ co $m$ małych kroków wykorzystujących przygotowane wcześniej potęgi macierzy i ich ślady, wykonywany jest duży krok."
   ]
  },
  {
   "cell_type": "code",
   "execution_count": null,
   "id": "b7f75f8f",
   "metadata": {},
   "outputs": [],
   "source": [
    "function PreparataSarwate(a)\n",
    "    n = size(a, 1)\n",
    "    m = floor(Int64, sqrt(n))\n",
    "    A = [a]\n",
    "    t = zeros(m)\n",
    "    # precompute A^i and Tr(A^i)\n",
    "    for i=1:m-1\n",
    "        push!(A, A[1] * A[i])\n",
    "        t[i] = tr(A[i])\n",
    "    end\n",
    "    t[m] = tr(A[m])\n",
    "\n",
    "    c = zeros(n + 1)\n",
    "    I = diagm(ones(n))\n",
    "    B = copy(I)\n",
    "    k = 1\n",
    "    c[n + 1] = 1.0\n",
    "    while k <= (n - 1)\n",
    "        m = min(m, n - k)\n",
    "        # compute coeffs.\n",
    "        c[n - k - 0 + 1] = -(1.0 / k) * tr(A[1], B)\n",
    "        for j = 1:m-1\n",
    "            c[n - k - j + 1] = tr(A[j+1], B)\n",
    "            for i = 0:j-1\n",
    "                c[n - k - j + 1] += t[j - i] * c[n - k - i + 1]\n",
    "            end\n",
    "            c[n - k - j + 1] /= - (k + j)\n",
    "        end\n",
    "        # update B\n",
    "        B = A[m] * B\n",
    "        for j = 0:m-2\n",
    "            B += c[n - k - j + 1] * A[m - j - 1]\n",
    "        end\n",
    "        for j = m-1\n",
    "            B += c[n - k - j + 1] * I\n",
    "        end\n",
    "\n",
    "        k += m\n",
    "    end\n",
    "    c[1] = -(1.0 / n) * tr(A[1], B)\n",
    "    return c\n",
    "end"
   ]
  },
  {
   "cell_type": "markdown",
   "id": "5f8c8eb8",
   "metadata": {},
   "source": [
    "Ta metoda wymaga zdefiniowania operacji śladu iloczynu macierzy $\\mathbf{A}$ i $\\mathbf{B}$, który może być policzony bez faktycznego mnożenia tych macierzy.\n",
    "\n",
    "W Julii wymaga to jedynie zdefiniowania nowej wersji metody `tr`."
   ]
  },
  {
   "cell_type": "code",
   "execution_count": null,
   "id": "77478d5d",
   "metadata": {},
   "outputs": [],
   "source": [
    "function LinearAlgebra.tr(A, B) # product trace: tr(A*B)\n",
    "    n = size(A, 1)\n",
    "    result = 0.0\n",
    "    for i=1:n\n",
    "        for j=1:n\n",
    "            result += A[i,j]*B[j,i]\n",
    "        end\n",
    "    end\n",
    "    return result\n",
    "end"
   ]
  },
  {
   "cell_type": "code",
   "execution_count": null,
   "id": "ba389149",
   "metadata": {},
   "outputs": [],
   "source": [
    "A = randn(51, 51)\n",
    "values = eigvals(A)\n",
    "p = FaddeevLeVerrier(A)\n",
    "λ = roots(p)"
   ]
  },
  {
   "cell_type": "code",
   "execution_count": null,
   "id": "73648318",
   "metadata": {},
   "outputs": [],
   "source": [
    "using PyPlot\n",
    "figure(dpi=150)\n",
    "scatter(real.(λ), imag.(λ))\n",
    "scatter(real.(values), imag.(values), marker=\".\")\n",
    "xlabel(\"Re{λ}\")\n",
    "ylabel(\"Im{λ}\")\n",
    "legend((\"Faddeev-LeVerrier\", \"Eigen\"))"
   ]
  },
  {
   "cell_type": "code",
   "execution_count": null,
   "id": "7af11f66",
   "metadata": {},
   "outputs": [],
   "source": [
    "A = randn(101, 101)\n",
    "values = eigvals(A)\n",
    "p = PreparataSarwate(A)\n",
    "λ = roots(p)"
   ]
  },
  {
   "cell_type": "code",
   "execution_count": null,
   "id": "b8e26a69",
   "metadata": {},
   "outputs": [],
   "source": [
    "using PyPlot\n",
    "figure(dpi=150)\n",
    "scatter(real.(λ), imag.(λ))\n",
    "scatter(real.(values), imag.(values), marker=\".\")\n",
    "xlabel(\"Re{λ}\")\n",
    "ylabel(\"Im{λ}\")\n",
    "legend((\"Preparata-Sarwate\", \"Eigen\"))"
   ]
  },
  {
   "cell_type": "code",
   "execution_count": null,
   "id": "f29466c0",
   "metadata": {},
   "outputs": [],
   "source": [
    "using BenchmarkTools"
   ]
  },
  {
   "cell_type": "code",
   "execution_count": null,
   "id": "87f2b932",
   "metadata": {},
   "outputs": [],
   "source": [
    "function wlasne(A)\n",
    "    p = FaddeevLeVerrier(A)\n",
    "    λ = roots(p)    \n",
    "end\n",
    "\n",
    "@btime wlasne($A);"
   ]
  },
  {
   "cell_type": "code",
   "execution_count": null,
   "id": "e1f11732",
   "metadata": {},
   "outputs": [],
   "source": [
    "function wlasne(A)\n",
    "    p = PreparataSarwate(A)\n",
    "    λ = roots(p)\n",
    "end\n",
    "\n",
    "@btime wlasne($A);"
   ]
  },
  {
   "cell_type": "code",
   "execution_count": null,
   "id": "5199fb74",
   "metadata": {},
   "outputs": [],
   "source": [
    "@btime eigvals($A);"
   ]
  },
  {
   "cell_type": "markdown",
   "id": "e594fef3",
   "metadata": {},
   "source": [
    "Niestety, w przypadku dużych macierzy nasz wielomian charakterystyczny jest wysokiego stopnia a jego współczynniki mogą mieć taką rozpiętość wartości, że trudno je objąć zakresem wartości Float64.\n",
    "\n",
    "Poza tym, niezbyt często jesteśmy zainteresowani **wszystkimi** wartościami własnymi. Zwykle interesuje nas najwyżej kilka największych lub najmniejszych."
   ]
  }
 ],
 "metadata": {
  "kernelspec": {
   "display_name": "Julia 1.9",
   "language": "julia",
   "name": "julia-1.1"
  },
  "language_info": {
   "file_extension": ".jl",
   "mimetype": "application/julia",
   "name": "julia",
   "version": "1.9.0"
  }
 },
 "nbformat": 4,
 "nbformat_minor": 5
}
